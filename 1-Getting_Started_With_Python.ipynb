{
  "metadata": {
    "kernelspec": {
      "name": "python",
      "display_name": "Python (Pyodide)",
      "language": "python"
    },
    "language_info": {
      "codemirror_mode": {
        "name": "python",
        "version": 3
      },
      "file_extension": ".py",
      "mimetype": "text/x-python",
      "name": "python",
      "nbconvert_exporter": "python",
      "pygments_lexer": "ipython3",
      "version": "3.8"
    },
    "prev_pub_hash": "ca1310ac17e8c0d981423b0a99104e3f393f1263e1c63d2826b8166e16846e36"
  },
  "nbformat_minor": 4,
  "nbformat": 4,
  "cells": [
    {
      "cell_type": "markdown",
      "source": "<p style=\"text-align:center\">\n    <a href=\"https://skills.network\" target=\"_blank\">\n    <img src=\"https://cf-courses-data.s3.us.cloud-object-storage.appdomain.cloud/assets/logos/SN_web_lightmode.png\" width=\"300\" alt=\"Skills Network Logo\">\n    </a>\n</p>\n\n\n# Writing Your First Python Code\n\n\nEstimated time needed: **10** minutes\n    \n\n## Objectives\n\nAfter completing this lab you will be able to:\n* Write your basic python code\n\n",
      "metadata": {}
    },
    {
      "cell_type": "markdown",
      "source": "<h2>Table of Contents</h2>\n<div class=\"alert alert-block alert-info\" style=\"margin-top: 20px\">\n    <ul>\n        <li>\n            <a href=\"#Say-'Hello'-to-the-world-in-Python\">Say 'Hello' to the world in Python</a>\n            <ul>\n                <li><a href=\"#What-version-of-Python-are-we-using?\">What version of Python are we using?</a></li>\n                <li><a href=\"#Writing-comments-in-Python\">Writing comments in Python</a></li>\n                <li><a href=\"#Errors-in-Python\">Errors in Python</a></li>\n                <li><a href=\"#Does-Python-know-about-your-error-before-it-runs-your-code?\">Does Python know about your error before it runs your code?</a></li>\n                <li><a href=\"#Exercise:-Your-First-Program\">Exercise: Your First Program</a></li>\n            </ul>\n        </li>\n       \n   \n",
      "metadata": {}
    },
    {
      "cell_type": "markdown",
      "source": "## Say 'Hello' to the world in Python\n",
      "metadata": {}
    },
    {
      "cell_type": "markdown",
      "source": "When learning a new programming language, it is customary to start with an \"hello world\" example. As simple as it is, this one line of code will ensure that we know how to print a string in output and how to execute code within cells in a notebook.\n",
      "metadata": {}
    },
    {
      "cell_type": "markdown",
      "source": "<hr/>\n<div class=\"alert alert-success alertsuccess\" style=\"margin-top: 20px\">\n[Tip]: To execute the Python code in the code cell below, click on the cell to select it and press <kbd>Shift</kbd> + <kbd>Enter</kbd>.\n</div>\n<hr/>\n",
      "metadata": {}
    },
    {
      "cell_type": "code",
      "source": "# Try your first Python output\n\nprint('Hello, Python!')",
      "metadata": {
        "trusted": true
      },
      "outputs": [
        {
          "name": "stdout",
          "text": "Hello, Python!\n",
          "output_type": "stream"
        }
      ],
      "execution_count": 1
    },
    {
      "cell_type": "markdown",
      "source": "After executing the cell above, you should see that Python prints <code>Hello, Python!</code>. Congratulations on running your first Python code!\n",
      "metadata": {}
    },
    {
      "cell_type": "markdown",
      "source": "<hr/>\n<div class=\"alert alert-success alertsuccess\" style=\"margin-top: 20px\">\n    [Tip:] <code>print()</code> is a function. You passed the string <code>'Hello, Python!'</code> as an argument to instruct Python on what to print.\n</div>\n<hr/>\n",
      "metadata": {}
    },
    {
      "cell_type": "markdown",
      "source": "### What version of Python are we using?\n",
      "metadata": {}
    },
    {
      "cell_type": "markdown",
      "source": "<p>\n    There are two popular versions of the Python programming language in use today: Python 2 and Python 3. The Python community has decided to move on from Python 2 to Python 3, and many popular libraries have announced that they will no longer support Python 2.\n</p>\n<p>\n    Since Python 3 is the future, in this course we will be using it exclusively. How do we know that our notebook is executed by a Python 3 runtime? We can look in the top-right hand corner of this notebook and see \"Python 3\".\n</p>\n<p>\n    We can also ask Python directly and obtain a detailed answer. Try executing the following code:\n</p>\n",
      "metadata": {}
    },
    {
      "cell_type": "markdown",
      "source": "<p>\n    Il existe deux versions populaires du langage de programmation Python utilisées aujourd’hui : Python 2 et Python 3. La communauté Python a décidé de passer de Python 2 à Python 3, et de nombreuses bibliothèques populaires ont annoncé qu’elles ne supporteraient plus Python 2.\n</p>\n<p>\nPuisque Python 3 est l’avenir, dans ce cours, nous l’utiliserons exclusivement. Comment savons-nous que notre notebook est exécuté par un runtime Python 3 ? Nous pouvons regarder dans le coin supérieur droit de ce carnet et voir « Python 3 ».\n</p>\n<p>\n    Nous pouvons également demander directement à Python et obtenir une réponse détaillée. Essayez d’exécuter le code suivant :\n</p>",
      "metadata": {}
    },
    {
      "cell_type": "code",
      "source": "# Check the Python Version\n\nimport sys\nprint(sys.version)",
      "metadata": {
        "trusted": true
      },
      "outputs": [
        {
          "name": "stdout",
          "text": "3.11.3 (main, Jan 18 2024, 19:07:12) [Clang 18.0.0 (https://github.com/llvm/llvm-project 75501f53624de92aafce2f1da698\n",
          "output_type": "stream"
        }
      ],
      "execution_count": 2
    },
    {
      "cell_type": "markdown",
      "source": "<hr/>\n<div class=\"alert alert-success alertsuccess\" style=\"margin-top: 20px\">\n    [Tip:] <code>sys</code> is a built-in module that contains many system-specific parameters and functions, including the Python version in use. Before using it, we must explictly <code>import</code> it.\n</div>\n<hr/>\n",
      "metadata": {}
    },
    {
      "cell_type": "markdown",
      "source": "[Astuce :] sys est un module intégré qui contient de nombreux paramètres et fonctions spécifiques au système, y compris la version Python utilisée. Avant de l’utiliser, nous devons l’importer explicitement.",
      "metadata": {}
    },
    {
      "cell_type": "markdown",
      "source": "### Writing comments in Python\n",
      "metadata": {}
    },
    {
      "cell_type": "markdown",
      "source": "<p>\n    In addition to writing code, note that it's always a good idea to add comments to your code. It will help others understand what you were trying to accomplish (the reason why you wrote a given snippet of code). Not only does this help <strong>other people</strong> understand your code, it can also serve as a reminder <strong>to you</strong> when you come back to it weeks or months later.</p>\n\n<p>\n    To write comments in Python, use the number symbol <code>#</code> before writing your comment. When you run your code, Python will ignore everything past the <code>#</code> on a given line.\n</p>\n",
      "metadata": {}
    },
    {
      "cell_type": "markdown",
      "source": "# Écrire des commentaires en Python",
      "metadata": {}
    },
    {
      "cell_type": "markdown",
      "source": "En plus d’écrire du code, notez que c’est toujours une bonne idée d’ajouter des commentaires à votre code. Cela aidera les autres à comprendre ce que vous essayiez d’accomplir (la raison pour laquelle vous avez écrit un extrait de code donné). Non seulement cela aide d’autres personnes à comprendre votre code, mais cela peut également vous servir de rappel lorsque vous y revenez des semaines ou des mois plus tard.",
      "metadata": {}
    },
    {
      "cell_type": "code",
      "source": "# Practice on writing comments\n\nprint('Hello, Python!') # This line prints a string # Cette ligne imprime une chaîne",
      "metadata": {
        "trusted": true
      },
      "outputs": [
        {
          "name": "stdout",
          "text": "Hello, Python!\n",
          "output_type": "stream"
        }
      ],
      "execution_count": 3
    },
    {
      "cell_type": "markdown",
      "source": "<p>\n    After executing the cell above, you should notice that <code>This line prints a string</code> did not appear in the output, because it was a comment (and thus ignored by Python).\n</p>\n<p>\n    The second line was also not executed because <code>print('Hi')</code> was preceded by the number sign (<code>#</code>) as well! Since this isn't an explanatory comment from the programmer, but an actual line of code, we might say that the programmer <em>commented out</em> that second line of code.\n</p>\n",
      "metadata": {}
    },
    {
      "cell_type": "markdown",
      "source": "<p>\n    Après avoir exécuté la cellule ci-dessus, vous devriez remarquer que <code>Cette ligne affiche une chaîne</code> n’est pas apparue dans la sortie, car il s’agissait d’un commentaire (et donc ignoré par Python).\n</p>\n<p>\n    La deuxième ligne n’a pas non plus été exécutée car <code>print('Hi')</code> était précédé du signe dièse (<code>#</code>) également ! Comme il ne s’agit pas d’un commentaire explicatif du programmeur, mais d’une véritable ligne de code, nous pourrions dire que le programmeur <em>a commenté</em> cette deuxième ligne de code.\n</p>",
      "metadata": {}
    },
    {
      "cell_type": "markdown",
      "source": "<h3 id=\"errors\">Errors in Python</h3>\n",
      "metadata": {}
    },
    {
      "cell_type": "markdown",
      "source": "<p>Everyone makes mistakes. For many types of mistakes, Python will tell you that you have made a mistake by giving you an error message. It is important to read error messages carefully to really understand where you made a mistake and how you may go about correcting it.</p>\n<p>For example, if you spell <code>print</code> as <code>frint</code>, Python will display an error message. Give it a try:</p>\n",
      "metadata": {}
    },
    {
      "cell_type": "markdown",
      "source": "<p>Tout le monde fait des erreurs. Pour de nombreux types d’erreurs, Python vous indiquera que vous avez fait une erreur en vous donnant un message d’erreur. Il est important de lire attentivement les messages d’erreur pour bien comprendre où vous avez fait une erreur et comment vous pouvez la corriger.</p>\n<p>Par exemple, si vous écrivez <code>print</code> comme <code>frint</code>, Python affichera un message d’erreur. Essayez-le :</p>",
      "metadata": {}
    },
    {
      "cell_type": "code",
      "source": "# Print string as error message\n\nfrint(\"Hello, Python!\")",
      "metadata": {
        "trusted": true
      },
      "outputs": [
        {
          "ename": "<class 'NameError'>",
          "evalue": "name 'frint' is not defined",
          "traceback": [
            "\u001b[0;31m---------------------------------------------------------------------------\u001b[0m",
            "\u001b[0;31mNameError\u001b[0m                                 Traceback (most recent call last)",
            "Cell \u001b[0;32mIn[4], line 3\u001b[0m\n\u001b[1;32m      1\u001b[0m \u001b[38;5;66;03m# Print string as error message\u001b[39;00m\n\u001b[0;32m----> 3\u001b[0m \u001b[43mfrint\u001b[49m(\u001b[38;5;124m\"\u001b[39m\u001b[38;5;124mHello, Python!\u001b[39m\u001b[38;5;124m\"\u001b[39m)\n",
            "\u001b[0;31mNameError\u001b[0m: name 'frint' is not defined"
          ],
          "output_type": "error"
        }
      ],
      "execution_count": 4
    },
    {
      "cell_type": "markdown",
      "source": "<p>The error message tells you: \n<ol>\n    <li>where the error occurred (more useful in large notebook cells or scripts), and</li> \n    <li>what kind of error it was (NameError)</li> \n</ol>\n<p>Here, Python attempted to run the function <code>frint</code>, but could not determine what <code>frint</code> is since it's not a built-in function and it has not been previously defined by us either.</p>\n",
      "metadata": {}
    },
    {
      "cell_type": "markdown",
      "source": "<p>Le message d’erreur vous indique : \n<ol>\n    <li>l’endroit où l’erreur s’est produite (plus utile dans les grandes cellules de bloc-notes ou les scripts), et</li> \n    <li>de quel type d’erreur il s’agissait (NameError)</li> \n</ol>\n<p>Ici, Python a tenté d’exécuter la fonction <code>frint</code>, mais n’a pas pu déterminer ce qu’est <code>frint</code> car ce n’est pas une fonction intégrée et elle n’a pas été définie auparavant par nous non plus.</p>\n",
      "metadata": {}
    },
    {
      "cell_type": "markdown",
      "source": "<p>\n    You'll notice that if we make a different type of mistake, by forgetting to close the string, we'll obtain a different error (i.e., a <code>SyntaxError</code>). Try it below:\n</p>\n",
      "metadata": {}
    },
    {
      "cell_type": "markdown",
      "source": "<p>\n    Vous remarquerez que si nous faisons un autre type d’erreur, en oubliant de fermer la chaîne, nous obtiendrons une erreur différente (c’est-à-dire une <code>SyntaxError</code>). Essayez-le ci-dessous :\n</p>\n",
      "metadata": {}
    },
    {
      "cell_type": "code",
      "source": "# Try to see built-in error message\n\nprint(\"Hello, Python!)",
      "metadata": {
        "trusted": true
      },
      "outputs": [
        {
          "ename": "<class 'SyntaxError'>",
          "evalue": "unterminated string literal (detected at line 3) (<ipython-input-5-f0b5a635e1a2>, line 3)",
          "traceback": [
            "\u001b[0;36m  Cell \u001b[0;32mIn[5], line 3\u001b[0;36m\u001b[0m\n\u001b[0;31m    print(\"Hello, Python!)\u001b[0m\n\u001b[0m          ^\u001b[0m\n\u001b[0;31mSyntaxError\u001b[0m\u001b[0;31m:\u001b[0m unterminated string literal (detected at line 3)\n"
          ],
          "output_type": "error"
        }
      ],
      "execution_count": 5
    },
    {
      "cell_type": "markdown",
      "source": "### Does Python know about your error before it runs your code?\n",
      "metadata": {}
    },
    {
      "cell_type": "markdown",
      "source": "### Python connaît-il votre erreur avant d’exécuter votre code ?",
      "metadata": {}
    },
    {
      "cell_type": "markdown",
      "source": "Python is what is called an <em>interpreted language</em>. Compiled languages examine your entire program at compile time, and are able to warn you about a whole class of errors prior to execution. In contrast, Python interprets your script line by line as it executes it. Python will stop executing the entire program when it encounters an error (unless the error is expected and handled by the programmer, a more advanced subject that we'll cover later on in this course).\n",
      "metadata": {}
    },
    {
      "cell_type": "markdown",
      "source": "Python est ce qu’on appelle un <em>langage interprété</em>. Les langages compilés examinent l’ensemble de votre programme au moment de la compilation et sont capables de vous avertir de toute une classe d’erreurs avant l’exécution. En revanche, Python interprète votre script ligne par ligne au fur et à mesure qu’il l’exécute.Python arrêtera d’exécuter l’ensemble du programme lorsqu’il rencontrera une erreur (à moins que l’erreur ne soit attendue et gérée par le programmeur, un sujet plus avancé que nous aborderons plus tard dans ce cours).",
      "metadata": {}
    },
    {
      "cell_type": "markdown",
      "source": "Try to run the code in the cell below and see what happens:\n",
      "metadata": {}
    },
    {
      "cell_type": "markdown",
      "source": "Essayez d’exécuter le code dans la cellule ci-dessous et voyez ce qui se passe :",
      "metadata": {}
    },
    {
      "cell_type": "code",
      "source": "# Print string and error to see the running order\n\nprint(\"This will be printed\")\nfrint(\"This will cause an error\")\nprint(\"This will NOT be printed\")",
      "metadata": {
        "trusted": true
      },
      "outputs": [
        {
          "name": "stdout",
          "text": "This will be printed\n",
          "output_type": "stream"
        },
        {
          "ename": "<class 'NameError'>",
          "evalue": "name 'frint' is not defined",
          "traceback": [
            "\u001b[0;31m---------------------------------------------------------------------------\u001b[0m",
            "\u001b[0;31mNameError\u001b[0m                                 Traceback (most recent call last)",
            "Cell \u001b[0;32mIn[6], line 4\u001b[0m\n\u001b[1;32m      1\u001b[0m \u001b[38;5;66;03m# Print string and error to see the running order\u001b[39;00m\n\u001b[1;32m      3\u001b[0m \u001b[38;5;28mprint\u001b[39m(\u001b[38;5;124m\"\u001b[39m\u001b[38;5;124mThis will be printed\u001b[39m\u001b[38;5;124m\"\u001b[39m)\n\u001b[0;32m----> 4\u001b[0m \u001b[43mfrint\u001b[49m(\u001b[38;5;124m\"\u001b[39m\u001b[38;5;124mThis will cause an error\u001b[39m\u001b[38;5;124m\"\u001b[39m)\n\u001b[1;32m      5\u001b[0m \u001b[38;5;28mprint\u001b[39m(\u001b[38;5;124m\"\u001b[39m\u001b[38;5;124mThis will NOT be printed\u001b[39m\u001b[38;5;124m\"\u001b[39m)\n",
            "\u001b[0;31mNameError\u001b[0m: name 'frint' is not defined"
          ],
          "output_type": "error"
        }
      ],
      "execution_count": 6
    },
    {
      "cell_type": "markdown",
      "source": "### Exercise: Your First Program\n",
      "metadata": {}
    },
    {
      "cell_type": "markdown",
      "source": "<p>Generations of programmers have started their coding careers by simply printing \"Hello, world!\". You will be following in their footsteps.</p>\n<p>In the code cell below, use the <code>print()</code> function to print out the phrase: <code>Hello, world!</code></p>\n",
      "metadata": {}
    },
    {
      "cell_type": "markdown",
      "source": "<p>Des générations de programmeurs ont commencé leur carrière de codeur en imprimant simplement « Hello, world ! ». Vous suivrez leurs traces.</p>\n<p>Dans la cellule de code ci-dessous, utilisez la fonction <code>print()</code> pour afficher la phrase : <code>Hello, world !</code></p>",
      "metadata": {}
    },
    {
      "cell_type": "code",
      "source": "# Write your code below. Don't forget to press Shift+Enter to execute the cell\nprint(\"Hello, world!\")",
      "metadata": {
        "trusted": true
      },
      "outputs": [
        {
          "name": "stdout",
          "text": "Hello, world!\n",
          "output_type": "stream"
        }
      ],
      "execution_count": 7
    },
    {
      "cell_type": "markdown",
      "source": "<details><summary>Click here for the solution</summary>\n\n```python\nprint(\"Hello, world!\")\n\n```\n\n</details>\n",
      "metadata": {}
    },
    {
      "cell_type": "markdown",
      "source": "<p>Now, let's enhance your code with a comment. In the code cell below, print out the phrase: <code>Hello, world!</code> and comment it with the phrase <code>Print the traditional hello world</code> all in one line of code.</p>\n",
      "metadata": {}
    },
    {
      "cell_type": "markdown",
      "source": "<p>Maintenant, améliorons votre code avec un commentaire. Dans la cellule de code ci-dessous, imprimez la phrase : <code>Hello, world !</code> et commentez-la avec la phrase <code>Imprimez le traditionnel hello world</code> en une seule ligne de code.</p>\n",
      "metadata": {}
    },
    {
      "cell_type": "code",
      "source": "# Write your code below. Don't forget to press Shift+Enter to execute the cell\nprint(\"hello world\") # print the traditional hello world",
      "metadata": {
        "trusted": true
      },
      "outputs": [
        {
          "name": "stdout",
          "text": "hello world\n",
          "output_type": "stream"
        }
      ],
      "execution_count": 10
    },
    {
      "cell_type": "markdown",
      "source": "<details><summary>Click here for the solution</summary>\n\n```python\nprint(\"Hello, world!\") # Print the traditional hello world\n\n```\n\n</details>\n",
      "metadata": {}
    },
    {
      "cell_type": "markdown",
      "source": "<p>What is the value of <code>z</code> where <code>z = x + y</code>?</p>\n",
      "metadata": {}
    },
    {
      "cell_type": "code",
      "source": "Quelle est la valeur de z où z = x + y ?",
      "metadata": {
        "trusted": true
      },
      "outputs": [],
      "execution_count": null
    },
    {
      "cell_type": "code",
      "source": "# Write your code below. Don't forget to press Shift+Enter to execute the cell\nz= 3+7\nprint(z)",
      "metadata": {
        "trusted": true
      },
      "outputs": [
        {
          "name": "stdout",
          "text": "10\n",
          "output_type": "stream"
        }
      ],
      "execution_count": 12
    },
    {
      "cell_type": "markdown",
      "source": "<details><summary>Click here for the solution</summary>\n\n```python\n17\n\n```\n\n</details>\n",
      "metadata": {}
    },
    {
      "cell_type": "markdown",
      "source": "<hr>\n\n<p>Congratulations, you have completed your first lesson and hands-on lab in Python.\n<hr>\n",
      "metadata": {}
    },
    {
      "cell_type": "markdown",
      "source": "## Author\n\n<a href=\"https://www.linkedin.com/in/joseph-s-50398b136/\" target=\"_blank\">Joseph Santarcangelo</a>\n\n\n## Other contributors\n\n<a href=\"www.linkedin.com/in/jiahui-mavis-zhou-a4537814a\">Mavis Zhou</a>\n\n\n## <h3 align=\"center\"> © IBM Corporation 2023. All rights reserved. <h3/>\n",
      "metadata": {}
    },
    {
      "cell_type": "markdown",
      "source": "```toggle## Change Log\n```\n\n\n```toggle|  Date (YYYY-MM-DD) |  Version | Changed By  |  Change Description |\n```\n```toggle|---|---|---|---|\n```\n```toggle| 2023-10-30 | 2.2 | Abhishek Gagneja| Updated instructions |\n```\n```toggle| 2022-01-10  | 2.1  | Malika  | Removed the readme for GitShare|\n```\n```toggle| 2020-08-26  | 2.0  | Lavanya | Moved lab to course repo in GitLab |\n```\n",
      "metadata": {}
    }
  ]
}