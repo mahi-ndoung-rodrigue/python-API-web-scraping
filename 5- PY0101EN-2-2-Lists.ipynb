{
  "metadata": {
    "kernelspec": {
      "name": "python",
      "display_name": "Python (Pyodide)",
      "language": "python"
    },
    "language_info": {
      "codemirror_mode": {
        "name": "python",
        "version": 3
      },
      "file_extension": ".py",
      "mimetype": "text/x-python",
      "name": "python",
      "nbconvert_exporter": "python",
      "pygments_lexer": "ipython3",
      "version": "3.8"
    }
  },
  "nbformat_minor": 4,
  "nbformat": 4,
  "cells": [
    {
      "cell_type": "markdown",
      "source": "<center>\n    <img src=\"https://cf-courses-data.s3.us.cloud-object-storage.appdomain.cloud/IBMDeveloperSkillsNetwork-PY0101EN-SkillsNetwork/images/SN_web_lightmode.png\" width=\"300\" alt=\"cognitiveclass.ai logo\">\n</center>\n",
      "metadata": {}
    },
    {
      "cell_type": "markdown",
      "source": "\n# Lists in Python\n\nEstimated time needed: **30** minutes\n\n## Objectives\n\nAfter completing this lab you will be able to:\n\n*   Perform list operations in Python, including indexing, list manipulation, and copy/clone list.\n",
      "metadata": {}
    },
    {
      "cell_type": "markdown",
      "source": "# Listes en Python\n\nTemps estimé nécessaire : **30** minutes\n\n## Objectifs\n\nAprès avoir terminé cet atelier, vous serez en mesure de :\n\n* Effectuer des opérations de liste en Python, y compris l’indexation, la manipulation de liste et la copie/clonage de liste.\n",
      "metadata": {}
    },
    {
      "cell_type": "markdown",
      "source": "<h2>Table of Contents</h2>\n<div class=\"alert alert-block alert-info\" style=\"margin-thttps://op/?utm_medium=Exinfluencer&utm_source=Exinfluencer&utm_https://co/?utm_medium=Exinfluencer&utm_source=Exinfluencer&utm_content=000026UJ&utm_term=10006555&utm_id=NA-SkillsNetwork-Channel-SkillsNetworkCoursesIBMDeveloperSkillsNetworkPY0101ENSkillsNetwork19487395-2021-01-01ntent=000026UJ&utm_term=10006555&utm_id=NA-SkillsNetwork-Channel-SkillsNetworkCoursesIBMDeveloperSkillsNetworkPY0101ENSkillsNetwork19487395-2021-01-01: 20px\">\n    <ul>\n        <li>\n            <a href=\"#dataset\">About the Dataset</a>\n        </li>\n        <li>\n            <a href=\"#list\">Lists</a>\n            <ul>\n                <li><a href=\"#index\">Indexing</a></li>\n                <li><a href=\"#content\">List Content</a></li>\n                <li><a href=\"#op\">List Operations</a></li>\n                <li><a href=\"#co\">Copy and Clone List</a></li>\n            </ul>\n        </li>\n        <li>\n            <a href=\"#quiz\">Quiz on Lists</a>\n        </li>\n        <li> \n            <a href=\"#Scenario\">Scenario:Shopping List </a></li>\n    </ul>\n\n</div>\n\n<hr>\n",
      "metadata": {}
    },
    {
      "cell_type": "markdown",
      "source": "Imaginez que vous receviez des recommandations d’albums de vos amis et que vous compiliez toutes les recommandations dans un tableau, avec des informations spécifiques sur chaque album.\n\nLe tableau comporte une ligne pour chaque film et plusieurs colonnes :\n\n* **Artiste** - Nom de l’artiste\n* **Album** - Nom de l’album\n* **Released_year** - Année de sortie de l’album\n* **Length_min_sec** - Durée de l’album (heures, minutes, secondes)\n* **Genre** - Genre de l’album\n* **Music_recording_sales_millions** - Ventes d’enregistrements musicaux (en millions de dollars) sur [SONG://DATABASE] (http://www.song-database.com/?utm_medium=Exinfluencer&utm_source=Exinfluencer&utm_content=000026UJ&utm_term=10006555&utm_id=NA-SkillsNetwork-Channel-SkillsNetworkCoursesIBMDeveloperSkillsNetworkPY0101ENSkillsNetwork19487395-2021-01-01)\n* **Claimed_sales_millions** - Ventes revendiquées de l’album (en millions de dollars) sur [SONG://DATABASE](http://www.song-database.com/?utm_medium=Exinfluencer&utm_source=Exinfluencer&utm_content=000026UJ&utm_term=10006555&utm_id=NA-SkillsNetwork-Channel-SkillsNetworkCoursesIBMDeveloperSkillsNetworkPY0101ENSkillsNetwork19487395-2021-01-01)\n* * **Sortie** - Date de sortie de l’album\n* **Bande sonore** - Indique si l’album est la bande originale du film (Y) ou (N)\n* **Rating_of_friends** - Indique la note de vos amis de 1 à 10\n\n<br>\n<br>\n\nL’ensemble de données peut être vu ci-dessous :\n\n<taille de police=\"1\">\n<taille de police du tableau :xx-small>\n  <tr>\n    <th>artiste</th>\n    <th>album</th> \n    <th>libéré</th>\n    <th>longueur</th>\n    <th>genre</th> \n    <th>Ventes d’enregistrements musicaux (en millions)</th>\n    <th>Ventes déclarées (en millions)</th>\n    <th>libéré</th>\n    <th>bande sonore</th>\n    <th>Classement (amis)</th>\n  </tr>\n  <tr>\n     <td>Michael Jackson</td>\n    <td>thriller</td> \n    <td>1982</td>\n    <td>00:42:19</td>\n    <td>Pop, rock, R&B</td>\n    <td>46</td>\n    <td>65</td>\n    <td>30-nov-82</td>\n    <td></td>\n    <td>10,0</td>\n  </tr>\n  <tr>\n    <td>bisexuel</td>\n    <td>Retour en noir</td> \n    <td>1980</td>\n    <td>00:42:11</td>\n    <td>hard rock</td>\n    <td>26.1</td>\n    <td>50</td>\n    <td>25-juil-80</td>\n    <td></td>\n    <td>8,5</td>\n  </tr>\n  <tr>\n    <td>Pink Floyd</td>\n    <td>La face cachée de la lune</td> \n    <td>1973</td>\n    <td>00:42:49</td>\n    <td>rock progressif</td>\n    <td>24,2</td>\n    <td>45</td>\n    <td>01-mars-73</td>\n    <td></td>\n    <td>9,5</td>\n  </tr>\n    <tr>\n    <td>Whitney Houston</td>\n    <td>Le garde du corps</td> \n    <td>1992</td>\n    <td>00:57:44</td>\n    <td>Bande originale/R&B, soul, pop</td>\n    <td>26.1</td>\n    <td>50</td>\n    <td>25-juil-80</td>\n    <td>Y</td>\n    <td>7,0</td>\n  </tr>\n  <tr>\n    <td>Pain de viande</td>\n    <td>Chauve-souris hors de l’enfer</td> \n    <td>1977</td>\n    <td>00:46:33</td>\n    <td>Hard rock, rock progressif</td>\n    <td>20,6</td>\n    <td>43</td>\n    <td>21-oct-77</td>\n    <td></td>\n    <td>7,0</td>\n  </tr>\n    <tr>\n    <td>Aigles</td>\n    <td>Leurs plus grands succès (1971-1975)</td> \n    <td>1976</td>\n    <td>00:43:08</td>\n    <td>Rock, soft rock, folk rock</td>\n    <td>32,2</td>\n    <td>42</td>\n    <td>17-févr.-76</td>\n    <td></td>\n    <td>9,5</td>\n  </tr>\n  <tr>\n    <td>Bee Gees</td>\n    <td>La fièvre du samedi soir</td> \n    <td>1977</td>\n    <td>1:15:54</td>\n    <td>discothèque</td>\n    <td>20,6</td>\n    <td>40</td>\n    <td>15-nov-77</td>\n    <td>Y</td>\n    <td>9,0</td>\n  </tr>\n    <tr>\n    <td>Mac en bois de flotte</td>\n    <td> Rumeurs </td> \n    <td>1977</td>\n    <td>00:40:01</td>\n    <td>Roche tendre</td>\n    <td>27,9</td>\n    <td>40</td>\n    <td>04-févr.-77</td>\n    <td></td>\n    <td>9,5</td>\n  </tr>\n</table></font>",
      "metadata": {}
    },
    {
      "cell_type": "markdown",
      "source": "<a id=\"dataset\"></a>\n## About the Dataset\n",
      "metadata": {}
    },
    {
      "cell_type": "markdown",
      "source": "Imagine you received album recommendations from your friends and compiled all of the recommandations into a table, with specific information about each album.\n\nThe table has one row for each movie and several columns:\n\n*   **Artist** - Name of the artist\n*   **Album** - Name of the album\n*   **Released_year** - Year the album was released\n*   **Length_min_sec** - Length of the album (hours,minutes,seconds)\n*   **Genre** - Genre of the album\n*   **Music_recording_sales_millions** - Music recording sales (millions in USD) on [SONG://DATABASE](http://www.song-database.com/?utm_medium=Exinfluencer&utm_source=Exinfluencer&utm_content=000026UJ&utm_term=10006555&utm_id=NA-SkillsNetwork-Channel-SkillsNetworkCoursesIBMDeveloperSkillsNetworkPY0101ENSkillsNetwork19487395-2021-01-01)\n*   **Claimed_sales_millions** - Album's claimed sales (millions in USD) on [SONG://DATABASE](http://www.song-database.com/?utm_medium=Exinfluencer&utm_source=Exinfluencer&utm_content=000026UJ&utm_term=10006555&utm_id=NA-SkillsNetwork-Channel-SkillsNetworkCoursesIBMDeveloperSkillsNetworkPY0101ENSkillsNetwork19487395-2021-01-01)\n*   **Released** - Date on which the album was released\n*   **Soundtrack** - Indicates if the album is the movie soundtrack (Y) or (N)\n*   **Rating_of_friends** - Indicates the rating from your friends from 1 to 10\n\n<br>\n<br>\n\nThe Dataset can be seen below:\n\n<font size=\"1\">\n<table font-size:xx-small>\n  <tr>\n    <th>Artist</th>\n    <th>Album</th> \n    <th>Released</th>\n    <th>Length</th>\n    <th>Genre</th> \n    <th>Music recording sales (millions)</th>\n    <th>Claimed sales (millions)</th>\n    <th>Released</th>\n    <th>Soundtrack</th>\n    <th>Rating (friends)</th>\n  </tr>\n  <tr>\n    <td>Michael Jackson</td>\n    <td>Thriller</td> \n    <td>1982</td>\n    <td>00:42:19</td>\n    <td>Pop, rock, R&B</td>\n    <td>46</td>\n    <td>65</td>\n    <td>30-Nov-82</td>\n    <td></td>\n    <td>10.0</td>\n  </tr>\n  <tr>\n    <td>AC/DC</td>\n    <td>Back in Black</td> \n    <td>1980</td>\n    <td>00:42:11</td>\n    <td>Hard rock</td>\n    <td>26.1</td>\n    <td>50</td>\n    <td>25-Jul-80</td>\n    <td></td>\n    <td>8.5</td>\n  </tr>\n    <tr>\n    <td>Pink Floyd</td>\n    <td>The Dark Side of the Moon</td> \n    <td>1973</td>\n    <td>00:42:49</td>\n    <td>Progressive rock</td>\n    <td>24.2</td>\n    <td>45</td>\n    <td>01-Mar-73</td>\n    <td></td>\n    <td>9.5</td>\n  </tr>\n    <tr>\n    <td>Whitney Houston</td>\n    <td>The Bodyguard</td> \n    <td>1992</td>\n    <td>00:57:44</td>\n    <td>Soundtrack/R&B, soul, pop</td>\n    <td>26.1</td>\n    <td>50</td>\n    <td>25-Jul-80</td>\n    <td>Y</td>\n    <td>7.0</td>\n  </tr>\n    <tr>\n    <td>Meat Loaf</td>\n    <td>Bat Out of Hell</td> \n    <td>1977</td>\n    <td>00:46:33</td>\n    <td>Hard rock, progressive rock</td>\n    <td>20.6</td>\n    <td>43</td>\n    <td>21-Oct-77</td>\n    <td></td>\n    <td>7.0</td>\n  </tr>\n    <tr>\n    <td>Eagles</td>\n    <td>Their Greatest Hits (1971-1975)</td> \n    <td>1976</td>\n    <td>00:43:08</td>\n    <td>Rock, soft rock, folk rock</td>\n    <td>32.2</td>\n    <td>42</td>\n    <td>17-Feb-76</td>\n    <td></td>\n    <td>9.5</td>\n  </tr>\n    <tr>\n    <td>Bee Gees</td>\n    <td>Saturday Night Fever</td> \n    <td>1977</td>\n    <td>1:15:54</td>\n    <td>Disco</td>\n    <td>20.6</td>\n    <td>40</td>\n    <td>15-Nov-77</td>\n    <td>Y</td>\n    <td>9.0</td>\n  </tr>\n    <tr>\n    <td>Fleet wood Mac</td>\n    <td> Rumours </td> \n    <td>1977</td>\n    <td>00:40:01</td>\n    <td>Soft rock</td>\n    <td>27.9</td>\n    <td>40</td>\n    <td>04-Feb-77</td>\n    <td></td>\n    <td>9.5</td>\n  </tr>\n</table></font>\n",
      "metadata": {}
    },
    {
      "cell_type": "markdown",
      "source": "<hr>\n",
      "metadata": {}
    },
    {
      "cell_type": "markdown",
      "source": "<a id=\"list\"></a>\n## Lists\n",
      "metadata": {}
    },
    {
      "cell_type": "markdown",
      "source": "\n<a id=\"index\"></a>\n## Indexing\n",
      "metadata": {}
    },
    {
      "cell_type": "markdown",
      "source": "We are going to take a look at lists in Python. A list is a sequenced collection of different objects such as integers, strings, and even other lists as well. The address of each element within a list is called an <b>index</b>. An index is used to access and refer to items within a list.\n",
      "metadata": {}
    },
    {
      "cell_type": "markdown",
      "source": "Nous allons jeter un coup d’œil aux listes en Python. Une liste est une collection séquencée de différents objets tels que des entiers, des chaînes et même d’autres listes. L’adresse de chaque élément d’une liste est appelée index. Un index est utilisé pour accéder et faire référence aux éléments d’une liste.",
      "metadata": {}
    },
    {
      "cell_type": "markdown",
      "source": "<img src=\"https://cf-courses-data.s3.us.cloud-object-storage.appdomain.cloud/IBMDeveloperSkillsNetwork-PY0101EN-SkillsNetwork/labs/Module%202/images/ListsIndex.png\" width=\"1000\">\n",
      "metadata": {}
    },
    {
      "cell_type": "markdown",
      "source": "To create a list, type the list within square brackets <b>\\[ ]</b>, with your content inside the parenthesis and separated by commas. Let us try it!\n",
      "metadata": {}
    },
    {
      "cell_type": "markdown",
      "source": "Pour créer une liste, tapez la liste entre crochets [ ], avec votre contenu entre parenthèses et séparé par des virgules. Essayons-le !",
      "metadata": {}
    },
    {
      "cell_type": "code",
      "source": "# Create a list\n\nL = [\"Michael Jackson\", 10.1, 1982]\nL",
      "metadata": {
        "trusted": true
      },
      "outputs": [
        {
          "execution_count": 1,
          "output_type": "execute_result",
          "data": {
            "text/plain": "['Michael Jackson', 10.1, 1982]"
          },
          "metadata": {}
        }
      ],
      "execution_count": 1
    },
    {
      "cell_type": "markdown",
      "source": "We can use negative and regular indexing with a list:\n",
      "metadata": {}
    },
    {
      "cell_type": "markdown",
      "source": "Nous pouvons utiliser l’indexation négative et régulière avec une liste :",
      "metadata": {}
    },
    {
      "cell_type": "markdown",
      "source": "<img src=\"https://cf-courses-data.s3.us.cloud-object-storage.appdomain.cloud/IBMDeveloperSkillsNetwork-PY0101EN-SkillsNetwork/labs/Module%202/images/ListsNeg.png\" width=\"1000\">\n",
      "metadata": {}
    },
    {
      "cell_type": "code",
      "source": "# Print the elements on each index\n\nprint('the same element using negative and positive indexing:\\n Postive:',L[0],\n'\\n Negative:' , L[-3]  )\nprint('the same element using negative and positive indexing:\\n Postive:',L[1],\n'\\n Negative:' , L[-2]  )\nprint('the same element using negative and positive indexing:\\n Postive:',L[2],\n'\\n Negative:' , L[-1]  )",
      "metadata": {
        "trusted": true
      },
      "outputs": [
        {
          "name": "stdout",
          "text": "the same element using negative and positive indexing:\n Postive: Michael Jackson \n Negative: Michael Jackson\nthe same element using negative and positive indexing:\n Postive: 10.1 \n Negative: 10.1\nthe same element using negative and positive indexing:\n Postive: 1982 \n Negative: 1982\n",
          "output_type": "stream"
        }
      ],
      "execution_count": 2
    },
    {
      "cell_type": "markdown",
      "source": "<a id=\"content\"></a>\n## List Content\n",
      "metadata": {}
    },
    {
      "cell_type": "markdown",
      "source": "<a id=\"contenu\"></a>\n## Contenu de la liste",
      "metadata": {}
    },
    {
      "cell_type": "markdown",
      "source": "Lists can contain strings, floats, and integers. We can nest other lists, and we can also nest tuples and other data structures. The same indexing conventions apply for nesting:\n",
      "metadata": {}
    },
    {
      "cell_type": "markdown",
      "source": "Les listes peuvent contenir des chaînes, des nombres flottants et des nombres entiers. Nous pouvons imbriquer d’autres listes, et nous pouvons également imbriquer des tuples et d’autres structures de données. Les mêmes conventions d’indexation s’appliquent à l’imbrication :\n",
      "metadata": {}
    },
    {
      "cell_type": "code",
      "source": "# Sample List\n\n[\"Michael Jackson\", 10.1, 1982, [1, 2], (\"A\", 1)]",
      "metadata": {
        "trusted": true
      },
      "outputs": [
        {
          "execution_count": 3,
          "output_type": "execute_result",
          "data": {
            "text/plain": "['Michael Jackson', 10.1, 1982, [1, 2], ('A', 1)]"
          },
          "metadata": {}
        }
      ],
      "execution_count": 3
    },
    {
      "cell_type": "markdown",
      "source": "<a id=\"op\"></a>\n## List Operations\n",
      "metadata": {}
    },
    {
      "cell_type": "markdown",
      "source": "We can also perform slicing in lists. For example, if we want the last two elements, we use the following command:\n",
      "metadata": {}
    },
    {
      "cell_type": "markdown",
      "source": "Nous pouvons également effectuer le découpage dans les listes. Par exemple, si nous voulons les deux derniers éléments, nous utilisons la commande suivante :",
      "metadata": {}
    },
    {
      "cell_type": "code",
      "source": "# Sample List\n\nL = [\"Michael Jackson\", 10.1,1982,\"MJ\",1]\nL",
      "metadata": {
        "trusted": true
      },
      "outputs": [
        {
          "execution_count": 4,
          "output_type": "execute_result",
          "data": {
            "text/plain": "['Michael Jackson', 10.1, 1982, 'MJ', 1]"
          },
          "metadata": {}
        }
      ],
      "execution_count": 4
    },
    {
      "cell_type": "markdown",
      "source": "<img src=\"https://cf-courses-data.s3.us.cloud-object-storage.appdomain.cloud/IBMDeveloperSkillsNetwork-PY0101EN-SkillsNetwork/labs/Module%202/images/ListsSlice.png\" width=\"1000\">\n",
      "metadata": {}
    },
    {
      "cell_type": "code",
      "source": "# List slicing\n\nL[3:5]",
      "metadata": {
        "trusted": true
      },
      "outputs": [
        {
          "execution_count": 5,
          "output_type": "execute_result",
          "data": {
            "text/plain": "['MJ', 1]"
          },
          "metadata": {}
        }
      ],
      "execution_count": 5
    },
    {
      "cell_type": "markdown",
      "source": "We can use the method <code>extend</code> to add new elements to the list:\n",
      "metadata": {}
    },
    {
      "cell_type": "code",
      "source": "# Use extend to add elements to list\n\nL = [ \"Michael Jackson\", 10.2]\nL.extend(['pop', 10])\nL",
      "metadata": {
        "trusted": true
      },
      "outputs": [
        {
          "execution_count": 6,
          "output_type": "execute_result",
          "data": {
            "text/plain": "['Michael Jackson', 10.2, 'pop', 10]"
          },
          "metadata": {}
        }
      ],
      "execution_count": 6
    },
    {
      "cell_type": "markdown",
      "source": "Another similar method is <code>append</code>. If we apply <code>append</code> instead of <code>extend</code>, we add one element to the list:\n",
      "metadata": {}
    },
    {
      "cell_type": "markdown",
      "source": "Une autre méthode similaire est append. Si nous appliquons append au lieu d’extend, nous ajoutons un élément à la liste :",
      "metadata": {}
    },
    {
      "cell_type": "code",
      "source": "# Use append to add elements to list\n\nL = [ \"Michael Jackson\", 10.2]\nL.append(['pop', 10])\nL",
      "metadata": {
        "trusted": true
      },
      "outputs": [
        {
          "execution_count": 7,
          "output_type": "execute_result",
          "data": {
            "text/plain": "['Michael Jackson', 10.2, ['pop', 10]]"
          },
          "metadata": {}
        }
      ],
      "execution_count": 7
    },
    {
      "cell_type": "markdown",
      "source": "Each time we apply a method, the list changes. If we apply <code>extend</code> we add two new elements to the list. The list <code>L</code> is then modified by adding two new elements:\n",
      "metadata": {}
    },
    {
      "cell_type": "markdown",
      "source": "Chaque fois que nous appliquons une méthode, la liste change. Si nous appliquons étendre, nous ajoutons deux nouveaux éléments à la liste. La liste L est ensuite modifiée par l’ajout de deux nouveaux éléments :",
      "metadata": {}
    },
    {
      "cell_type": "code",
      "source": "# Use extend to add elements to list\n\nL = [ \"Michael Jackson\", 10.2]\nL.extend(['pop', 10])\nL",
      "metadata": {
        "trusted": true
      },
      "outputs": [
        {
          "execution_count": 8,
          "output_type": "execute_result",
          "data": {
            "text/plain": "['Michael Jackson', 10.2, 'pop', 10]"
          },
          "metadata": {}
        }
      ],
      "execution_count": 8
    },
    {
      "cell_type": "markdown",
      "source": "If we append the list  <code>\\['a','b']</code> we have one new element consisting of a nested list:\n",
      "metadata": {}
    },
    {
      "cell_type": "markdown",
      "source": "Si nous ajoutons la liste <code>['a','b'],</code> nous avons un nouvel élément constitué d’une liste imbriquée :",
      "metadata": {}
    },
    {
      "cell_type": "code",
      "source": "# Use append to add elements to list\n\nL.append(['a','b'])\nL",
      "metadata": {
        "trusted": true
      },
      "outputs": [
        {
          "execution_count": 9,
          "output_type": "execute_result",
          "data": {
            "text/plain": "['Michael Jackson', 10.2, 'pop', 10, ['a', 'b']]"
          },
          "metadata": {}
        }
      ],
      "execution_count": 9
    },
    {
      "cell_type": "markdown",
      "source": "As lists are mutable, we can change them. For example, we can change the first element as follows:\n",
      "metadata": {}
    },
    {
      "cell_type": "markdown",
      "source": "Comme les listes sont muables, nous pouvons les modifier. Par exemple, nous pouvons modifier le premier élément comme suit :",
      "metadata": {}
    },
    {
      "cell_type": "code",
      "source": "# Change the element based on the index\n\nA = [\"disco\", 10, 1.2]\nprint('Before change:', A)\nA[0] = 'hard rock'\nprint('After change:', A)",
      "metadata": {
        "trusted": true
      },
      "outputs": [
        {
          "name": "stdout",
          "text": "Before change: ['disco', 10, 1.2]\nAfter change: ['hard rock', 10, 1.2]\n",
          "output_type": "stream"
        }
      ],
      "execution_count": 10
    },
    {
      "cell_type": "markdown",
      "source": "We can also delete an element of a list using the <code>del</code> command:\n",
      "metadata": {}
    },
    {
      "cell_type": "code",
      "source": "# Delete the element based on the index\n\nprint('Before change:', A)\ndel(A[0])\nprint('After change:', A)",
      "metadata": {
        "trusted": true
      },
      "outputs": [
        {
          "name": "stdout",
          "text": "Before change: ['hard rock', 10, 1.2]\nAfter change: [10, 1.2]\n",
          "output_type": "stream"
        }
      ],
      "execution_count": 11
    },
    {
      "cell_type": "markdown",
      "source": "We can convert a string to a list using <code>split</code>.  For example, the method <code>split</code> translates every group of characters separated by a space into an element in a list:\n",
      "metadata": {}
    },
    {
      "cell_type": "markdown",
      "source": "Nous pouvons convertir une chaîne en liste en utilisant <code>split</code>.  Par exemple, la méthode <code>split</code> traduit chaque groupe de caractères séparés par un espace en un élément d’une liste :\n",
      "metadata": {}
    },
    {
      "cell_type": "code",
      "source": "# Split the string, default is by space\n\n'hard rock'.split()",
      "metadata": {
        "trusted": true
      },
      "outputs": [
        {
          "execution_count": 12,
          "output_type": "execute_result",
          "data": {
            "text/plain": "['hard', 'rock']"
          },
          "metadata": {}
        }
      ],
      "execution_count": 12
    },
    {
      "cell_type": "markdown",
      "source": "We can use the split function to separate strings on a specific character which we call a **delimiter**. We pass the character we would like to split on into the argument, which in this case is a comma.  The result is a list, and each element corresponds to a set of characters that have been separated by a comma:\n",
      "metadata": {}
    },
    {
      "cell_type": "markdown",
      "source": "Nous pouvons utiliser la fonction split pour séparer les chaînes d’un caractère spécifique que nous appelons un **délimiteur**. Nous passons le caractère sur lequel nous aimerions nous séparer dans l’argument, qui dans ce cas est une virgule.  Le résultat est une liste, et chaque élément correspond à un ensemble de caractères séparés par une virgule :",
      "metadata": {}
    },
    {
      "cell_type": "code",
      "source": "# Split the string by comma\n\n'A,B,C,D'.split(',')",
      "metadata": {
        "trusted": true
      },
      "outputs": [
        {
          "execution_count": 13,
          "output_type": "execute_result",
          "data": {
            "text/plain": "['A', 'B', 'C', 'D']"
          },
          "metadata": {}
        }
      ],
      "execution_count": 13
    },
    {
      "cell_type": "markdown",
      "source": "<a id=\"co\"></a>\n## Copy and Clone List\n",
      "metadata": {}
    },
    {
      "cell_type": "markdown",
      "source": "<a id=\"co\"></a>\n## Copier et cloner la liste",
      "metadata": {}
    },
    {
      "cell_type": "code",
      "source": "",
      "metadata": {
        "trusted": true
      },
      "outputs": [],
      "execution_count": null
    },
    {
      "cell_type": "markdown",
      "source": "When we set one variable <b>B</b> equal to <b>A</b>, both <b>A</b> and <b>B</b> are referencing the same list in memory:\n",
      "metadata": {}
    },
    {
      "cell_type": "markdown",
      "source": "Lorsque nous définissons une variable <b>B</b> égale à <b>A</b>, <b>A</b> et <b>B</b> font référence à la même liste en mémoire :",
      "metadata": {}
    },
    {
      "cell_type": "code",
      "source": "# Copy (copy by reference) the list A\n\nA = [\"hard rock\", 10, 1.2]\nB = A\nprint('A:', A)\nprint('B:', B)",
      "metadata": {
        "trusted": true
      },
      "outputs": [
        {
          "name": "stdout",
          "text": "A: ['hard rock', 10, 1.2]\nB: ['hard rock', 10, 1.2]\n",
          "output_type": "stream"
        }
      ],
      "execution_count": 15
    },
    {
      "cell_type": "markdown",
      "source": "<img src=\"https://cf-courses-data.s3.us.cloud-object-storage.appdomain.cloud/IBMDeveloperSkillsNetwork-PY0101EN-SkillsNetwork/labs/Module%202/images/ListsRef.png\" width=\"1000\" align=\"center\">\n",
      "metadata": {}
    },
    {
      "cell_type": "markdown",
      "source": "Initially, the value of the first element in <b>B</b> is set as \"hard rock\". If we change the first element in <b>A</b> to <b>\"banana\"</b>, we get an unexpected side effect.  As <b>A</b> and <b>B</b> are referencing the same list, if we change list <b>A</b>, then list <b>B</b> also changes. If we check the first element of <b>B</b> we get \"banana\" instead of \"hard rock\":\n",
      "metadata": {}
    },
    {
      "cell_type": "markdown",
      "source": "Initialement, la valeur du premier élément de <b>B</b> est fixée à « hard rock ». Si nous changeons le premier élément de <b>A</b> en <b>« banane »,</b> nous obtenons un effet secondaire inattendu.  Comme <b>A</b> et <b>B</b> font référence à la même liste, si nous changeons la liste <b>A</b>, alors la liste <b>B</b> change également. Si nous vérifions le premier élément de <b>B</b>, nous obtenons « banane » au lieu de « hard rock » :",
      "metadata": {}
    },
    {
      "cell_type": "code",
      "source": "# Examine the copy by reference\n\nprint('B[0]:', B[0])\nA[0] = \"banana\"\nprint('B[0]:', B[0])",
      "metadata": {
        "trusted": true
      },
      "outputs": [
        {
          "name": "stdout",
          "text": "B[0]: hard rock\nB[0]: banana\n",
          "output_type": "stream"
        }
      ],
      "execution_count": 16
    },
    {
      "cell_type": "markdown",
      "source": "This is demonstrated in the following figure:\n",
      "metadata": {}
    },
    {
      "cell_type": "markdown",
      "source": "<img src=\"https://cf-courses-data.s3.us.cloud-object-storage.appdomain.cloud/IBMDeveloperSkillsNetwork-PY0101EN-SkillsNetwork/labs/Module%202/images/ListsRefGif.gif\" width=\"1000\">\n",
      "metadata": {}
    },
    {
      "cell_type": "markdown",
      "source": "You can clone list **A** by using  the following syntax:\n",
      "metadata": {}
    },
    {
      "cell_type": "markdown",
      "source": "Vous pouvez cloner la liste A à l’aide de la syntaxe suivante :",
      "metadata": {}
    },
    {
      "cell_type": "code",
      "source": "# Clone (clone by value) the list A\n\nB = A[:]\nB",
      "metadata": {
        "trusted": true
      },
      "outputs": [
        {
          "execution_count": 17,
          "output_type": "execute_result",
          "data": {
            "text/plain": "['banana', 10, 1.2]"
          },
          "metadata": {}
        }
      ],
      "execution_count": 17
    },
    {
      "cell_type": "markdown",
      "source": "Variable **B** references a new copy or clone of the original list. This is demonstrated in the following figure:\n",
      "metadata": {}
    },
    {
      "cell_type": "markdown",
      "source": "La variable **B** fait référence à une nouvelle copie ou à un clone de la liste d’origine. Ceci est illustré dans la figure suivante :",
      "metadata": {}
    },
    {
      "cell_type": "markdown",
      "source": "<img src=\"https://cf-courses-data.s3.us.cloud-object-storage.appdomain.cloud/IBMDeveloperSkillsNetwork-PY0101EN-SkillsNetwork/labs/Module%202/images/ListsVal.gif\" width=\"1000\">\n",
      "metadata": {}
    },
    {
      "cell_type": "markdown",
      "source": "Now if you change <b>A</b>, <b>B</b> will not change:\n",
      "metadata": {}
    },
    {
      "cell_type": "code",
      "source": "print('B[0]:', B[0])\nA[0] = \"hard rock\"\nprint('B[0]:', B[0])",
      "metadata": {
        "trusted": true
      },
      "outputs": [
        {
          "name": "stdout",
          "text": "B[0]: banana\nB[0]: banana\n",
          "output_type": "stream"
        }
      ],
      "execution_count": 18
    },
    {
      "cell_type": "markdown",
      "source": "<a id=\"quiz\"></a>\n## Quiz on List\n",
      "metadata": {}
    },
    {
      "cell_type": "markdown",
      "source": "Create a list <code>a_list</code>, with the following elements <code>1</code>, <code>hello</code>, <code>\\[1,2,3]</code> and <code>True</code>.\n",
      "metadata": {}
    },
    {
      "cell_type": "code",
      "source": "# Write your code below and press Shift+Enter to execute\na_list= [1, \"hello\", [1,2,3], True]\na_list",
      "metadata": {
        "trusted": true
      },
      "outputs": [
        {
          "execution_count": 19,
          "output_type": "execute_result",
          "data": {
            "text/plain": "[1, 'hello', [1, 2, 3], True]"
          },
          "metadata": {}
        }
      ],
      "execution_count": 19
    },
    {
      "cell_type": "markdown",
      "source": "<details><summary>Click here for the solution</summary>\n\n```python\na_list = [1, 'hello', [1, 2, 3] , True]\na_list\n\n```\n\n</details>\n",
      "metadata": {}
    },
    {
      "cell_type": "markdown",
      "source": "Find the value stored at index 1 of <code>a_list</code>.\n",
      "metadata": {}
    },
    {
      "cell_type": "markdown",
      "source": "Trouvez la valeur stockée à l’index 1 de a_list.",
      "metadata": {}
    },
    {
      "cell_type": "code",
      "source": "# Write your code below and press Shift+Enter to execute\na_list[1]",
      "metadata": {
        "trusted": true
      },
      "outputs": [
        {
          "execution_count": 20,
          "output_type": "execute_result",
          "data": {
            "text/plain": "'hello'"
          },
          "metadata": {}
        }
      ],
      "execution_count": 20
    },
    {
      "cell_type": "markdown",
      "source": "<details><summary>Click here for the solution</summary>\n\n```python\na_list[1]\n\n```\n\n</details>\n",
      "metadata": {}
    },
    {
      "cell_type": "markdown",
      "source": "Retrieve the elements stored at index 1, 2 and 3 of <code>a_list</code>.\n",
      "metadata": {}
    },
    {
      "cell_type": "code",
      "source": "# Write your code below and press Shift+Enter to execute\na_list[1:4]",
      "metadata": {
        "trusted": true
      },
      "outputs": [
        {
          "execution_count": 21,
          "output_type": "execute_result",
          "data": {
            "text/plain": "['hello', [1, 2, 3], True]"
          },
          "metadata": {}
        }
      ],
      "execution_count": 21
    },
    {
      "cell_type": "markdown",
      "source": "<details><summary>Click here for the solution</summary>\n\n```python\na_list[1:4]\n\n```\n\n</details>\n",
      "metadata": {}
    },
    {
      "cell_type": "markdown",
      "source": "Concatenate the following lists <code>A = \\[1, 'a']</code> and <code>B = \\[2, 1, 'd']</code>:\n",
      "metadata": {}
    },
    {
      "cell_type": "code",
      "source": "# Write your code below and press Shift+Enter to execute\nA = [1, 'a']\nB = [2, 1, 'd']\nA+B",
      "metadata": {
        "trusted": true
      },
      "outputs": [
        {
          "execution_count": 22,
          "output_type": "execute_result",
          "data": {
            "text/plain": "[1, 'a', 2, 1, 'd']"
          },
          "metadata": {}
        }
      ],
      "execution_count": 22
    },
    {
      "cell_type": "markdown",
      "source": "<details><summary>Click here for the solution</summary>\n\n```python\nA = [1, 'a'] \nB = [2, 1, 'd']\nA + B\n\n```\n\n</details>\n",
      "metadata": {}
    },
    {
      "cell_type": "markdown",
      "source": "<a id=\"Scenario\"></a>\n## Scenario : Shopping list \n",
      "metadata": {}
    },
    {
      "cell_type": "markdown",
      "source": "# Task-1  Create an empty list\nAt first we need to create a empty list for storing the items to buy in Shopping list.\n",
      "metadata": {}
    },
    {
      "cell_type": "markdown",
      "source": "# Tâche-1 Créer une liste vide\nDans un premier temps, nous devons créer une liste vide pour stocker les articles à acheter dans la liste d’achats.\n",
      "metadata": {}
    },
    {
      "cell_type": "code",
      "source": "#Type your code here\nShopping_list= []",
      "metadata": {
        "trusted": true
      },
      "outputs": [],
      "execution_count": 24
    },
    {
      "cell_type": "markdown",
      "source": "<details><summary>Click here for the solution</summary>\n\n```python\nShopping_list=[]\n\n```\n\n</details>\n",
      "metadata": {}
    },
    {
      "cell_type": "markdown",
      "source": "# Task-2 Now store the number of items to the shopping_list\n* Watch\n* Laptop\n* Shoes\n* Pen\n* Clothes\n\n\n<br>\n\n",
      "metadata": {}
    },
    {
      "cell_type": "markdown",
      "source": "# Tâche-2 Stockez maintenant le nombre d’éléments dans le shopping_list\n*Montre\n\n*Ordinateur portable\n\n*Chaussures\n\n*Stylo\n\n*Vêtement\n\n<br>",
      "metadata": {}
    },
    {
      "cell_type": "code",
      "source": "#Type your code here\nShopping_list= [\"Watch\",\"Laptop\", \"Shoes\", \"Pen\", \"Clothes\"]",
      "metadata": {
        "trusted": true
      },
      "outputs": [],
      "execution_count": 26
    },
    {
      "cell_type": "markdown",
      "source": "<details><summary>Cliquez ici pour l’indice </summary>\n\n'''python\nAstuce :- Stockez directement chaque élément sous la forme d’une chaîne différente dans la liste.\n\n```\n\n</details>",
      "metadata": {}
    },
    {
      "cell_type": "markdown",
      "source": "<details><summary>Click here for the hint </summary>\n\n```python\nHint:- Directly store every item as a different string in the list.\n\n```\n\n</details>\n",
      "metadata": {}
    },
    {
      "cell_type": "markdown",
      "source": "<details><summary>Click here for the solution</summary>\n\n```python\nShopping_list=[\"Watch\",\"Laptop\",\"Shoes\",\"Pen\",\"Clothes\"]\n\n```\n\n</details>\n",
      "metadata": {}
    },
    {
      "cell_type": "markdown",
      "source": "# Task-3 Add a new item to the shopping_list\nSeems like I missed one item \"Football\" to add in the shopping list.\n<br>\n",
      "metadata": {}
    },
    {
      "cell_type": "markdown",
      "source": "# Tâche-3 Ajouter un nouvel élément au shopping_list\nOn dirait que j’ai oublié un élément « Football » à ajouter à la liste de courses.\n<br>",
      "metadata": {}
    },
    {
      "cell_type": "code",
      "source": "#Type your code here\nShopping_list.append(\"Football\")",
      "metadata": {
        "trusted": true
      },
      "outputs": [],
      "execution_count": 29
    },
    {
      "cell_type": "markdown",
      "source": "<details><summary>Click here for the hint </summary>\n\n```python\nHint:- Use `Append()` method for adding \"Football\" to our shopping list\n\n```\n\n</details>\n",
      "metadata": {}
    },
    {
      "cell_type": "markdown",
      "source": "<details><summary>Click here for the solution</summary>\n\n```python\nShopping_list.append(\"Football\")\n\n```\n\n</details>\n",
      "metadata": {}
    },
    {
      "cell_type": "markdown",
      "source": "# Task-4 Print First item from the shopping_list\nLet's check the first item that we need to buy.\n<br>\n",
      "metadata": {}
    },
    {
      "cell_type": "markdown",
      "source": "# Tâche-4 Imprimer le premier élément de la shopping_list\nVérifions le premier article que nous devons acheter.\n<br>",
      "metadata": {}
    },
    {
      "cell_type": "code",
      "source": "#Type your code here\nShopping_list[0]",
      "metadata": {
        "trusted": true
      },
      "outputs": [
        {
          "execution_count": 30,
          "output_type": "execute_result",
          "data": {
            "text/plain": "'Watch'"
          },
          "metadata": {}
        }
      ],
      "execution_count": 30
    },
    {
      "cell_type": "code",
      "source": "print(Shopping_list[0])",
      "metadata": {
        "trusted": true
      },
      "outputs": [
        {
          "name": "stdout",
          "text": "Watch\n",
          "output_type": "stream"
        }
      ],
      "execution_count": 31
    },
    {
      "cell_type": "markdown",
      "source": "<details><summary>Click here for the hint </summary>\n\n```python\nHint:- Use `indexing` for checking the first item.\n\n```\n\n</details>\n",
      "metadata": {}
    },
    {
      "cell_type": "markdown",
      "source": "<details><summary>Cliquez ici pour l’indice </summary>\n\n'''python\nAstuce :- Utilisez 'indexation' pour vérifier le premier élément.\n\n```\n\n</details>",
      "metadata": {}
    },
    {
      "cell_type": "markdown",
      "source": "<details><summary>Click here for the solution</summary>\n\n```python\nprint(Shopping_list[0])\n\n```\n\n</details>\n",
      "metadata": {}
    },
    {
      "cell_type": "markdown",
      "source": "# Task-5 Print Last item from the shopping_list\nLet's check the last time that we need to buy.\n<br>\n",
      "metadata": {}
    },
    {
      "cell_type": "code",
      "source": "#Type your code here\nprint(Shopping_list[-1])",
      "metadata": {
        "trusted": true
      },
      "outputs": [
        {
          "name": "stdout",
          "text": "Football\n",
          "output_type": "stream"
        }
      ],
      "execution_count": 32
    },
    {
      "cell_type": "code",
      "source": "print(Shopping_list[5])",
      "metadata": {
        "trusted": true
      },
      "outputs": [
        {
          "name": "stdout",
          "text": "Football\n",
          "output_type": "stream"
        }
      ],
      "execution_count": 34
    },
    {
      "cell_type": "markdown",
      "source": "<details><summary>Click here for the hint </summary>\n\n```python\nHint:- Use `indexing` for checking for last item.\n\n```\n\n</details>\n",
      "metadata": {}
    },
    {
      "cell_type": "markdown",
      "source": "<details><summary>Click here for the solution</summary>\n\n```python\nprint(Shopping_list[-1])\n\n```\n\n</details>\n",
      "metadata": {}
    },
    {
      "cell_type": "markdown",
      "source": "# Task-6 Print the entire Shopping List\n# Tâche-6 Imprimer toute la liste de courses",
      "metadata": {}
    },
    {
      "cell_type": "code",
      "source": "#Type your code here.\nprint(Shopping_list[0:6])",
      "metadata": {
        "trusted": true
      },
      "outputs": [
        {
          "name": "stdout",
          "text": "['Watch', 'Laptop', 'Shoes', 'Pen', 'Clothes', 'Football']\n",
          "output_type": "stream"
        }
      ],
      "execution_count": 35
    },
    {
      "cell_type": "code",
      "source": "print(Shopping_list)",
      "metadata": {
        "trusted": true
      },
      "outputs": [
        {
          "name": "stdout",
          "text": "['Watch', 'Laptop', 'Shoes', 'Pen', 'Clothes', 'Football']\n",
          "output_type": "stream"
        }
      ],
      "execution_count": 36
    },
    {
      "cell_type": "markdown",
      "source": "<details><summary>Click here for the solution</summary>\n\n```python\nprint(Shopping_list)\n\n```\n\n</details>\n",
      "metadata": {}
    },
    {
      "cell_type": "markdown",
      "source": "# Task-7 Print the item that are important to buy from the Shopping List\nPrint \"Laptop\" and \"shoes\"\n",
      "metadata": {}
    },
    {
      "cell_type": "code",
      "source": "#Type your code here\nprint(Shopping_list[1:3])",
      "metadata": {
        "trusted": true
      },
      "outputs": [
        {
          "name": "stdout",
          "text": "['Laptop', 'Shoes']\n",
          "output_type": "stream"
        }
      ],
      "execution_count": 37
    },
    {
      "cell_type": "markdown",
      "source": "<details><summary>Click here for the hint </summary>\n\n```python\nHint:- Use `slicing` to print \"Laptop\" and \"Shoes\"\n\n```\n\n</details>\n",
      "metadata": {}
    },
    {
      "cell_type": "markdown",
      "source": "<details><summary>Cliquez ici pour l’indice </summary>\n\n'''python\nAstuce : - Utilisez 'slicing' pour imprimer « Laptop » et « Shoes »\n\n```\n\n</details>",
      "metadata": {}
    },
    {
      "cell_type": "markdown",
      "source": "<details><summary>Click here for the solution</summary>\n\n```python\nprint(Shopping_list[1:3])\n\n```\n\n</details>\n",
      "metadata": {}
    },
    {
      "cell_type": "markdown",
      "source": "# Task-8 Change the item from the shopping_list \nInstead of <u>\"Pen\"</u> I want to buy <u>\"Notebook\"</u>\nlet's change the item stored in the list.\n<br>\n\n",
      "metadata": {}
    },
    {
      "cell_type": "markdown",
      "source": "# Tâche-8 Changer l’élément de la shopping_list \nAu lieu de <u>« Pen »</u> je veux acheter <u>« Notebook »</u>\nModifions l’élément stocké dans la liste.\n<br>",
      "metadata": {}
    },
    {
      "cell_type": "code",
      "source": "#Type your code here\nShopping_list[3] = \"Notebook\"",
      "metadata": {
        "trusted": true
      },
      "outputs": [],
      "execution_count": 38
    },
    {
      "cell_type": "markdown",
      "source": "<details><summary>Cliquez ici pour l’indice </summary>\n\n'''python\nAstuce :- Localisez l’élément que vous souhaitez modifier à l’aide de 'index' et mettez à jour l’élément avec la nouvelle valeur souhaitée à l’aide de 'string'.\n\n```\n\n</details>",
      "metadata": {}
    },
    {
      "cell_type": "markdown",
      "source": "<details><summary>Click here for the hint </summary>\n\n```python\nHint:- Locate the item you want to change using `index`, and Update the item with the new desired value using `string`.\n\n```\n\n</details>\n",
      "metadata": {}
    },
    {
      "cell_type": "markdown",
      "source": "<details><summary>Click here for the solution</summary>\n\n```python\nShopping_list[3] = \"Notebook\"\n\n```\n\n</details>\n",
      "metadata": {}
    },
    {
      "cell_type": "markdown",
      "source": "# Task-9 Delete the item from the shopping_list that is not required\nLet's delete items that are unimportant, such as; I don't want to buy <u>Clothes</u>, let's delete it.\n<br>\n\n",
      "metadata": {}
    },
    {
      "cell_type": "code",
      "source": "#Type your code here\ndel(Shopping_list[4])",
      "metadata": {
        "trusted": true
      },
      "outputs": [],
      "execution_count": 39
    },
    {
      "cell_type": "markdown",
      "source": "<details><summary>Click here for the hint </summary>\n\n```python\nHint:- Use `del` method for deleting.\n\n```\n\n</details>\n",
      "metadata": {}
    },
    {
      "cell_type": "markdown",
      "source": "<details><summary>Click here for the solution</summary>\n\n```python\ndel (Shopping_list[4])\n\n```\n\n</details>\n",
      "metadata": {}
    },
    {
      "cell_type": "markdown",
      "source": "# Task-10 Print the shopping list\nWe are ready with our shopping list.\n",
      "metadata": {}
    },
    {
      "cell_type": "code",
      "source": "# Type your code he\nprint(Shopping_list)",
      "metadata": {
        "trusted": true
      },
      "outputs": [
        {
          "name": "stdout",
          "text": "['Watch', 'Laptop', 'Shoes', 'Notebook', 'Football']\n",
          "output_type": "stream"
        }
      ],
      "execution_count": 40
    },
    {
      "cell_type": "markdown",
      "source": "<details><summary>Click here for the solution</summary>\n\n```python\nprint(Shopping_list)\n\n```\n\n</details>\n",
      "metadata": {}
    },
    {
      "cell_type": "markdown",
      "source": "<hr>\n<h2>The last exercise!</h2>\n<p>Congratulations, you have completed your first lesson and hands-on lab in Python. \n<hr>\n",
      "metadata": {}
    },
    {
      "cell_type": "markdown",
      "source": "## Author\n\n<a href=\"https://www.linkedin.com/in/joseph-s-50398b136/?utm_medium=Exinfluencer&utm_source=Exinfluencer&utm_content=000026UJ&utm_term=10006555&utm_id=NA-SkillsNetwork-Channel-SkillsNetworkCoursesIBMDeveloperSkillsNetworkPY0101ENSkillsNetwork19487395-2021-01-01\" target=\"_blank\">Joseph Santarcangelo</a>\n\n## Other contributors\n\n<a href=\"https://www.linkedin.com/in/jiahui-mavis-zhou-a4537814a?utm_medium=Exinfluencer&utm_source=Exinfluencer&utm_content=000026UJ&utm_term=10006555&utm_id=NA-SkillsNetwork-Channel-SkillsNetworkCoursesIBMDeveloperSkillsNetworkPY0101ENSkillsNetwork19487395-2021-01-01\">Mavis Zhou</a>\n\n## Change Log\n\n| Date (YYYY-MM-DD) | Version | Changed By | Change Description                 |\n| ----------------- | ------- | ---------- | ---------------------------------- |\n| 2023-05-12        | 2.2     |Akansha yadav| Updated lab with scenario         |\n| 2022-01-10        | 2.1     | Malika     | Removed the readme for GitShare    |\n| 2020-08-26        | 2.0     | Lavanya    | Moved lab to course repo in GitLab |\n|                   |         |            |                                    |\n|                   |         |            |                                    |\n\n## <h3 align=\"center\"> © IBM Corporation 2023. All rights reserved. <h3/>\n",
      "metadata": {}
    },
    {
      "cell_type": "code",
      "source": "",
      "metadata": {},
      "outputs": [],
      "execution_count": null
    }
  ]
}