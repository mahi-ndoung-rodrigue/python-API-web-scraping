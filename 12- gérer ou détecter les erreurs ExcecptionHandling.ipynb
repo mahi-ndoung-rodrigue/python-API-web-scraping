{
 "cells": [
  {
   "cell_type": "markdown",
   "metadata": {},
   "source": [
    "<p style=\"text-align:center\">\n",
    "    <a href=\"https://skills.network\" target=\"_blank\">\n",
    "    <img src=\"https://cf-courses-data.s3.us.cloud-object-storage.appdomain.cloud/assets/logos/SN_web_lightmode.png\" width=\"200\" alt=\"Skills Network Logo\">\n",
    "    </a>\n",
    "</p>\n"
   ]
  },
  {
   "cell_type": "markdown",
   "metadata": {},
   "source": [
    "# **Exception Handling**\n",
    "\n",
    "Estimated time needed: **15** minutes\n",
    "    \n",
    "\n",
    "## Objectives\n",
    "\n",
    "After completing this lab you will be able to:\n",
    "\n",
    "* Understand exceptions    \n",
    "* Handle the exceptions\n"
   ]
  },
  {
   "cell_type": "markdown",
   "metadata": {},
   "source": [
    "## Table of Contents\n"
   ]
  },
  {
   "cell_type": "markdown",
   "metadata": {},
   "source": [
    "* What is an Exception?\n",
    "* Exception Handling\n",
    "\n",
    "\n",
    "* Qu’est-ce qu’une exception ?\n",
    "* Gestion des exceptions\n"
   ]
  },
  {
   "cell_type": "markdown",
   "metadata": {},
   "source": [
    "----\n"
   ]
  },
  {
   "cell_type": "markdown",
   "metadata": {},
   "source": [
    "## What is an Exception?\n"
   ]
  },
  {
   "cell_type": "markdown",
   "metadata": {},
   "source": [
    "In this section you will learn about what an exception is and see examples of them.\n",
    "\n",
    "Dans cette section, vous apprendrez ce qu’est une exception et en verrez des exemples."
   ]
  },
  {
   "cell_type": "markdown",
   "metadata": {},
   "source": [
    "### Definition\n"
   ]
  },
  {
   "cell_type": "markdown",
   "metadata": {},
   "source": [
    "An exception is an error that occurs during the execution of code. This error causes the code to raise an exception and if not prepared to handle it will halt the execution of the code.\n",
    "\n",
    "\n",
    "\n",
    "\n",
    "Une exception est une erreur qui se produit lors de l’exécution du code. Cette erreur provoque le déclenchement d’une exception par le code et, s’il n’est pas prêt à la gérer, l’exécution du code est interrompue."
   ]
  },
  {
   "cell_type": "markdown",
   "metadata": {},
   "source": [
    "### Examples\n"
   ]
  },
  {
   "cell_type": "markdown",
   "metadata": {},
   "source": [
    "Run each piece of code and observe the exception raised\n",
    "\n",
    "\n",
    "Exécutez chaque morceau de code et respectez l’exception levée"
   ]
  },
  {
   "cell_type": "code",
   "execution_count": 1,
   "metadata": {
    "tags": []
   },
   "outputs": [
    {
     "ename": "ZeroDivisionError",
     "evalue": "division by zero",
     "output_type": "error",
     "traceback": [
      "\u001b[0;31m---------------------------------------------------------------------------\u001b[0m",
      "\u001b[0;31mZeroDivisionError\u001b[0m                         Traceback (most recent call last)",
      "\u001b[0;32m/tmp/ipykernel_71/2354412189.py\u001b[0m in \u001b[0;36m<module>\u001b[0;34m\u001b[0m\n\u001b[0;32m----> 1\u001b[0;31m \u001b[0;36m1\u001b[0m\u001b[0;34m/\u001b[0m\u001b[0;36m0\u001b[0m\u001b[0;34m\u001b[0m\u001b[0;34m\u001b[0m\u001b[0m\n\u001b[0m",
      "\u001b[0;31mZeroDivisionError\u001b[0m: division by zero"
     ]
    }
   ],
   "source": [
    "1/0"
   ]
  },
  {
   "cell_type": "markdown",
   "metadata": {},
   "source": [
    "<code>ZeroDivisionError</code> occurs when you try to divide by zero.\n",
    "\n",
    "<code>ZeroDivisionError</code> se produit lorsque vous essayez de diviser par zéro."
   ]
  },
  {
   "cell_type": "code",
   "execution_count": 2,
   "metadata": {
    "tags": []
   },
   "outputs": [
    {
     "ename": "NameError",
     "evalue": "name 'a' is not defined",
     "output_type": "error",
     "traceback": [
      "\u001b[0;31m---------------------------------------------------------------------------\u001b[0m",
      "\u001b[0;31mNameError\u001b[0m                                 Traceback (most recent call last)",
      "\u001b[0;32m/tmp/ipykernel_71/1161414849.py\u001b[0m in \u001b[0;36m<module>\u001b[0;34m\u001b[0m\n\u001b[0;32m----> 1\u001b[0;31m \u001b[0my\u001b[0m \u001b[0;34m=\u001b[0m \u001b[0ma\u001b[0m \u001b[0;34m+\u001b[0m \u001b[0;36m5\u001b[0m\u001b[0;34m\u001b[0m\u001b[0;34m\u001b[0m\u001b[0m\n\u001b[0m",
      "\u001b[0;31mNameError\u001b[0m: name 'a' is not defined"
     ]
    }
   ],
   "source": [
    "y = a + 5"
   ]
  },
  {
   "cell_type": "markdown",
   "metadata": {},
   "source": [
    "<code>NameError</code> -- in this case, it means that you tried to use the variable a when it was not defined.\n",
    "\n",
    "<code>NameError</code> -- dans ce cas, cela signifie que vous avez essayé d’utiliser la variable a alors qu’elle n’était pas définie."
   ]
  },
  {
   "cell_type": "code",
   "execution_count": 3,
   "metadata": {
    "tags": []
   },
   "outputs": [
    {
     "ename": "IndexError",
     "evalue": "list index out of range",
     "output_type": "error",
     "traceback": [
      "\u001b[0;31m---------------------------------------------------------------------------\u001b[0m",
      "\u001b[0;31mIndexError\u001b[0m                                Traceback (most recent call last)",
      "\u001b[0;32m/tmp/ipykernel_71/1542938915.py\u001b[0m in \u001b[0;36m<module>\u001b[0;34m\u001b[0m\n\u001b[1;32m      1\u001b[0m \u001b[0ma\u001b[0m \u001b[0;34m=\u001b[0m \u001b[0;34m[\u001b[0m\u001b[0;36m1\u001b[0m\u001b[0;34m,\u001b[0m \u001b[0;36m2\u001b[0m\u001b[0;34m,\u001b[0m \u001b[0;36m3\u001b[0m\u001b[0;34m]\u001b[0m\u001b[0;34m\u001b[0m\u001b[0;34m\u001b[0m\u001b[0m\n\u001b[0;32m----> 2\u001b[0;31m \u001b[0ma\u001b[0m\u001b[0;34m[\u001b[0m\u001b[0;36m10\u001b[0m\u001b[0;34m]\u001b[0m\u001b[0;34m\u001b[0m\u001b[0;34m\u001b[0m\u001b[0m\n\u001b[0m",
      "\u001b[0;31mIndexError\u001b[0m: list index out of range"
     ]
    }
   ],
   "source": [
    "a = [1, 2, 3]\n",
    "a[10]"
   ]
  },
  {
   "cell_type": "markdown",
   "metadata": {},
   "source": [
    "<code>IndexError</code> -- in this case, it occured because you tried to access data from a list using an index that does not exist for this list.\n",
    "\n",
    "\n",
    "<code>IndexError</code> : dans ce cas, cela s’est produit parce que vous avez essayé d’accéder aux données d’une liste à l’aide d’un index qui n’existe pas pour cette liste."
   ]
  },
  {
   "cell_type": "code",
   "execution_count": 4,
   "metadata": {
    "tags": []
   },
   "outputs": [
    {
     "data": {
      "text/plain": [
       "2"
      ]
     },
     "execution_count": 4,
     "metadata": {},
     "output_type": "execute_result"
    }
   ],
   "source": [
    "a[1]"
   ]
  },
  {
   "cell_type": "code",
   "execution_count": 5,
   "metadata": {
    "tags": []
   },
   "outputs": [
    {
     "data": {
      "text/plain": [
       "3"
      ]
     },
     "execution_count": 5,
     "metadata": {},
     "output_type": "execute_result"
    }
   ],
   "source": [
    "a[2]"
   ]
  },
  {
   "cell_type": "markdown",
   "metadata": {},
   "source": [
    "There are many more exceptions that are built into Python, here is a list of them https://docs.python.org/3/library/exceptions.html\n",
    "\n",
    "\n",
    "Il existe de nombreuses autres exceptions intégrées à Python, en voici une liste https://docs.python.org/3/library/exceptions.html"
   ]
  },
  {
   "cell_type": "markdown",
   "metadata": {},
   "source": [
    "## Exception Handling\n",
    "\n",
    "## Gestion des exceptions"
   ]
  },
  {
   "cell_type": "markdown",
   "metadata": {},
   "source": [
    "In this section you will learn how to handle exceptions. You will understand how to make your program perform specified tasks instead of halting code execution when an exception is encountered.\n",
    "\n",
    "\n",
    "\n",
    "Dans cette section, vous apprendrez à gérer les exceptions. Vous comprendrez comment faire en sorte que votre programme exécute des tâches spécifiées au lieu d’arrêter l’exécution du code lorsqu’une exception est rencontrée.\n"
   ]
  },
  {
   "cell_type": "markdown",
   "metadata": {},
   "source": [
    "### Try Except\n",
    "\n",
    "### Essayez sauf"
   ]
  },
  {
   "cell_type": "markdown",
   "metadata": {},
   "source": [
    "A <code>try except</code> will allow you to execute code that might raise an exception and in the case of any exception or a specific one we can handle or catch the exception and execute specific code. This will allow us to continue the execution of our program even if there is an exception.\n",
    "\n",
    "Python tries to execute the code in the <code>try</code> block. In this case if there is any exception raised by the code in the <code>try</code> block, it will be caught and the code block in the <code>except</code> block will be executed. After that, the code that comes <em>after</em> the try except will be executed.\n"
   ]
  },
  {
   "cell_type": "markdown",
   "metadata": {},
   "source": [
    "Un <code>essai sauf</code> vous permettra d’exécuter du code qui pourrait lever une exception et dans le cas d’une exception ou d’une exception spécifique, nous pouvons gérer ou attraper l’exception et exécuter du code spécifique. Cela nous permettra de poursuivre l’exécution de notre programme même s’il y a une exception.\n",
    "\n",
    "Python essaie d’exécuter le code dans le bloc <code>try</code>. Dans ce cas, s’il y a une exception levée par le code dans le bloc <code>try</code>, elle sera interceptée et le bloc de code dans le bloc <code>except</code> sera exécuté. Après cela, le code qui vient <em>après</em> l’essai except sera exécuté.\n"
   ]
  },
  {
   "cell_type": "code",
   "execution_count": 6,
   "metadata": {
    "tags": []
   },
   "outputs": [
    {
     "ename": "IndentationError",
     "evalue": "expected an indented block (4107979928.py, line 5)",
     "output_type": "error",
     "traceback": [
      "\u001b[0;36m  File \u001b[0;32m\"/tmp/ipykernel_71/4107979928.py\"\u001b[0;36m, line \u001b[0;32m5\u001b[0m\n\u001b[0;31m    except:\u001b[0m\n\u001b[0m         ^\u001b[0m\n\u001b[0;31mIndentationError\u001b[0m\u001b[0;31m:\u001b[0m expected an indented block\n"
     ]
    }
   ],
   "source": [
    "# potential code before try catch\n",
    "# code potentiel avant try catch\n",
    "\n",
    "try:\n",
    "    # code to try to execute\n",
    "    # code à essayer d’exécuter\n",
    "except:\n",
    "    # code to execute if there is an exception\n",
    "    # code à exécuter s’il y a une exception\n",
    "    \n",
    "# code that will still execute if there is an exception\n",
    "# code qui s’exécutera toujours s’il y a une exception\n"
   ]
  },
  {
   "cell_type": "markdown",
   "metadata": {},
   "source": [
    "### Try Except Example\n"
   ]
  },
  {
   "cell_type": "markdown",
   "metadata": {},
   "source": [
    "In this example we are trying to divide a number given by the user, save the outcome in the variable <code>a</code>, and then we would like to print the result of the operation. When taking user input and dividing a number by it there are a couple of exceptions that can be raised. For example if we divide by zero. Try running the following block of code with <code>b</code> as a number. An exception will only be raised if <code>b</code> is zero.\n",
    "\n",
    "\n",
    "Dans cet exemple, nous essayons de diviser un nombre donné par l’utilisateur, d’enregistrer le résultat dans la variable <code>a</code>, puis d’imprimer le résultat de l’opération. Lorsque vous prenez une entrée utilisateur et divisez un nombre par celle-ci, il y a quelques exceptions qui peuvent être soulevées. Par exemple, si nous divisons par zéro.Essayez d’exécuter le bloc de code suivant avec <code>b</code> comme nombre. Une exception ne sera levée que si <code>b</code> est égal à zéro.\n"
   ]
  },
  {
   "cell_type": "code",
   "execution_count": 7,
   "metadata": {
    "tags": []
   },
   "outputs": [
    {
     "name": "stdin",
     "output_type": "stream",
     "text": [
      "Please enter a number to divide a 0\n"
     ]
    },
    {
     "name": "stdout",
     "output_type": "stream",
     "text": [
      "There was an error\n"
     ]
    }
   ],
   "source": [
    "a = 1\n",
    "\n",
    "try:\n",
    "    b = int(input(\"Please enter a number to divide a\"))\n",
    "    a = a/b\n",
    "    print(\"Success a=\",a)\n",
    "except:\n",
    "    print(\"There was an error\")\n",
    "        \n"
   ]
  },
  {
   "cell_type": "markdown",
   "metadata": {},
   "source": [
    "### Try Except Specific\n",
    "\n",
    "### Essayez sauf spécifique"
   ]
  },
  {
   "cell_type": "markdown",
   "metadata": {},
   "source": [
    "A specific <code>try except</code> allows you to catch certain exceptions and also execute certain code depending on the exception. This is useful if you do not want to deal with some exceptions and the execution should halt. It can also help you find errors in your code that you might not be aware of. Furthermore, it can help you differentiate responses to different exceptions. In this case, the code after the try except might not run depending on the error.\n"
   ]
  },
  {
   "cell_type": "markdown",
   "metadata": {},
   "source": [
    "Un <code>try except</code> spécifique vous permet d’intercepter certaines exceptions et d’exécuter du code en fonction de l’exception. Ceci est utile si vous ne souhaitez pas traiter certaines exceptions et que l’exécution doit s’arrêter. Cela peut également vous aider à trouver des erreurs dans votre code dont vous n’êtes peut-être pas conscient. En outre, il peut vous aider à différencier les réponses aux différentes exceptions. Dans ce cas, le code après try except peut ne pas s’exécuter en fonction de l’erreur.\n"
   ]
  },
  {
   "cell_type": "markdown",
   "metadata": {},
   "source": [
    "<b>Do not run, just to illustrate:</b>\n",
    "\n",
    "<b>Ne courez pas, juste pour illustrer :</b>"
   ]
  },
  {
   "cell_type": "code",
   "execution_count": null,
   "metadata": {},
   "outputs": [],
   "source": [
    "# potential code before try catch\n",
    "\n",
    "try:\n",
    "    # code to try to execute\n",
    "except (ZeroDivisionError, NameError):\n",
    "    # code to execute if there is an exception of the given types\n",
    "    # code à exécuter s’il y a une exception des types donnés\n",
    "    \n",
    "# code that will execute if there is no exception or a one that we are handling\n",
    "# code qui s’exécutera s’il n’y a pas d’exception ou une exception que nous gérons"
   ]
  },
  {
   "cell_type": "code",
   "execution_count": null,
   "metadata": {},
   "outputs": [],
   "source": [
    "# potential code before try catch\n",
    "\n",
    "try:\n",
    "    # code to try to execute\n",
    "except ZeroDivisionError:\n",
    "    \n",
    "    # code to execute if there is a ZeroDivisionError\n",
    "    # code à exécuter s’il y a une ZeroDivisionError\n",
    "    \n",
    "except NameError:\n",
    "    # code to execute if there is a NameError\n",
    "    # code à exécuter s’il y a une NameError\n",
    "    \n",
    "# code that will execute if there is no exception or a one that we are handling"
   ]
  },
  {
   "cell_type": "markdown",
   "metadata": {},
   "source": [
    "You can also have an empty <code>except</code> at the end to catch an unexpected exception:\n",
    "\n",
    "Vous pouvez également avoir un <code>vide sauf</code> à la fine pour attraper une exception inattendue :"
   ]
  },
  {
   "cell_type": "markdown",
   "metadata": {},
   "source": [
    "<b>Do not run, just to illustrate:</b>\n"
   ]
  },
  {
   "cell_type": "code",
   "execution_count": null,
   "metadata": {},
   "outputs": [],
   "source": [
    "# potential code before try catch\n",
    "\n",
    "try:\n",
    "    # code to try to execute\n",
    "except ZeroDivisionError:\n",
    "    # code to execute if there is a ZeroDivisionError\n",
    "except NameError:\n",
    "    # code to execute if there is a NameError\n",
    "except:\n",
    "    # code to execute if ther is any exception\n",
    "    # code à exécuter s’il y a une exception\n",
    "    \n",
    "# code that will execute if there is no exception or a one that we are handling"
   ]
  },
  {
   "cell_type": "markdown",
   "metadata": {},
   "source": [
    "### Try Except Specific Example\n",
    "\n",
    "### Essayez sauf exemple spécifique"
   ]
  },
  {
   "cell_type": "markdown",
   "metadata": {},
   "source": [
    "This is the same example as above, but now we will add differentiated messages depending on the exception, letting the user know what is wrong with the input.\n",
    "\n",
    "\n",
    "\n",
    "C’est le même exemple que ci-dessus, mais nous allons maintenant ajouter des messages différenciés en fonction de l’exception, permettant à l’utilisateur de savoir ce qui ne va pas avec l’entrée."
   ]
  },
  {
   "cell_type": "code",
   "execution_count": null,
   "metadata": {},
   "outputs": [],
   "source": [
    "a = 1\n",
    "\n",
    "try:\n",
    "    b = int(input(\"Please enter a number to divide a\"))\n",
    "    a = a/b\n",
    "    print(\"Success a=\",a)\n",
    "except ZeroDivisionError:\n",
    "    print(\"The number you provided cant divide 1 because it is 0, Le nombre que vous avez fourni ne peut pas diviser 1 car il est égal à 0\")\n",
    "except ValueError:\n",
    "    print(\"You did not provide a number, Vous n’avez pas fourni de numéro\")\n",
    "except:\n",
    "    print(\"Something went wrong, Quelque chose s’est mal passé \")\n",
    "        \n"
   ]
  },
  {
   "cell_type": "markdown",
   "metadata": {},
   "source": [
    "### Try Except Else and Finally\n"
   ]
  },
  {
   "cell_type": "markdown",
   "metadata": {},
   "source": [
    "<code>else</code> allows one to check if there was no exception when executing the try block. This is useful when we want to execute something only if there were no errors.\n",
    "\n",
    "<code>else</code> permet de vérifier s’il n’y a pas eu d’exception lors de l’exécution du bloc try. Ceci est utile lorsque nous voulons exécuter quelque chose uniquement s’il n’y a pas eu d’erreurs.\n"
   ]
  },
  {
   "cell_type": "markdown",
   "metadata": {},
   "source": [
    "<b>do not run, just to illustrate</b>\n"
   ]
  },
  {
   "cell_type": "code",
   "execution_count": null,
   "metadata": {},
   "outputs": [],
   "source": [
    "# potential code before try catch\n",
    "\n",
    "try:\n",
    "    # code to try to execute\n",
    "except ZeroDivisionError:\n",
    "    # code to execute if there is a ZeroDivisionError\n",
    "except NameError:\n",
    "    # code to execute if there is a NameError\n",
    "except:\n",
    "    # code to execute if ther is any exception\n",
    "else:\n",
    "    # code to execute if there is no exception\n",
    "    # code à exécuter s’il n’y a pas d’exception\n",
    "    \n",
    "# code that will execute if there is no exception or a one that we are handling\n",
    "# code qui s’exécutera s’il n’y a pas d’exception ou une exception que nous gérons"
   ]
  },
  {
   "cell_type": "markdown",
   "metadata": {},
   "source": [
    "<code>finally</code> allows us to always execute something even if there is an exception or not. This is usually used to signify the end of the try except.\n",
    "\n",
    "\n",
    "\n",
    "<code>nous permet enfin</code> de toujours exécuter quelque chose même s’il y a une exception ou non. Ceci est généralement utilisé pour signifier la fin de l’essai, sauf."
   ]
  },
  {
   "cell_type": "code",
   "execution_count": null,
   "metadata": {},
   "outputs": [],
   "source": [
    "# potential code before try catch\n",
    "\n",
    "try:\n",
    "    # code to try to execute\n",
    "except ZeroDivisionError:\n",
    "    # code to execute if there is a ZeroDivisionError\n",
    "except NameError:\n",
    "    # code to execute if there is a NameError\n",
    "except:\n",
    "    # code to execute if ther is any exception\n",
    "else:\n",
    "    # code to execute if there is no exception\n",
    "finally:\n",
    "    # code to execute at the end of the try except no matter what\n",
    "     # code à exécuter à la fin de l’essai, mais quoi qu’il arrive\n",
    "    \n",
    "# code that will execute if there is no exception or a one that we are handling"
   ]
  },
  {
   "cell_type": "markdown",
   "metadata": {},
   "source": [
    "### Try Except Else and Finally Example\n"
   ]
  },
  {
   "cell_type": "markdown",
   "metadata": {},
   "source": [
    "You might have noticed that even if there is an error the value of <code>a</code> is always printed. Let's use the <code>else</code> and print the value of <code>a</code> only if there is no error.\n",
    "\n",
    "\n",
    "\n",
    "Vous avez peut-être remarqué que même en cas d’erreur, la valeur de <code>a</code> est toujours affichée. Utilisons <code>else et</code> affichons la valeur de <code>a</code> uniquement s’il n’y a pas d’erreur."
   ]
  },
  {
   "cell_type": "code",
   "execution_count": null,
   "metadata": {},
   "outputs": [],
   "source": [
    "a = 1\n",
    "\n",
    "try:\n",
    "    b = int(input(\"Please enter a number to divide a\"))\n",
    "    a = a/b\n",
    "except ZeroDivisionError:\n",
    "    print(\"The number you provided cant divide 1 because it is 0\")\n",
    "except ValueError:\n",
    "    print(\"You did not provide a number\")\n",
    "except:\n",
    "    print(\"Something went wrong\")\n",
    "else:\n",
    "    print(\"success a=\",a)"
   ]
  },
  {
   "cell_type": "markdown",
   "metadata": {},
   "source": [
    "Now lets let the user know that we are done processing their answer. Using the <code>finally</code>, let's add a print.\n",
    "\n",
    "\n",
    "Faisons maintenant savoir à l’utilisateur que nous avons fini de traiter sa réponse. En utilisant le <code>enfin</code>, ajoutons une impression."
   ]
  },
  {
   "cell_type": "code",
   "execution_count": null,
   "metadata": {},
   "outputs": [],
   "source": [
    "a = 1\n",
    "\n",
    "try:\n",
    "    b = int(input(\"Please enter a number to divide a\"))\n",
    "    a = a/b\n",
    "except ZeroDivisionError:\n",
    "    print(\"The number you provided cant divide 1 because it is 0\")\n",
    "except ValueError:\n",
    "    print(\"You did not provide a number\")\n",
    "except:\n",
    "    print(\"Something went wrong\")\n",
    "else:\n",
    "    print(\"success a=\",a)\n",
    "finally:\n",
    "    print(\"Processing Complete Traitement terminé\")"
   ]
  },
  {
   "cell_type": "markdown",
   "metadata": {},
   "source": [
    "<center>\n",
    "    \n",
    "    \n",
    "# Practice Exercises \n",
    "\n",
    "</center>\n"
   ]
  },
  {
   "cell_type": "markdown",
   "metadata": {},
   "source": [
    "## Exercise 1: Handling ZeroDivisionError\n"
   ]
  },
  {
   "cell_type": "markdown",
   "metadata": {},
   "source": [
    "Imagine you have two numbers and want to determine what happens when you divide one number by the other. To do this, you need to create a Python function called `safe_divide.` You give this function two numbers, a `'numerator'` and a `'denominator'`. The 'numerator' is the number you want to divide, and the `'denominator'` is the number you want to divide by. Use the user input method of Python to take the values.\n",
    "\n",
    "The function should be able to do the division for you and give you the result. But here's the catch: if you try to divide by zero (which is not allowed in math), the function should be smart enough to catch that and tell you that it's not possible to divide by zero. Instead of showing an error, it should return None, which means 'nothing' or 'no value', and print `\"Error: Cannot divide by Zero.`\n"
   ]
  },
  {
   "cell_type": "markdown",
   "metadata": {},
   "source": [
    "Imaginez que vous avez deux nombres et que vous voulez déterminer ce qui se passe lorsque vous divisez un nombre par l’autre. Pour ce faire, vous devez créer une fonction Python appelée 'safe_divide'', à laquelle vous donnez deux nombres, un ''numérateur'' et un ''dénominateur''. Le « numérateur » est le nombre que vous voulez diviser, et le « dénominateur » est le nombre par lequel vous voulez diviser. Utilisez la méthode d’entrée utilisateur de Python pour prendre les valeurs.\n",
    "\n",
    "La fonction doit être capable de faire la division pour vous et de vous donner le résultat. Mais voici le hic : si vous essayez de diviser par zéro (ce qui n’est pas autorisé en mathématiques), la fonction devrait être assez intelligente pour l’attraper et vous dire qu’il n’est pas possible de diviser par zéro. Au lieu d’afficher une erreur, il devrait renvoyer None, ce qui signifie « rien » ou « aucune valeur », et afficher « Erreur : Impossible de diviser par zéro »."
   ]
  },
  {
   "cell_type": "markdown",
   "metadata": {},
   "source": [
    "Cellule non exécutée en raison d’une entrée en attente\n",
    "La cellule n’a pas été exécutée pour éviter l’interblocage du noyau car il y a une autre entrée en attente ! Soumettez votre contribution en attente et réessayez.\n",
    "\n"
   ]
  },
  {
   "cell_type": "code",
   "execution_count": 14,
   "metadata": {
    "tags": []
   },
   "outputs": [
    {
     "name": "stdin",
     "output_type": "stream",
     "text": [
      "Enter the numerator value:- 15\n",
      "Enter the denominator value:- 0\n"
     ]
    },
    {
     "name": "stdout",
     "output_type": "stream",
     "text": [
      "Error: cannot divide by zero\n",
      "None\n"
     ]
    }
   ],
   "source": [
    "#Type your code here\n",
    "\n",
    "def safe_divide(numerator, denominator):\n",
    "    try:\n",
    "        result = numerator/denominator\n",
    "        return result\n",
    "        \n",
    "    except ZeroDivisionError:\n",
    "        print(\"Error: cannot divide by zero\")\n",
    "        return None\n",
    "        \n",
    "# Test case\n",
    "numerator= int(input(\"Enter the numerator value:-\"))\n",
    "\n",
    "denominator= int(input(\"Enter the denominator value:-\"))\n",
    "print(safe_divide(numerator,denominator))"
   ]
  },
  {
   "cell_type": "code",
   "execution_count": null,
   "metadata": {},
   "outputs": [],
   "source": [
    "def safe_divide(numerator, denominator):\n",
    "    try:\n",
    "        result = 15/0\n",
    "        return result\n",
    "        \n",
    "    except ZeroDivisionError:\n",
    "        print(\"Error: cannot divide by zero\")\n",
    "        return None\n",
    "        \n",
    "# Test case\n",
    "numerator= int(input(\"Enter the numerator value:-\"))\n",
    "\n",
    "denominator= int(input(\"Enter the denominator value:-\"))\n",
    "print(safe_divide(numerator,denominator))"
   ]
  },
  {
   "cell_type": "markdown",
   "metadata": {},
   "source": [
    "**Note:- Practice handling exceptions by trying different input types like using integers, strings, zero, negative values, or other data types.**\n",
    "\n",
    "**Remarque :- Entraînez-vous à gérer les exceptions en essayant différents types d’entrée tels que l’utilisation d’entiers, de chaînes, de zéro, de valeurs négatives ou d’autres types de données.**"
   ]
  },
  {
   "cell_type": "markdown",
   "metadata": {},
   "source": [
    "<details><summary>Click here for the hints</summary>\n",
    "\n",
    "```python\n",
    "Follow these: -\n",
    "* Define a function to perform the division and use two arguments.\n",
    "* Use the try-except block to handle ZeroDivisionError.\n",
    "* Return the result of the division if no error occurs.\n",
    "* Return None if division by zero occurs.\n",
    "* take user input for numerator and denominator values.\n",
    "* call and print your function with the user inputs.\n",
    "**Note:- Test with different inputs to validate error handling.**\n",
    "```\n",
    "\n",
    "</details>\n"
   ]
  },
  {
   "cell_type": "markdown",
   "metadata": {},
   "source": [
    "<details><summary>Cliquez ici pour les conseils</summary>\n",
    "\n",
    "'''python\n",
    "Suivez ceux-ci : -\n",
    "* Définissez une fonction pour effectuer la division et utilisez deux arguments.\n",
    "* Utilisez le bloc try-except pour gérer ZeroDivisionError.\n",
    "* Renvoyer le résultat de la division si aucune erreur ne se produit.\n",
    "* Renvoie Aucun si la division par zéro se produit.\n",
    "* Prendre les entrées de l’utilisateur pour les valeurs du numérateur et du dénominateur.\n",
    "* Appelez et imprimez votre fonction avec les entrées de l’utilisateur.\n",
    "**Remarque :- Test avec différentes entrées pour valider la gestion des erreurs.**\n",
    "```\n",
    "\n",
    "</details>"
   ]
  },
  {
   "cell_type": "markdown",
   "metadata": {},
   "source": [
    "\n",
    "<details><summary>Click here for the solution</summary>\n",
    "\n",
    "```python\n",
    "\n",
    "def safe_divide(numerator,denominator):\n",
    "    try:\n",
    "        result = numerator / denominator\n",
    "        return result\n",
    "    except ZeroDivisionError:\n",
    "        print(\"Error: Cannot divide by zero.\")\n",
    "        return None\n",
    "# Test case\n",
    "numerator=int(input(\"Enter the numerator value:-\"))\n",
    "denominator=int(input(\"Enter the denominator value:-\"))\n",
    "print(safe_divide(numerator,denominator)) \n",
    "```\n",
    "\n",
    "</details>\n"
   ]
  },
  {
   "cell_type": "markdown",
   "metadata": {},
   "source": [
    "## Exercise 2: Handling ValueError\n"
   ]
  },
  {
   "cell_type": "markdown",
   "metadata": {},
   "source": [
    "Imagine you have a number and want to calculate its square root. To do this, you need to create a Python function. You give this function one number, `'number1'`.\n",
    "\n",
    "The function should generate the square root value if you provide a positive integer or float value as input. However, the function should be clever enough to detect the mistake if you enter a negative value. It should kindly inform you with a message saying, `'Invalid input! Please enter a positive integer or a float value.`\n"
   ]
  },
  {
   "cell_type": "markdown",
   "metadata": {},
   "source": [
    "Imaginez que vous avez un nombre et que vous voulez calculer sa racine carrée. Pour ce faire, vous devez créer une fonction Python. Vous donnez à cette fonction un chiffre, ''number1''.\n",
    "\n",
    "La fonction doit générer la valeur de la racine carrée si vous fournissez un entier positif ou une valeur flottante en entrée. Cependant, la fonction doit être suffisamment intelligente pour détecter l’erreur si vous entrez une valeur négative. Il devrait gentiment vous informer avec un message disant : ''Entrée invalide ! Veuillez saisir un entier positif ou une valeur flottante."
   ]
  },
  {
   "cell_type": "code",
   "execution_count": 21,
   "metadata": {
    "tags": []
   },
   "outputs": [
    {
     "name": "stdin",
     "output_type": "stream",
     "text": [
      "Enter the number:- 5\n"
     ]
    },
    {
     "name": "stdout",
     "output_type": "stream",
     "text": [
      "RESULT: 2.23606797749979\n"
     ]
    }
   ],
   "source": [
    "#Type your code here\n",
    "\n",
    "import math\n",
    "\n",
    "\n",
    "def perform_calculation(number1):\n",
    "    try:\n",
    "        result= math.sqrt(number1)\n",
    "        print(f\"RESULT: {result}\")   \n",
    "    except ValueError:\n",
    "        print(\"Invalid input! Please enter a positive integer or a float value.\")\n",
    "        \n",
    "# Test case\n",
    "number1=int(input(\"Enter the number:-\"))\n",
    "perform_calculation(number1)"
   ]
  },
  {
   "cell_type": "markdown",
   "metadata": {},
   "source": [
    "**Note:- Practice handling exceptions by trying different input types like using integers, strings, zero, negative values, or other data types.**\n"
   ]
  },
  {
   "cell_type": "markdown",
   "metadata": {},
   "source": [
    "**Remarque :- Entraînez-vous à gérer les exceptions en essayant différents types d’entrée tels que l’utilisation d’entiers, de chaînes, de zéro, de valeurs négatives ou d’autres types de données.**"
   ]
  },
  {
   "cell_type": "markdown",
   "metadata": {},
   "source": [
    "<details><summary>Cliquez ici pour les conseils</summary>\n",
    "\n",
    "'''python\n",
    "Suivez ces éléments :\n",
    "* Définissez une fonction pour exécuter la racine carrée de l’argument. \n",
    "* Utilisez le bloc try-except pour la gestion des erreurs.\n",
    "* Utilisez la fonction 'sqrt()' du package 'math' pour calculer la racine carrée. Attrapez ValueError et affichez le message d’erreur.\"\n",
    "* Prenez l’entrée utilisateur de la valeur, number1. \n",
    "* Test avec des nombres négatifs pour valider la gestion des erreurs.\n",
    "```\n",
    "\n",
    "</details>"
   ]
  },
  {
   "cell_type": "markdown",
   "metadata": {},
   "source": [
    "<details><summary>Click here for the hints</summary>\n",
    "\n",
    "```python\n",
    "Follow these:-\n",
    "* Define a function to perform square root of the argument. \n",
    "* Use try-except block for error handling.\n",
    "* Use `sqrt()` function from the `math` package to calculate the square root. Catch ValueError and display the error message.\"\n",
    "* Take user input of the value, number1. \n",
    "* Test with negative numbers to validate error handling.\n",
    "```\n",
    "\n",
    "</details>\n"
   ]
  },
  {
   "cell_type": "markdown",
   "metadata": {},
   "source": [
    "<details><summary>Click here for the solution</summary>\n",
    "\n",
    "```python\n",
    "import math\n",
    "\n",
    "def perform_calculation(number1):\n",
    "    try:\n",
    "        result = math.sqrt(number1)\n",
    "        print(f\"Result: {result}\")\n",
    "    except ValueError:\n",
    "        print(\"Error: Invalid input! Please enter a positive integer or a float value.\")\n",
    "# Test case\n",
    "number1=float(input(\"Enter the number:-\"))\n",
    "perform_calculation(number1)\n",
    "```\n",
    "\n",
    "**Note:- Test with different inputs to validate error handling.**\n",
    "\n",
    "</details>\n"
   ]
  },
  {
   "cell_type": "markdown",
   "metadata": {},
   "source": [
    "## Exercise 3: Handling Generic Exceptions\n",
    "\n",
    "\n",
    "## Exercice 3 : Gestion des exceptions génériques"
   ]
  },
  {
   "cell_type": "markdown",
   "metadata": {},
   "source": [
    "Imagine you have a number and want to perform a complex mathematical task. The calculation requires dividing the value of the input argument `\"num\"` by the difference between `\"num\"` and 5, and the result has to be stored in a variable called `\"result\"`.\n",
    "\n",
    "You have to define a function so that it can perform that complex mathematical task. The function should handle any potential errors that occur during the calculation. To do this, you can use a try-except block. If any exception arises during the calculation, it should catch the error using the generic exception class `\"Exception\" as \"e\"`. When an exception occurs, the function should display `\"An error occurred during calculation.`\n"
   ]
  },
  {
   "cell_type": "markdown",
   "metadata": {},
   "source": [
    "Imaginez que vous avez un nombre et que vous voulez effectuer une tâche mathématique complexe. Le calcul nécessite de diviser la valeur de l’argument d’entrée ''num\"' par la différence entre ''num\"' et 5, et le résultat doit être stocké dans une variable appelée ''result\"'.\n",
    "\n",
    "\n",
    "Vous devez définir une fonction pour qu’elle puisse effectuer cette tâche mathématique complexe. La fonction doit gérer toutes les erreurs potentielles qui se produisent pendant le calcul. Pour ce faire, vous pouvez utiliser un bloc try-except. Si une exception survient pendant le calcul, il doit intercepter l’erreur en utilisant la classe d’exception générique '\"Exception » comme « e\"'. Lorsqu’une exception se produit, la fonction doit afficher « Une erreur s’est produite pendant le calcul »."
   ]
  },
  {
   "cell_type": "code",
   "execution_count": 22,
   "metadata": {
    "tags": []
   },
   "outputs": [
    {
     "name": "stdin",
     "output_type": "stream",
     "text": [
      "Enter a number: 1\n"
     ]
    },
    {
     "name": "stdout",
     "output_type": "stream",
     "text": [
      "Result: -0.25\n"
     ]
    }
   ],
   "source": [
    "def complex_calculation(num):\n",
    "    try:\n",
    "        result= num/(num-5)\n",
    "        \n",
    "        print(f\"Result: {result}\")\n",
    "        \n",
    "    except Exception as e:\n",
    "        print(\"An error occurred during calculation.\")\n",
    "#Test case \n",
    "user_input=float(input(\"Enter a number:\"))\n",
    "complex_calculation(user_input)"
   ]
  },
  {
   "cell_type": "code",
   "execution_count": null,
   "metadata": {},
   "outputs": [],
   "source": [
    "#Type your code here\n",
    "\n"
   ]
  },
  {
   "cell_type": "markdown",
   "metadata": {},
   "source": [
    "**Note:- Practice handling exceptions by trying different input types like using integers, strings, zero, negative values, or other data types.**\n"
   ]
  },
  {
   "cell_type": "markdown",
   "metadata": {},
   "source": [
    "détails><summary>Cliquez ici pour les conseils</summary>\n",
    "\n",
    "'''python\n",
    "Suivez ces éléments :\n",
    "* Définissez une fonction pour le calcul complexe et passez n’importe quel argument.\n",
    "* Utilisez un bloc try-except pour la gestion des erreurs.\n",
    "* Effectuez le calcul et stockez le résultat dans « résultat ».\n",
    "* Interceptez toutes les exceptions en utilisant Exception comme e.\n",
    "* Affiche « Une erreur s’est produite lors du calcul. » lorsqu’une exception est interceptée.\n",
    "* prendre en compte les entrées de l’utilisateur\n",
    "* Appeler la fonction définie avec l’entrée utilisateur\n",
    "**Remarque :- Test avec différentes entrées pour valider la gestion des erreurs.**\n",
    "```\n",
    "\n",
    "</details>\n"
   ]
  },
  {
   "cell_type": "markdown",
   "metadata": {},
   "source": [
    "<details><summary>Click here for the hints</summary>\n",
    "\n",
    "```python\n",
    "Follow these:-\n",
    "* Define a function for the complex calculation and pass any argument.\n",
    "* Use a try-except block for error handling.\n",
    "* Perform the calculation and store the result in \"result.\"\n",
    "* Catch any exceptions using Exception as e.\n",
    "* Display \"An error occurred during calculation.\" when an exception is caught.\n",
    "* take user input\n",
    "* Call the defined function with the user input\n",
    "**Note:- Test with different inputs to validate error handling.**\n",
    "```\n",
    "\n",
    "</details>\n"
   ]
  },
  {
   "cell_type": "markdown",
   "metadata": {},
   "source": [
    "<details><summary>Click here for the solution</summary>\n",
    "\n",
    "```python\n",
    "def complex_calculation(num):\n",
    "    try:\n",
    "        result = num / (num - 5)\n",
    "        print (f\"Result: {result}\")\n",
    "    except Exception as e:\n",
    "        print(\"An error occurred during calculation.\")\n",
    "# Test case\n",
    "user_input = float(input(\"Enter a number: \"))\n",
    "complex_calculation(user_input)\n",
    "```\n",
    "\n",
    "</details>\n"
   ]
  },
  {
   "cell_type": "markdown",
   "metadata": {},
   "source": [
    "## Authors\n"
   ]
  },
  {
   "cell_type": "markdown",
   "metadata": {},
   "source": [
    "<a href=\"https://www.linkedin.com/in/joseph-s-50398b136/\" target=\"_blank\">Joseph Santarcangelo</a>\n"
   ]
  },
  {
   "cell_type": "markdown",
   "metadata": {},
   "source": [
    "## Change Log\n",
    "\n",
    "|  Date (YYYY-MM-DD) |  Version | Changed By  |  Change Description |\n",
    "|---|---|---|---|\n",
    "| 2023-11-02 | 2.2 | Abhishek Gagneja | Updated instructions |\n",
    "| 2023-08-01 | 2.1   | Akansha Yadav | Added optional practice section |\n",
    "| 2020-09-02  | 2.0  | Simran | Template updates to the file|\n",
    "|   |   |   |   |\n",
    "\n",
    "\n",
    "\n",
    "\n",
    "## <h3 align=\"center\"> © IBM Corporation 2023. All rights reserved. <h3/>\n"
   ]
  },
  {
   "cell_type": "code",
   "execution_count": null,
   "metadata": {},
   "outputs": [],
   "source": []
  }
 ],
 "metadata": {
  "kernelspec": {
   "display_name": "Python",
   "language": "python",
   "name": "conda-env-python-py"
  },
  "language_info": {
   "codemirror_mode": {
    "name": "ipython",
    "version": 3
   },
   "file_extension": ".py",
   "mimetype": "text/x-python",
   "name": "python",
   "nbconvert_exporter": "python",
   "pygments_lexer": "ipython3",
   "version": "3.7.12"
  }
 },
 "nbformat": 4,
 "nbformat_minor": 4
}
