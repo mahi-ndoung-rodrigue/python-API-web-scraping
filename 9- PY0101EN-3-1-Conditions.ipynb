{
  "metadata": {
    "kernelspec": {
      "name": "python",
      "display_name": "Python (Pyodide)",
      "language": "python"
    },
    "language_info": {
      "codemirror_mode": {
        "name": "python",
        "version": 3
      },
      "file_extension": ".py",
      "mimetype": "text/x-python",
      "name": "python",
      "nbconvert_exporter": "python",
      "pygments_lexer": "ipython3",
      "version": "3.8"
    }
  },
  "nbformat_minor": 4,
  "nbformat": 4,
  "cells": [
    {
      "cell_type": "markdown",
      "source": "<center>\n    <img src=\"https://cf-courses-data.s3.us.cloud-object-storage.appdomain.cloud/IBMDeveloperSkillsNetwork-PY0101EN-SkillsNetwork/IDSNlogo.png\" width=\"300\" alt=\"cognitiveclass.ai logo\">\n</center>\n\n# Conditions and Branching\n\nEstimated time needed: **20** minutes\n\n## Objectives\n\nAfter completing this lab you will be able to:\n\n*   work with condition statements in Python, including operators, and branching.\n",
      "metadata": {}
    },
    {
      "cell_type": "markdown",
      "source": "<h2>Table of Contents</h2>\n<div class=\"alert alert-block alert-info\" style=\"margin-top: 20px\">\n    <ul>\n        <li>\n            <a href=\"#Condition-Statements\">Condition Statements</a>\n            <ul>\n                <li><a href=\"#Comparison-Operators\">Comparison Operators</a></li>\n                <li><a href=\"#Branching\">Branching</a></li>\n                <li><a href=\"#Logical-operators\">Logical operators</a></li>\n            </ul>\n        </li>\n        <li>\n            <a href=\"#Quiz-on-Condition-Statement\">Quiz on Condition Statement</a>\n        </li>\n    </ul>\n\n</div>\n\n<hr>\n",
      "metadata": {}
    },
    {
      "cell_type": "markdown",
      "source": "## Condition Statements\n",
      "metadata": {}
    },
    {
      "cell_type": "markdown",
      "source": "### Comparison Operators\n",
      "metadata": {}
    },
    {
      "cell_type": "markdown",
      "source": "Comparison operations compare some value or operand and based on a condition, produce a Boolean. When comparing two values you can use these operators:\n\n<ul>\n    <li>equal: <b>==</b></li>\n    <li>not equal: <b>!=</b></li>\n    <li>greater than: <b>></b></li>\n    <li>less than: <b>&lt;</b></li>\n    <li>greater than or equal to: <b>>=</b></li>\n    <li>less than or equal to: <b>&lt;=</b></li>\n</ul>\n",
      "metadata": {}
    },
    {
      "cell_type": "markdown",
      "source": "Let's assign <code> a </code> a value of 5. Use the equality operator denoted with two equal <b>==</b> signs to determine if two values are equal. The case below compares the variable <code>a</code> with 6.\n",
      "metadata": {}
    },
    {
      "cell_type": "markdown",
      "source": "Attribuons à <code> a </code> une valeur de 5. Utilisez l’opérateur d’égalité noté par deux signes <b>==</b> égaux pour déterminer si deux valeurs sont égales. Le cas ci-dessous compare la variable <code>a</code> à 6.",
      "metadata": {}
    },
    {
      "cell_type": "code",
      "source": "# Condition Equal\n\na = 5\na == 6",
      "metadata": {
        "trusted": true
      },
      "outputs": [
        {
          "execution_count": 1,
          "output_type": "execute_result",
          "data": {
            "text/plain": "False"
          },
          "metadata": {}
        }
      ],
      "execution_count": 1
    },
    {
      "cell_type": "markdown",
      "source": "The result is <b>False</b>, as 5 does not equal to 6.\n",
      "metadata": {}
    },
    {
      "cell_type": "markdown",
      "source": "Consider the following equality comparison operator: <code>i > 5</code>. If the value of the left operand, in this case the variable <b>i</b>, is greater than the value of the right operand, in this case 5, then the statement is <b>True</b>. Otherwise, the statement is <b>False</b>.  If <b>i</b> is equal to 6, because 6 is larger than 5, the output is <b>True</b>.\n",
      "metadata": {}
    },
    {
      "cell_type": "code",
      "source": "# Greater than Sign\n\ni = 6\ni > 5",
      "metadata": {
        "trusted": true
      },
      "outputs": [
        {
          "execution_count": 2,
          "output_type": "execute_result",
          "data": {
            "text/plain": "True"
          },
          "metadata": {}
        }
      ],
      "execution_count": 2
    },
    {
      "cell_type": "markdown",
      "source": "Set <code>i = 2</code>. The statement is False as 2 is not greater than 5:\n",
      "metadata": {}
    },
    {
      "cell_type": "code",
      "source": "# Greater than Sign\n\ni = 2\ni > 5",
      "metadata": {
        "trusted": true
      },
      "outputs": [
        {
          "execution_count": 3,
          "output_type": "execute_result",
          "data": {
            "text/plain": "False"
          },
          "metadata": {}
        }
      ],
      "execution_count": 3
    },
    {
      "cell_type": "markdown",
      "source": "Let's display some values for <code>i</code> in the figure. Set the values greater than 5 in green and the rest in red. The green region represents where the condition is **True**, the red where the statement is **False**. If the value of <code>i</code> is 2, we get **False** as the 2 falls in the red region. Similarly, if the value for <code>i</code> is 6 we get a **True** as the condition falls in the green region.\n",
      "metadata": {}
    },
    {
      "cell_type": "markdown",
      "source": "Affichons quelques valeurs pour <code>i</code> dans la figure. Définissez les valeurs supérieures à 5 en vert et les autres en rouge. La zone verte représente l’endroit où la condition est **Vrai**, la région rouge où l’instruction est **Faux**. Si la valeur de <code>i</code> est 2, nous obtenons **Faux** car le 2 tombe dans la région rouge. De même, si la valeur de <code>i</code> est 6, nous obtenons un **Vrai** car la condition se situe dans la région verte.\n",
      "metadata": {}
    },
    {
      "cell_type": "markdown",
      "source": "<img src=\"https://cf-courses-data.s3.us.cloud-object-storage.appdomain.cloud/IBMDeveloperSkillsNetwork-PY0101EN-SkillsNetwork/labs/Module%203/images/CondsGreater.gif\" width=\"650\">\n",
      "metadata": {}
    },
    {
      "cell_type": "markdown",
      "source": "The inequality test uses an exclamation mark preceding the equal sign, if two operands are not equal then the condition becomes **True**.  For example, the following condition will produce **True** as long as the value of <code>i</code> is not equal to 6:\n",
      "metadata": {}
    },
    {
      "cell_type": "markdown",
      "source": "Le test d’inégalité utilise un point d’exclamation précédant le signe égal, si deux opérandes ne sont pas égaux, la condition devient **Vrai**.  Par exemple, la condition suivante produira **True** tant que la valeur de <code>i</code> n’est pas égale à 6 :\n",
      "metadata": {}
    },
    {
      "cell_type": "code",
      "source": "# Inequality Sign\n\ni = 2\ni != 6",
      "metadata": {
        "trusted": true
      },
      "outputs": [
        {
          "execution_count": 4,
          "output_type": "execute_result",
          "data": {
            "text/plain": "True"
          },
          "metadata": {}
        }
      ],
      "execution_count": 4
    },
    {
      "cell_type": "markdown",
      "source": "When <code>i</code> equals 6 the inequality expression produces <b>False</b>.\n",
      "metadata": {}
    },
    {
      "cell_type": "code",
      "source": "# Inequality Sign\n\ni = 6\ni != 6",
      "metadata": {
        "trusted": true
      },
      "outputs": [
        {
          "execution_count": 5,
          "output_type": "execute_result",
          "data": {
            "text/plain": "False"
          },
          "metadata": {}
        }
      ],
      "execution_count": 5
    },
    {
      "cell_type": "markdown",
      "source": "See the number line below. When the condition is **True**, the corresponding numbers are marked in green and for where the condition is **False** the corresponding number is marked in red.  If we set <code>i</code> equal to 2 the operator is true, since 2 is in the green region. If we set <code>i</code> equal to 6, we get a **False**, since the condition falls in the red region.\n",
      "metadata": {}
    },
    {
      "cell_type": "markdown",
      "source": "Voir la ligne numérique ci-dessous. Lorsque la condition est **Vrai**, les nombres correspondants sont marqués en vert et pour l’endroit où la condition est **Faux**, le nombre correspondant est marqué en rouge.  Si nous définissons <code>i</code> égal à 2, l’opérateur est vrai, puisque 2 est dans la région verte. Si nous définissons <code>i</code> égal à 6, nous obtenons un **Faux**, puisque la condition se situe dans la région rouge.",
      "metadata": {}
    },
    {
      "cell_type": "markdown",
      "source": "<img src=\"https://cf-courses-data.s3.us.cloud-object-storage.appdomain.cloud/IBMDeveloperSkillsNetwork-PY0101EN-SkillsNetwork/labs/Module%203/images/CondsIneq.gif\" width=\"650\">\n",
      "metadata": {}
    },
    {
      "cell_type": "markdown",
      "source": "We can apply the same methods on strings. For example, we can use an equality operator on two different strings. As the strings are not equal, we get a **False**.\n",
      "metadata": {}
    },
    {
      "cell_type": "markdown",
      "source": "Nous pouvons appliquer les mêmes méthodes sur les chaînes. Par exemple, nous pouvons utiliser un opérateur d’égalité sur deux chaînes différentes. Comme les chaînes ne sont pas égales, nous obtenons un **Faux**.\n",
      "metadata": {}
    },
    {
      "cell_type": "code",
      "source": "# Use Equality sign to compare the strings\n\n\"ACDC\" == \"Michael Jackson\"",
      "metadata": {
        "trusted": true
      },
      "outputs": [
        {
          "execution_count": 6,
          "output_type": "execute_result",
          "data": {
            "text/plain": "False"
          },
          "metadata": {}
        }
      ],
      "execution_count": 6
    },
    {
      "cell_type": "markdown",
      "source": "If we use the inequality operator, the output is going to be **True** as the strings are not equal.\n",
      "metadata": {}
    },
    {
      "cell_type": "markdown",
      "source": "Si nous utilisons l’opérateur d’inégalité, la sortie sera **True** car les chaînes ne sont pas égales.",
      "metadata": {}
    },
    {
      "cell_type": "code",
      "source": "# Use Inequality sign to compare the strings\n\n\"ACDC\" != \"Michael Jackson\"",
      "metadata": {
        "trusted": true
      },
      "outputs": [
        {
          "execution_count": 7,
          "output_type": "execute_result",
          "data": {
            "text/plain": "True"
          },
          "metadata": {}
        }
      ],
      "execution_count": 7
    },
    {
      "cell_type": "markdown",
      "source": "The inequality operation is also used to compare the letters/words/symbols according to the ASCII value of letters. The decimal value shown in the following table represents the order of the character:\n",
      "metadata": {}
    },
    {
      "cell_type": "markdown",
      "source": "L’opération d’inégalité est également utilisée pour comparer les lettres/mots/symboles en fonction de la valeur ASCII des lettres. La valeur décimale indiquée dans le tableau suivant représente l’ordre du caractère :",
      "metadata": {}
    },
    {
      "cell_type": "markdown",
      "source": "<style type=\"text/css\">\n.tg  {border-collapse:collapse;border-spacing:0;}\n.tg td{border-color:black;border-style:solid;border-width:1px;font-family:Arial, sans-serif;font-size:14px;\n  overflow:hidden;padding:10px 5px;word-break:normal;}\n.tg th{border-color:black;border-style:solid;border-width:1px;font-family:Arial, sans-serif;font-size:14px;\n  font-weight:normal;overflow:hidden;padding:10px 5px;word-break:normal;}\n.tg .tg-baqh{text-align:center;vertical-align:top}\n.tg .tg-7geq{background-color:#ffffc7;text-align:center;vertical-align:top}\n.tg .tg-1cln{background-color:#ffcc67;font-size:100%;font-weight:bold;text-align:center;vertical-align:top}\n.tg .tg-xozw{background-color:#ffcc67;font-weight:bold;text-align:center;vertical-align:top}\n</style>\n\n<table class=\"tg\">\n<thead>\n  <tr>\n    <th class=\"tg-1cln\">Char.</th>\n    <th class=\"tg-xozw\">ASCII</th>\n    <th class=\"tg-xozw\">Char.</th>\n    <th class=\"tg-xozw\">ASCII</th>\n    <th class=\"tg-xozw\">Char.</th>\n    <th class=\"tg-xozw\">ASCII</th>\n    <th class=\"tg-xozw\">Char.</th>\n    <th class=\"tg-xozw\">ASCII</th>\n  </tr>\n</thead>\n<tbody>\n  <tr>\n    <td class=\"tg-7geq\">A</td>\n    <td class=\"tg-baqh\">65</td>\n    <td class=\"tg-7geq\">N</td>\n    <td class=\"tg-baqh\">78</td>\n    <td class=\"tg-7geq\">a</td>\n    <td class=\"tg-baqh\">97</td>\n    <td class=\"tg-7geq\">n</td>\n    <td class=\"tg-baqh\">110</td>\n  </tr>\n  <tr>\n    <td class=\"tg-7geq\">B</td>\n    <td class=\"tg-baqh\">66</td>\n    <td class=\"tg-7geq\">O</td>\n    <td class=\"tg-baqh\">79</td>\n    <td class=\"tg-7geq\">b</td>\n    <td class=\"tg-baqh\">98</td>\n    <td class=\"tg-7geq\">o</td>\n    <td class=\"tg-baqh\">111</td>\n  </tr>\n  <tr>\n    <td class=\"tg-7geq\">C</td>\n    <td class=\"tg-baqh\">67</td>\n    <td class=\"tg-7geq\">P</td>\n    <td class=\"tg-baqh\">80</td>\n    <td class=\"tg-7geq\">c</td>\n    <td class=\"tg-baqh\">99</td>\n    <td class=\"tg-7geq\">p</td>\n    <td class=\"tg-baqh\">112</td>\n  </tr>\n  <tr>\n    <td class=\"tg-7geq\">D</td>\n    <td class=\"tg-baqh\">68</td>\n    <td class=\"tg-7geq\">Q</td>\n    <td class=\"tg-baqh\">81</td>\n    <td class=\"tg-7geq\">d</td>\n    <td class=\"tg-baqh\">100</td>\n    <td class=\"tg-7geq\">q</td>\n    <td class=\"tg-baqh\">113</td>\n  </tr>\n  <tr>\n    <td class=\"tg-7geq\">E</td>\n    <td class=\"tg-baqh\">69</td>\n    <td class=\"tg-7geq\">R</td>\n    <td class=\"tg-baqh\">82</td>\n    <td class=\"tg-7geq\">e</td>\n    <td class=\"tg-baqh\">101</td>\n    <td class=\"tg-7geq\">r</td>\n    <td class=\"tg-baqh\">114</td>\n  </tr>\n  <tr>\n    <td class=\"tg-7geq\">F</td>\n    <td class=\"tg-baqh\">70</td>\n    <td class=\"tg-7geq\">S</td>\n    <td class=\"tg-baqh\">83</td>\n    <td class=\"tg-7geq\">f</td>\n    <td class=\"tg-baqh\">102</td>\n    <td class=\"tg-7geq\">s</td>\n    <td class=\"tg-baqh\">115</td>\n  </tr>\n  <tr>\n    <td class=\"tg-7geq\">G</td>\n    <td class=\"tg-baqh\">71</td>\n    <td class=\"tg-7geq\">T</td>\n    <td class=\"tg-baqh\">84</td>\n    <td class=\"tg-7geq\">g</td>\n    <td class=\"tg-baqh\">103</td>\n    <td class=\"tg-7geq\">t</td>\n    <td class=\"tg-baqh\">116</td>\n  </tr>\n  <tr>\n    <td class=\"tg-7geq\">H</td>\n    <td class=\"tg-baqh\">72</td>\n    <td class=\"tg-7geq\">U</td>\n    <td class=\"tg-baqh\">85</td>\n    <td class=\"tg-7geq\">h</td>\n    <td class=\"tg-baqh\">104</td>\n    <td class=\"tg-7geq\">u</td>\n    <td class=\"tg-baqh\">117</td>\n  </tr>\n  <tr>\n    <td class=\"tg-7geq\">I</td>\n    <td class=\"tg-baqh\">73</td>\n    <td class=\"tg-7geq\">V</td>\n    <td class=\"tg-baqh\">86</td>\n    <td class=\"tg-7geq\">i</td>\n    <td class=\"tg-baqh\">105</td>\n    <td class=\"tg-7geq\">v</td>\n    <td class=\"tg-baqh\">118</td>\n  </tr>\n  <tr>\n    <td class=\"tg-7geq\">J</td>\n    <td class=\"tg-baqh\">74</td>\n    <td class=\"tg-7geq\">W</td>\n    <td class=\"tg-baqh\">87</td>\n    <td class=\"tg-7geq\">j</td>\n    <td class=\"tg-baqh\">106</td>\n    <td class=\"tg-7geq\">w</td>\n    <td class=\"tg-baqh\">119</td>\n  </tr>\n  <tr>\n    <td class=\"tg-7geq\">K</td>\n    <td class=\"tg-baqh\">75</td>\n    <td class=\"tg-7geq\">X</td>\n    <td class=\"tg-baqh\">88</td>\n    <td class=\"tg-7geq\">k</td>\n    <td class=\"tg-baqh\">107</td>\n    <td class=\"tg-7geq\">x</td>\n    <td class=\"tg-baqh\">120</td>\n  </tr>\n  <tr>\n    <td class=\"tg-7geq\">L</td>\n    <td class=\"tg-baqh\">76</td>\n    <td class=\"tg-7geq\">Y</td>\n    <td class=\"tg-baqh\">89</td>\n    <td class=\"tg-7geq\">l</td>\n    <td class=\"tg-baqh\">108</td>\n    <td class=\"tg-7geq\">y</td>\n    <td class=\"tg-baqh\">121</td>\n  </tr>\n  <tr>\n    <td class=\"tg-7geq\">M</td>\n    <td class=\"tg-baqh\">77</td>\n    <td class=\"tg-7geq\">Z</td>\n    <td class=\"tg-baqh\">90</td>\n    <td class=\"tg-7geq\">m</td>\n    <td class=\"tg-baqh\">109</td>\n    <td class=\"tg-7geq\">z</td>\n    <td class=\"tg-baqh\">122</td>\n  </tr>\n</tbody>\n</table>\n",
      "metadata": {}
    },
    {
      "cell_type": "markdown",
      "source": "For example, the ASCII code for <b>!</b> is 33, while the ASCII code for <b>+</b> is 43. Therefore <b>+</b> is larger than <b>!</b> as 43 is greater than 33.\n",
      "metadata": {}
    },
    {
      "cell_type": "markdown",
      "source": "Par exemple, le code ASCII pour <b>!</b> est 33, tandis que le code ASCII pour <b>+</b> est 43. Par conséquent<b>, +</b> est plus grand que <b>!</b> comme 43 est supérieur à 33.",
      "metadata": {}
    },
    {
      "cell_type": "markdown",
      "source": "Similarly, from the table above we see that the value for <b>A</b> is 65, and the value for <b>B</b> is 66, therefore:\n",
      "metadata": {}
    },
    {
      "cell_type": "markdown",
      "source": "De même, dans le tableau ci-dessus, nous voyons que la valeur de <b>A</b> est 65 et que la valeur de <b>B</b> est 66, donc :",
      "metadata": {}
    },
    {
      "cell_type": "code",
      "source": "# Compare characters\n\n'B' > 'A'",
      "metadata": {
        "trusted": true
      },
      "outputs": [
        {
          "execution_count": 8,
          "output_type": "execute_result",
          "data": {
            "text/plain": "True"
          },
          "metadata": {}
        }
      ],
      "execution_count": 8
    },
    {
      "cell_type": "markdown",
      "source": "When there are multiple letters, the first letter takes precedence in ordering:\n",
      "metadata": {}
    },
    {
      "cell_type": "code",
      "source": "# Compare characters\n\n'BA' > 'AB'",
      "metadata": {
        "trusted": true
      },
      "outputs": [
        {
          "execution_count": 9,
          "output_type": "execute_result",
          "data": {
            "text/plain": "True"
          },
          "metadata": {}
        }
      ],
      "execution_count": 9
    },
    {
      "cell_type": "markdown",
      "source": "<b>Note</b>: Upper Case Letters have different ASCII code than Lower Case Letters, which means the comparison between the letters in Python is case-sensitive.\n",
      "metadata": {}
    },
    {
      "cell_type": "markdown",
      "source": "<b>Remarque</b> : Les lettres majuscules ont un code ASCII différent de celui des lettres minuscules, ce qui signifie que la comparaison entre les lettres en Python est sensible à la casse.",
      "metadata": {}
    },
    {
      "cell_type": "markdown",
      "source": "### Branching\n",
      "metadata": {}
    },
    {
      "cell_type": "markdown",
      "source": "Branching allows us to run different statements for different inputs. It is helpful to think of an **if statement** as a locked room, if the statement is **True** we can enter the room and your program will run some predefined tasks, but if the statement is **False** the program will ignore the task.\n",
      "metadata": {}
    },
    {
      "cell_type": "markdown",
      "source": "Le branchement nous permet d’exécuter différentes instructions pour différentes entrées. Il est utile de considérer une **instruction if** comme une pièce verrouillée, si l’instruction est **True**, nous pouvons entrer dans la pièce et votre programme exécutera des tâches prédéfinies, mais si l’instruction est **False**, le programme ignorera la tâche.\n",
      "metadata": {}
    },
    {
      "cell_type": "markdown",
      "source": "Par exemple, considérez le rectangle bleu représentant un concert d’ACDC. Si la personne a plus de 18 ans, elle peut participer au concert de l’ACDC. S’ils ont 18 ans ou moins, ils ne peuvent pas participer au concert.\n\nNous pouvons utiliser les instructions de condition apprises précédemment comme conditions qui doivent être vérifiées dans l’instruction **if**. La syntaxe est aussi simple que <code> <i>l’instruction</i> condition if :</code>, qui contient un mot <code>if</code>, une instruction condition et un deux-points à la fin. Commencez vos tâches qui doivent être exécutées dans cette condition sur une nouvelle ligne avec un retrait.Les lignes de code après les deux-points et avec un retrait ne seront exécutées que lorsque l’instruction **if** est **True**. Les tâches se terminent lorsque la ligne de code ne contient pas l’indentation.\n\nDans le cas ci-dessous, le code <code>print(« you can input »)</code> n’est exécuté que si la variable <code>age</code> est supérieure à 18 est un cas vrai car cette ligne de code a l’indentation. Cependant, l’exécution de <code>print (« move on »)</code> ne sera pas influencée par l’instruction if.\n",
      "metadata": {}
    },
    {
      "cell_type": "markdown",
      "source": "For example, consider the blue rectangle representing an ACDC concert. If the individual is older than 18, they can enter the ACDC concert. If they are 18 or younger, they cannot enter the concert.\n\nWe can use the condition statements learned before as the conditions that need to be checked in the **if statement**. The syntax is as simple as <code> if <i>condition statement</i> :</code>, which contains a word <code>if</code>, any condition statement, and a colon at the end. Start your tasks which need to be executed under this condition in a new line with an indent. The lines of code after the colon and with an indent will only be executed when the **if statement** is **True**. The tasks will end when the line of code does not contain the indent.\n\nIn the case below, the code <code>print(“you can enter”)</code> is executed only if the variable <code>age</code> is greater than 18 is a True case because this line of code has the indent. However, the execution of <code>print(“move on”)</code> will not be influenced by the if statement.\n",
      "metadata": {}
    },
    {
      "cell_type": "code",
      "source": "# If statement example\n\nage = 19\n#age = 18\n\n#expression that can be true or false #expression qui peuvent être vraies ou fausses\nif age > 18:\n    \n    #within an indent, we have the expression that is run if the condition is true\n    # dans un retrait, nous avons l’expression qui est exécutée si la condition est vraie\n    print(\"you can enter\" )\n\n#The statements after the if statement will run regardless if the condition is true or false \n# Les instructions après l’instruction if s’exécuteront, que la condition soit vraie ou fausse\nprint(\"move on\")",
      "metadata": {
        "trusted": true
      },
      "outputs": [
        {
          "name": "stdout",
          "text": "you can enter\nmove on\n",
          "output_type": "stream"
        }
      ],
      "execution_count": 10
    },
    {
      "cell_type": "markdown",
      "source": "<i>Try uncommenting the age variable</i>\n\n\n\n<i>Essayez de décommenter la variable d’âge</i>",
      "metadata": {}
    },
    {
      "cell_type": "markdown",
      "source": "It is helpful to use the following diagram to illustrate the process. On the left side, we see what happens when the condition is <b>True</b>.  The person enters the ACDC concert representing the code in the indent being executed; they then move on. On the right side, we see what happens when the condition is <b>False</b>; the person is not granted access, and the person moves on. In this case, the segment of code in the indent does not run, but the rest of the statements are run.\n",
      "metadata": {}
    },
    {
      "cell_type": "markdown",
      "source": "Il est utile d’utiliser le diagramme suivant pour illustrer le processus. Sur le côté gauche, nous voyons ce qui se passe lorsque la condition est <b>Vrai.</b>  La personne entre dans le concert ACDC en représentant le code dans l’indentation en cours d’exécution ; ils passent ensuite à autre chose. Sur le côté droit, nous voyons ce qui se passe lorsque la condition est <b>False</b> ; La personne n’est pas autorisée à y accéder et elle passe à autre chose. Dans ce cas, le segment de code dans l’indentation ne s’exécute pas, mais le reste des instructions est exécuté.\n",
      "metadata": {}
    },
    {
      "cell_type": "markdown",
      "source": "<img src=\"https://cf-courses-data.s3.us.cloud-object-storage.appdomain.cloud/IBMDeveloperSkillsNetwork-PY0101EN-SkillsNetwork/labs/Module%203/images/CondsIf.gif\" width=\"650\">\n",
      "metadata": {}
    },
    {
      "cell_type": "markdown",
      "source": "The <code>else</code> statement runs a block of code if none of the conditions are **True** before this <code>else</code> statement. Let's use the ACDC concert analogy again. If the user is 17 they cannot go to the ACDC concert,  but they can go to the Meatloaf concert.\nThe syntax of the <code>else</code> statement is similar as the syntax of the <code>if</code> statement, as <code>else :</code>. Notice that, there is no condition statement for <code>else</code>.\nTry changing the values of <code>age</code> to see what happens:\n",
      "metadata": {}
    },
    {
      "cell_type": "markdown",
      "source": "L’instruction <code>else</code> exécute un bloc de code si aucune des conditions n’est **True** avant cette instruction <code>else</code>. Utilisons à nouveau l’analogie du concert de l’ACDC. Si l’utilisateur a 17 ans, il ne peut pas aller au concert de l’ACDC, mais il peut aller au concert du Pain de viande.\nLa syntaxe de l’instruction <code>else</code> est similaire à celle de l’instruction <code>if</code>, comme <code>else :</code>. Notez qu’il n’y a pas <code>d’énoncé de condition pour le reste</code>.\nEssayez de modifier les valeurs de <code>l’âge</code> pour voir ce qui se passe :",
      "metadata": {}
    },
    {
      "cell_type": "code",
      "source": "# Else statement example\n\nage = 18\n# age = 19\n\nif age > 18:\n    print(\"you can enter\" )\nelse:\n    print(\"go see Meat Loaf\" )\n    \nprint(\"move on\")",
      "metadata": {
        "trusted": true
      },
      "outputs": [
        {
          "name": "stdout",
          "text": "go see Meat Loaf\nmove on\n",
          "output_type": "stream"
        }
      ],
      "execution_count": 11
    },
    {
      "cell_type": "markdown",
      "source": "The process is demonstrated below, where each of the possibilities is illustrated on each side of the image. On the left is the case where the age is 17, we set the variable age to 17, and this corresponds to the individual attending the Meatloaf concert. The right portion shows what happens when the individual is over 18, in this case 19, and the individual is granted access to the concert.\n",
      "metadata": {}
    },
    {
      "cell_type": "markdown",
      "source": "Le processus est illustré ci-dessous, où chacune des possibilités est illustrée de chaque côté de l’image. À gauche, il y a le cas où l’âge est de 17 ans, nous fixons l’âge variable à 17 ans, et cela correspond à la personne assistant au concert de Meatloaf. La partie de droite montre ce qui se passe lorsque la personne a plus de 18 ans, dans ce cas 19 ans, et qu’elle est autorisée à accéder au concert.\n",
      "metadata": {}
    },
    {
      "cell_type": "markdown",
      "source": "<img src=\"https://cf-courses-data.s3.us.cloud-object-storage.appdomain.cloud/IBMDeveloperSkillsNetwork-PY0101EN-SkillsNetwork/labs/Module%203/images/CondsElse.gif\" width=\"650\">\n",
      "metadata": {}
    },
    {
      "cell_type": "markdown",
      "source": "The <code>elif</code> statement, short for else if, allows us to check additional conditions if the condition statements before it are <b>False</b>. If the condition for the <code>elif</code> statement is <b>True</b>, the alternate expressions will be run. Consider the concert example, where if the individual is 18 they will go to the Pink Floyd concert instead of attending the ACDC or Meat-loaf concert. A person that is 18 years of age enters the area, and as they are not older than 18 they can not see ACDC, but since they are 18 years of age, they attend  Pink Floyd. After seeing Pink Floyd, they move on. The syntax of the <code>elif</code> statement is similar in that we merely change the <code>if</code> in the <code>if</code> statement to <code>elif</code>.\n",
      "metadata": {}
    },
    {
      "cell_type": "markdown",
      "source": "L’instruction <code>elif</code>, abréviation de else if, nous permet de vérifier des conditions supplémentaires si les instructions de condition qui la précèdent sont <b>fausses</b>. Si la condition de l’instruction <code>elif</code> est <b>True</b>, les autres expressions sont exécutées. Prenons l’exemple du concert, où si la personne a 18 ans, elle ira au concert de Pink Floyd au lieu d’assister au concert de l’ACDC ou du Meat-loaf. Une personne de 18 ans entre dans la région, et comme elle n’a pas plus de 18 ans, elle ne peut pas voir l’ACDC, mais comme elle a 18 ans, elle assiste à Pink Floyd. Après avoir vu Pink Floyd, ils passent à autre chose. La syntaxe de l’instruction <code>elif</code> est similaire en ce sens que nous changeons simplement le <code>if</code> dans l’instruction <code>if</code> en <code>elif</code>.",
      "metadata": {}
    },
    {
      "cell_type": "code",
      "source": "# Elif statment example\n\nage = 18\n\nif age > 18:\n    print(\"you can enter\" )\nelif age == 18:\n    print(\"go see Pink Floyd\")\nelse:\n    print(\"go see Meat Loaf\" )\n    \nprint(\"move on\")",
      "metadata": {
        "trusted": true
      },
      "outputs": [
        {
          "name": "stdout",
          "text": "go see Pink Floyd\nmove on\n",
          "output_type": "stream"
        }
      ],
      "execution_count": 12
    },
    {
      "cell_type": "markdown",
      "source": "The three combinations are shown in the figure below.  The left-most region shows what happens when the individual is less than 18 years of age. The central component shows when the individual is exactly 18. The rightmost shows when the individual is over 18.\n",
      "metadata": {}
    },
    {
      "cell_type": "markdown",
      "source": "Les trois combinaisons sont illustrées dans la figure ci-dessous.  La région la plus à gauche montre ce qui se passe lorsque l’individu a moins de 18 ans. La composante centrale indique quand l’individu a exactement 18 ans. Le plus à droite se manifeste lorsque l’individu a plus de 18 ans.\n",
      "metadata": {}
    },
    {
      "cell_type": "markdown",
      "source": "<img src=\"https://cf-courses-data.s3.us.cloud-object-storage.appdomain.cloud/IBMDeveloperSkillsNetwork-PY0101EN-SkillsNetwork/labs/Module%203/images/CondsElif.gif\" width=\"650\">\n",
      "metadata": {}
    },
    {
      "cell_type": "markdown",
      "source": "Look at the following code:\n",
      "metadata": {}
    },
    {
      "cell_type": "code",
      "source": "# Condition statement example\n\nalbum_year = 1983\nalbum_year = 1970\n\nif album_year > 1980:\n    print(\"Album year is greater than 1980, L’année de l’album est supérieure à 1980\")\n    \nprint('do something.., Fais quelque chose..')",
      "metadata": {
        "trusted": true
      },
      "outputs": [
        {
          "name": "stdout",
          "text": "do something.., Fais quelque chose..\n",
          "output_type": "stream"
        }
      ],
      "execution_count": 16
    },
    {
      "cell_type": "markdown",
      "source": "Feel free to change <code>album_year</code> value to other values -- you'll see that the result changes!\n\nN’hésitez pas à changer <code>album_year</code> valeur en d’autres valeurs - vous verrez que le résultat change !",
      "metadata": {}
    },
    {
      "cell_type": "markdown",
      "source": "Notice that the code in the above <b>indented</b> block will only be executed if the results are <b>True</b>.\n\nNotez que le code du bloc <b>en retrait</b> ci-dessus ne sera exécuté que si les résultats sont <b>True</b>.",
      "metadata": {}
    },
    {
      "cell_type": "markdown",
      "source": "As before, we can add an <code>else</code> block to the <code>if</code> block. The code in the <code>else</code> block will only be executed if the result is <b>False</b>.\n\n<b>Syntax:</b>\n\nif (condition):\n\\# do something\nelse:\n\\# do something else\n",
      "metadata": {}
    },
    {
      "cell_type": "markdown",
      "source": "Comme précédemment, nous pouvons ajouter un bloc <code>else</code> au bloc <code>if</code>. Le code du bloc <code>else</code> ne sera exécuté que si le résultat est <b>False</b>.\n\n<b>syntaxe:</b>\n\nsi (condition) :\n# faire quelque chose\nautre:\n# faire autre chose",
      "metadata": {}
    },
    {
      "cell_type": "markdown",
      "source": "If the condition in the <code>if</code> statement is <b>False</b>, the statement after the <code>else</code> block will execute. This is demonstrated in the figure:\n",
      "metadata": {}
    },
    {
      "cell_type": "markdown",
      "source": "<img src=\"https://cf-courses-data.s3.us.cloud-object-storage.appdomain.cloud/IBMDeveloperSkillsNetwork-PY0101EN-SkillsNetwork/labs/Module%203/images/CondsLogicMap.png\" width=\"650\">\n",
      "metadata": {}
    },
    {
      "cell_type": "code",
      "source": "# Condition statement example\n\nalbum_year = 1983\n#album_year = 1970\n\nif album_year > 1980:\n    print(\"Album year is greater than 1980\")\nelse:\n    print(\"less than 1980\")\n\nprint('do something..')",
      "metadata": {
        "trusted": true
      },
      "outputs": [
        {
          "name": "stdout",
          "text": "Album year is greater than 1980\ndo something..\n",
          "output_type": "stream"
        }
      ],
      "execution_count": 19
    },
    {
      "cell_type": "markdown",
      "source": "Feel free to change the <code>album_year</code> value to other values -- you'll see that the result changes based on it!\n\nN’hésitez pas à changer la valeur <code>album_year</code> en d’autres valeurs - vous verrez que le résultat change en fonction de celle-ci !",
      "metadata": {}
    },
    {
      "cell_type": "markdown",
      "source": "N’hésitez pas à changer la valeur <code>album_year</code> en d’autres valeurs - vous verrez que le résultat change en fonction de celle-ci !",
      "metadata": {}
    },
    {
      "cell_type": "markdown",
      "source": "### Logical operators\n",
      "metadata": {}
    },
    {
      "cell_type": "markdown",
      "source": "Sometimes you want to check more than one condition at once. For example, you might want to check if one condition and another condition are both **True**. Logical operators allow you to combine or modify conditions.\n\n<ul>\n    <li><code>and</code></li>\n    <li><code>or</code></li>\n    <li><code>not</code></li>\n</ul>\n\nThese operators are summarized for two variables using the following truth tables:\n",
      "metadata": {}
    },
    {
      "cell_type": "markdown",
      "source": "Parfois, vous voulez vérifier plus d’une condition à la fois. Par exemple, vous pouvez vérifier si une condition et une autre condition sont toutes deux **Vrai**. Les opérateurs logiques vous permettent de combiner ou de modifier des conditions.\n\n<ul>\n    <li><code>et</code></li>\n    <li><code>ou</code></li>\n    <li><code>non</code></li>\n</ul>\n\nCes opérateurs sont résumés pour deux variables à l’aide des tables de vérité suivantes :\n",
      "metadata": {}
    },
    {
      "cell_type": "markdown",
      "source": "<img src=\"https://cf-courses-data.s3.us.cloud-object-storage.appdomain.cloud/IBMDeveloperSkillsNetwork-PY0101EN-SkillsNetwork/labs/Module%203/images/CondsTable.png\" width=\"650\">\n",
      "metadata": {}
    },
    {
      "cell_type": "markdown",
      "source": "The <code>and</code> statement is only **True** when both conditions are true. The <code>or</code> statement is True if one condition, or both are **True**. The <code>not</code> statement outputs the opposite truth value.\n",
      "metadata": {}
    },
    {
      "cell_type": "markdown",
      "source": "L’instruction <code>and</code> n’est **True** que lorsque les deux conditions sont vraies. L’instruction <code>ou</code> est True si une condition, ou les deux sont **True**. L’instruction <code>not</code> génère la valeur de vérité opposée.\n",
      "metadata": {}
    },
    {
      "cell_type": "markdown",
      "source": "Let's see how to determine if an album was released after 1979 (1979 is not included) and before 1990 (1990 is not included). The time periods between 1980 and 1989 satisfy this condition. This is demonstrated in the figure below. The green on lines <strong>a</strong> and <strong>b</strong> represents periods where the statement is **True**. The green on line <strong>c</strong> represents where both conditions are **True**, this corresponds to where the green regions overlap.\n",
      "metadata": {}
    },
    {
      "cell_type": "markdown",
      "source": "Voyons comment déterminer si un album est sorti après 1979 (1979 n’est pas inclus) et avant 1990 (1990 n’est pas inclus). Les périodes entre 1980 et 1989 satisfont à cette condition. C’est ce que montre la figure ci-dessous. Le vert sur les lignes <strong>a</strong> et <strong>b</strong> représente les périodes où l’énoncé est **Vrai**. Le vert sur la ligne <strong>c</strong> représente l’endroit où les deux conditions sont **Vrai**, cela correspond à l’endroit où les régions vertes se chevauchent.\n",
      "metadata": {}
    },
    {
      "cell_type": "markdown",
      "source": "<img src=\"https://cf-courses-data.s3.us.cloud-object-storage.appdomain.cloud/IBMDeveloperSkillsNetwork-PY0101EN-SkillsNetwork/labs/Module%203/images/CondsEgOne.png\" width=\"650\">\n",
      "metadata": {}
    },
    {
      "cell_type": "markdown",
      "source": "The block of code to perform this check is given by:\n",
      "metadata": {}
    },
    {
      "cell_type": "code",
      "source": "# Condition statement example\n\nalbum_year = 1980\n\nif(album_year > 1979) and (album_year < 1990):\n    print (\"Album year was in between 1980 and 1989\")\n    \nprint(\"\")\nprint(\"Do Stuff..\")",
      "metadata": {
        "trusted": true
      },
      "outputs": [
        {
          "name": "stdout",
          "text": "Album year was in between 1980 and 1989\n\nDo Stuff..\n",
          "output_type": "stream"
        }
      ],
      "execution_count": 22
    },
    {
      "cell_type": "markdown",
      "source": "To determine if an album was released before 1980 (1979 and earlier) or after 1989 (1990 and onward ), an or statement can be used. Periods before 1980 (1979 and earlier) or after 1989 (1990 and onward) satisfy this condition. This is demonstrated in the following figure, the color green in <strong>a</strong> and <strong>b</strong> represents periods where the statement is true. The color green in **c** represents where at least one of the conditions\nare true.\n",
      "metadata": {}
    },
    {
      "cell_type": "markdown",
      "source": "Pour déterminer si un album est sorti avant 1980 (1979 et avant) ou après 1989 (1990 et au-delà), une déclaration ou peut être utilisée. Les périodes antérieures à 1980 (1979 et avant) ou postérieures à 1989 (1990 et au-delà) satisfont à cette condition.\nCeci est démontré dans la figure suivante, la couleur verte dans <strong>a</strong> et <strong>b</strong> représente les périodes où l’affirmation est vraie. La couleur verte en **c** représente où au moins une des conditions\nsont vrais.\n",
      "metadata": {}
    },
    {
      "cell_type": "markdown",
      "source": "<img src=\"https://cf-courses-data.s3.us.cloud-object-storage.appdomain.cloud/IBMDeveloperSkillsNetwork-PY0101EN-SkillsNetwork/labs/Module%203/images/CondsEgTwo.png\" width=\"650\">\n",
      "metadata": {}
    },
    {
      "cell_type": "markdown",
      "source": "The block of code to perform this check is given by:\n",
      "metadata": {}
    },
    {
      "cell_type": "code",
      "source": "# Condition statement example\n\nalbum_year = 1990\n\nif(album_year < 1980) or (album_year > 1989):\n    print (\"Album was not made in the 1980's\")\nelse:\n    print(\"The Album was made in the 1980's \")",
      "metadata": {
        "trusted": true
      },
      "outputs": [
        {
          "name": "stdout",
          "text": "Album was not made in the 1980's\n",
          "output_type": "stream"
        }
      ],
      "execution_count": 23
    },
    {
      "cell_type": "markdown",
      "source": "The <code>not</code> statement checks if the statement is false:\n",
      "metadata": {}
    },
    {
      "cell_type": "code",
      "source": "# Condition statement example\n\nalbum_year = 1983\n\nif not (album_year == 1984):\n    print (\"Album year is not 1984\")",
      "metadata": {
        "trusted": true
      },
      "outputs": [
        {
          "name": "stdout",
          "text": "Album year is not 1984\n",
          "output_type": "stream"
        }
      ],
      "execution_count": 24
    },
    {
      "cell_type": "markdown",
      "source": "<hr>\n",
      "metadata": {}
    },
    {
      "cell_type": "markdown",
      "source": "## Quiz on Conditions\n",
      "metadata": {}
    },
    {
      "cell_type": "markdown",
      "source": "Write an if statement to determine if an album had a rating greater than 8. Test it using the rating for the album <b>“Back in Black”</b> that had a rating of 8.5. If the statement is true print \"This album is Amazing!\"\n",
      "metadata": {}
    },
    {
      "cell_type": "markdown",
      "source": "Écrivez une instruction if pour déterminer si un album a une note supérieure à 8. Testez-le en utilisant la note de l’album <b>« Back in Black »</b> qui a eu une note de 8,5. Si l’affirmation est vraie, écrivez « Cet album est incroyable ! »\n",
      "metadata": {}
    },
    {
      "cell_type": "code",
      "source": "# Write your code below and press Shift+Enter to execute\nnote=8.5\n\nif note > 8:\n    print(\"Cet album est incroyable\")\nprint(\"Back in Black\")",
      "metadata": {
        "trusted": true
      },
      "outputs": [
        {
          "name": "stdout",
          "text": "Cet album est incroyable\nBack in Black\n",
          "output_type": "stream"
        }
      ],
      "execution_count": 25
    },
    {
      "cell_type": "markdown",
      "source": "<details><summary>Click here for the solution</summary>\n\n```python\nrating = 8.5\nif rating > 8:\n    print (\"This album is Amazing!\")\n```\n\n</details>\n",
      "metadata": {}
    },
    {
      "cell_type": "markdown",
      "source": "<hr>\n",
      "metadata": {}
    },
    {
      "cell_type": "markdown",
      "source": "Write an if-else statement that performs the following. If the rating is larger then eight print “this album is amazing”. If the rating is less than or equal to 8 print “this album is ok”.\n",
      "metadata": {}
    },
    {
      "cell_type": "markdown",
      "source": "Écrivez une instruction if-else qui effectue les opérations suivantes. Si la note est supérieure à huit, écrivez « cet album est incroyable ». Si la note est inférieure ou égale à 8, écrivez « cet album est ok ».\n",
      "metadata": {}
    },
    {
      "cell_type": "code",
      "source": "# Write your code below and press Shift+Enter to execute\n\nnote= 8\nif note > 8.5:\n    print(\"Cet album est incroyable\")\n\nelif note <=8:\n    print(\"Cet album est ok\")",
      "metadata": {
        "trusted": true
      },
      "outputs": [
        {
          "name": "stdout",
          "text": "Cet album est ok\n",
          "output_type": "stream"
        }
      ],
      "execution_count": 27
    },
    {
      "cell_type": "code",
      "source": "rating = 8.5\nif rating > 8:\n    print (\"this album is amazing\")\nelse:\n    print (\"this album is ok\")",
      "metadata": {
        "trusted": true
      },
      "outputs": [
        {
          "name": "stdout",
          "text": "this album is amazing\n",
          "output_type": "stream"
        }
      ],
      "execution_count": 28
    },
    {
      "cell_type": "markdown",
      "source": "<details><summary>Click here for the solution</summary>\n\n```python\nrating = 8.5\nif rating > 8:\n    print (\"this album is amazing\")\nelse:\n    print (\"this album is ok\")\n    \n```\n\n</details>\n",
      "metadata": {}
    },
    {
      "cell_type": "markdown",
      "source": "<hr>\n",
      "metadata": {}
    },
    {
      "cell_type": "markdown",
      "source": "Write an if statement to determine if an album came out before 1980 or in the years: 1991 or 1993. If the condition is true print out the year the album came out.\n",
      "metadata": {}
    },
    {
      "cell_type": "markdown",
      "source": "Écrivez une déclaration if pour déterminer si un album est sorti avant 1980 ou dans les années : 1991 ou 1993. Si l’état est vrai, imprimez l’année de sortie de l’album.",
      "metadata": {}
    },
    {
      "cell_type": "code",
      "source": "# Write your code below and press Shift+Enter to execute\nalbum_year = 1979\n\nif album_year < 1980 or album_year == 1991 or album_year == 1993:\n    print(\"This album came out in year\", album_year)\n \n",
      "metadata": {
        "trusted": true
      },
      "outputs": [
        {
          "name": "stdout",
          "text": "This album came out in year 1979\n",
          "output_type": "stream"
        }
      ],
      "execution_count": 29
    },
    {
      "cell_type": "markdown",
      "source": "<details><summary>Click here for the solution</summary>\n\n```python\nalbum_year = 1979\n\nif album_year < 1980 or album_year == 1991 or album_year == 1993:\n    print(\"This album came out in year\", album_year)\n    \n```\n\n</details>\n",
      "metadata": {}
    },
    {
      "cell_type": "markdown",
      "source": "<hr>\n<h2>The last exercise!</h2>\n<p>Congratulations, you have completed your first lesson and hands-on lab in Python. \n<hr>\n",
      "metadata": {}
    },
    {
      "cell_type": "markdown",
      "source": "## Author\n\n<a href=\"https://www.linkedin.com/in/joseph-s-50398b136/?utm_medium=Exinfluencer&utm_source=Exinfluencer&utm_content=000026UJ&utm_term=10006555&utm_id=NA-SkillsNetwork-Channel-SkillsNetworkCoursesIBMDeveloperSkillsNetworkPY0101ENSkillsNetwork19487395-2021-01-01\" target=\"_blank\">Joseph Santarcangelo</a>\n\n## Other contributors\n\n<a href=\"https://www.linkedin.com/in/jiahui-mavis-zhou-a4537814a?utm_medium=Exinfluencer&utm_source=Exinfluencer&utm_content=000026UJ&utm_term=10006555&utm_id=NA-SkillsNetwork-Channel-SkillsNetworkCoursesIBMDeveloperSkillsNetworkPY0101ENSkillsNetwork19487395-2021-01-01\">Mavis Zhou</a>\n\n<img src=\"https://cf-courses-data.s3.us.cloud-object-storage.appdomain.cloud/IBMDeveloperSkillsNetwork-PY0101EN-SkillsNetwork/SNIBMfooter.png\" alt=\"\" width=\"\" height=\"\">\n",
      "metadata": {}
    }
  ]
}