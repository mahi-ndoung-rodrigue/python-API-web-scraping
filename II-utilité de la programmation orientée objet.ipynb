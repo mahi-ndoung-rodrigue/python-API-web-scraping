{
 "cells": [
  {
   "cell_type": "code",
   "execution_count": null,
   "id": "ff3b7ff2-de76-4840-ad56-29c7aeeaa8cb",
   "metadata": {},
   "outputs": [],
   "source": []
  },
  {
   "cell_type": "code",
   "execution_count": null,
   "id": "a54707ba-5ecd-4228-902a-485cdf62dbd3",
   "metadata": {},
   "outputs": [],
   "source": []
  },
  {
   "cell_type": "code",
   "execution_count": null,
   "id": "5ce7f390-b8b5-4986-8ca7-aabcce4a716d",
   "metadata": {},
   "outputs": [],
   "source": []
  },
  {
   "cell_type": "markdown",
   "id": "246336b4-1969-4ea1-b04a-0b0e1b2003a1",
   "metadata": {},
   "source": [
    "1) I have completed the lab on objects and class but I don't understand how it could be useful to me or a company. I would like to know. \n",
    "\n",
    "2) In addition, Scenario: Car dealership's inventory management system. I thought on this exercise that we were going to design the cars. I would like to understand how or how this exercise will help the car company?"
   ]
  },
  {
   "cell_type": "markdown",
   "id": "e967854d-21fd-4d6a-8ade-f18d74afbda2",
   "metadata": {},
   "source": [
    "1) J’ai terminé le laboratoire sur les objets et la classe, mais je ne comprends pas comment cela pourrait être utile à moi ou à une entreprise. J’aimerais savoir. \n",
    "\n",
    "2) De plus, Scénario : Système de gestion des stocks du concessionnaire automobile. Je pensais que nous allions concevoir les voitures. J’aimerais comprendre comment ou comment cet exercice va aider le constructeur automobile ?"
   ]
  },
  {
   "cell_type": "markdown",
   "id": "61e04d2c-7d8e-46e1-9910-64c65740f70f",
   "metadata": {},
   "source": [
    "Salut MAHI,\n",
    "\n",
    "Merci pour votre message !\n",
    "\n",
    "Comprendre les objets et les classes en programmation est fondamental pour saisir les concepts de la programmation orientée objet (POO). Voici comment ils peuvent vous être utiles, à vous et à une entreprise :\n",
    "\n",
    "### 1. **Utilité des objets et des classes**\n",
    "\n",
    "#### **Pour vous :**"
   ]
  },
  {
   "cell_type": "markdown",
   "id": "7f3b798d-d05e-4c1e-998a-fd34375b3f95",
   "metadata": {},
   "source": [
    "- **Organisation du code** : Les objets et les classes vous aident à organiser le code en composants réutilisables et modulaires. Cela rend votre code plus facile à maintenir et à comprendre.\n",
    "\n",
    "- **Abstraction** : Ils vous permettent d’abstraire des systèmes complexes en morceaux gérables. Vous pouvez vous concentrer sur les opérations de haut niveau sans vous soucier des détails de bas niveau."
   ]
  },
  {
   "cell_type": "markdown",
   "id": "b5f181e1-f2e6-494c-8a75-32c03e43823b",
   "metadata": {},
   "source": [
    "- **Réutilisabilité** : Une fois que vous avez défini une classe, vous pouvez créer plusieurs instances (objets) de cette classe. Cela favorise la réutilisation et peut économiser beaucoup de temps et d’efforts à long terme.\n",
    "\n",
    "- **Encapsulation** : Ils aident à encapsuler les données et les méthodes qui fonctionnent sur les données dans une seule unité. Cela améliore la sécurité et l’intégrité des données."
   ]
  },
  {
   "cell_type": "markdown",
   "id": "e069c267-8589-4710-afee-4168673dd7f1",
   "metadata": {},
   "source": [
    "- **Héritage et polymorphisme** : Ces concepts de POO vous permettent de créer une hiérarchie de classes et de permettre aux objets d’être traités comme des instances de leur classe parente. Cela favorise la réutilisation du code et peut simplifier des problèmes complexes."
   ]
  },
  {
   "cell_type": "markdown",
   "id": "a16af7c9-dc5d-42b0-be87-45034c9c4e95",
   "metadata": {},
   "source": [
    "#### **Pour une entreprise :**\n",
    "\n",
    "- **Évolutivité** : Un code bien organisé est plus facile à mettre à l’échelle. Au fur et à mesure que l’entreprise se développe, de nouvelles caractéristiques et fonctionnalités peuvent être ajoutées de manière plus transparente.\n",
    "\n",
    "- **Maintenabilité** : Le code qui suit les principes de la POO est généralement plus facile à maintenir et à déboguer. Cela réduit les temps d’arrêt et les coûts de maintenance.\n",
    "\n"
   ]
  },
  {
   "cell_type": "markdown",
   "id": "1268be17-a35e-45ec-8c68-dc4d7450494b",
   "metadata": {},
   "source": [
    "- Collaboration d’équipe : Les classes et les objets permettent à différents membres de l’équipe de travailler simultanément sur différentes parties d’un projet sans provoquer de conflits.\n",
    "\n",
    "- **Efficacité** : En utilisant des composants réutilisables, le temps de développement peut être réduit, ce qui accélère la mise sur le marché des produits."
   ]
  },
  {
   "cell_type": "code",
   "execution_count": null,
   "id": "c69bd0f3-bd5e-4d6f-b2f3-aaff88c2df97",
   "metadata": {},
   "outputs": [],
   "source": []
  },
  {
   "cell_type": "code",
   "execution_count": null,
   "id": "80a8fd09-2cfd-4230-98c4-866597b4417a",
   "metadata": {},
   "outputs": [],
   "source": []
  },
  {
   "cell_type": "code",
   "execution_count": null,
   "id": "1ec3b6ee-9c30-48cb-b689-b6225064f982",
   "metadata": {},
   "outputs": [],
   "source": []
  },
  {
   "cell_type": "code",
   "execution_count": null,
   "id": "9aeb9f8b-9088-4fe9-966b-0dd657df42d6",
   "metadata": {},
   "outputs": [],
   "source": []
  },
  {
   "cell_type": "code",
   "execution_count": null,
   "id": "142d28be-81e8-4a8c-b86f-2c167f951917",
   "metadata": {},
   "outputs": [],
   "source": []
  },
  {
   "cell_type": "code",
   "execution_count": null,
   "id": "fa1fc0fb-908e-4346-9789-54eeb6e5c2a3",
   "metadata": {},
   "outputs": [],
   "source": []
  },
  {
   "cell_type": "code",
   "execution_count": null,
   "id": "e4f16577-16d4-41ca-99c5-6f8a75dce3dd",
   "metadata": {},
   "outputs": [],
   "source": []
  },
  {
   "cell_type": "code",
   "execution_count": null,
   "id": "8c55c34d-8f41-4200-919b-f5c2c1f70f82",
   "metadata": {},
   "outputs": [],
   "source": []
  },
  {
   "cell_type": "code",
   "execution_count": null,
   "id": "32e48054-3eb5-4ce9-9801-a4bac12c4388",
   "metadata": {},
   "outputs": [],
   "source": []
  },
  {
   "cell_type": "code",
   "execution_count": null,
   "id": "6c21c772-9b5e-4f29-81b8-f17dab088bb6",
   "metadata": {},
   "outputs": [],
   "source": []
  },
  {
   "cell_type": "code",
   "execution_count": null,
   "id": "b72dd37f-90f8-4b25-9669-fc8649da25f3",
   "metadata": {},
   "outputs": [],
   "source": []
  },
  {
   "cell_type": "code",
   "execution_count": null,
   "id": "c7c01baa-9585-483b-b074-082b44d61dfb",
   "metadata": {},
   "outputs": [],
   "source": []
  },
  {
   "cell_type": "code",
   "execution_count": null,
   "id": "c9302c0e-82fc-4c1c-ae99-d1a99ac6be60",
   "metadata": {},
   "outputs": [],
   "source": []
  },
  {
   "cell_type": "code",
   "execution_count": null,
   "id": "57426c24-c868-480e-bac0-b0c44fd5f264",
   "metadata": {},
   "outputs": [],
   "source": []
  },
  {
   "cell_type": "code",
   "execution_count": null,
   "id": "150f9796-4300-44f2-85f9-8f3be3a11952",
   "metadata": {},
   "outputs": [],
   "source": []
  },
  {
   "cell_type": "code",
   "execution_count": null,
   "id": "9c4db8f1-1700-467d-96a8-541cfe7a2921",
   "metadata": {},
   "outputs": [],
   "source": []
  },
  {
   "cell_type": "code",
   "execution_count": null,
   "id": "4ba5a3d1-f191-4bf6-adf4-910c0b4d0b3e",
   "metadata": {},
   "outputs": [],
   "source": []
  },
  {
   "cell_type": "code",
   "execution_count": null,
   "id": "852e6b25-b64b-4466-b30f-ea96c184d902",
   "metadata": {},
   "outputs": [],
   "source": []
  },
  {
   "cell_type": "code",
   "execution_count": null,
   "id": "f93de2b7-cc07-4845-823a-81bdf63a3789",
   "metadata": {},
   "outputs": [],
   "source": []
  },
  {
   "cell_type": "code",
   "execution_count": null,
   "id": "6bf43f92-d9c2-4a5e-8005-14cf3d7e12a0",
   "metadata": {},
   "outputs": [],
   "source": []
  },
  {
   "cell_type": "code",
   "execution_count": null,
   "id": "dd7561b7-4f32-4f02-9dab-bcd77c4788a2",
   "metadata": {},
   "outputs": [],
   "source": []
  },
  {
   "cell_type": "code",
   "execution_count": null,
   "id": "ff7ac970-c287-4e40-b103-f49abc4ceede",
   "metadata": {},
   "outputs": [],
   "source": []
  },
  {
   "cell_type": "code",
   "execution_count": null,
   "id": "7eced785-e40e-4821-9ed5-279076967445",
   "metadata": {},
   "outputs": [],
   "source": []
  },
  {
   "cell_type": "code",
   "execution_count": null,
   "id": "016debc6-a33b-4fd4-a2b2-72c3089de508",
   "metadata": {},
   "outputs": [],
   "source": []
  },
  {
   "cell_type": "code",
   "execution_count": null,
   "id": "188b3f97-6126-49e3-bbbc-49b9bc283900",
   "metadata": {},
   "outputs": [],
   "source": []
  },
  {
   "cell_type": "code",
   "execution_count": null,
   "id": "9dbf9e81-f0f9-4265-aca4-7c6fdb5b644c",
   "metadata": {},
   "outputs": [],
   "source": []
  },
  {
   "cell_type": "code",
   "execution_count": null,
   "id": "c59af8fa-7463-46b0-b233-082de4b809aa",
   "metadata": {},
   "outputs": [],
   "source": []
  },
  {
   "cell_type": "code",
   "execution_count": null,
   "id": "9e72e629-94d0-4100-b004-5ec53c630c8e",
   "metadata": {},
   "outputs": [],
   "source": []
  },
  {
   "cell_type": "code",
   "execution_count": null,
   "id": "ca35b7d4-e771-4ced-a76f-07dc50fb8db1",
   "metadata": {},
   "outputs": [],
   "source": []
  },
  {
   "cell_type": "code",
   "execution_count": null,
   "id": "eb410025-5c3a-4bcb-8b78-7fe80f80f0b5",
   "metadata": {},
   "outputs": [],
   "source": []
  }
 ],
 "metadata": {
  "kernelspec": {
   "display_name": "Python 3 (ipykernel)",
   "language": "python",
   "name": "python3"
  },
  "language_info": {
   "codemirror_mode": {
    "name": "ipython",
    "version": 3
   },
   "file_extension": ".py",
   "mimetype": "text/x-python",
   "name": "python",
   "nbconvert_exporter": "python",
   "pygments_lexer": "ipython3",
   "version": "3.9.13"
  }
 },
 "nbformat": 4,
 "nbformat_minor": 5
}
