{
 "cells": [
  {
   "cell_type": "markdown",
   "metadata": {},
   "source": [
    "<p style=\"text-align:center\">\n",
    "    <a href=\"https://skills.network\" target=\"_blank\">\n",
    "    <img src=\"https://cf-courses-data.s3.us.cloud-object-storage.appdomain.cloud/assets/logos/SN_web_lightmode.png\" width=\"200\" alt=\"Skills Network Logo\">\n",
    "    </a>\n",
    "</p>\n",
    "\n",
    "\n",
    "# Loops in Python\n",
    "\n",
    "\n",
    "Estimated time needed: **20** minutes\n",
    "    \n",
    "\n",
    "## Objectives\n",
    "\n",
    "After completing this lab you will be able to:\n",
    "\n",
    "* work with the loop statements in Python, including for-loop and while-loop.\n"
   ]
  },
  {
   "cell_type": "markdown",
   "metadata": {},
   "source": [
    "<h1>Loops in Python</h1>\n"
   ]
  },
  {
   "cell_type": "markdown",
   "metadata": {},
   "source": [
    "<p><strong>Welcome!</strong> This notebook will teach you about the loops in the Python Programming Language. By the end of this lab, you'll know how to use the loop statements in Python, including for loop, and while loop.</p>\n"
   ]
  },
  {
   "cell_type": "markdown",
   "metadata": {},
   "source": [
    "<h2>Table of Contents</h2>\n",
    "<div class=\"alert alert-block alert-info\" style=\"margin-top: 20px\">\n",
    "    <ul>\n",
    "        <li>\n",
    "            <a href=\"#loop\">Loops</a>\n",
    "            <ul>\n",
    "                <li><a href=\"range\">Range</a></li>\n",
    "                <li><a href=\"for\">What is <code>for</code> loop?</a></li>\n",
    "                <li><a href=\"while\">What is <code>while</code> loop?</a></li>\n",
    "            </ul>\n",
    "        </li>\n",
    "        <li>\n",
    "            <a href=\"#quiz\">Quiz on Loops</a>\n",
    "        </li>\n",
    "    </ul>\n",
    "\n",
    "</div>\n",
    "\n",
    "<hr>\n"
   ]
  },
  {
   "cell_type": "markdown",
   "metadata": {},
   "source": [
    "<h2 id=\"loop\">Loops</h2>\n"
   ]
  },
  {
   "cell_type": "markdown",
   "metadata": {},
   "source": [
    "<h3 id=\"range\">Range</h3>\n"
   ]
  },
  {
   "cell_type": "markdown",
   "metadata": {},
   "source": [
    "Sometimes, you might want to repeat a given operation many times. Repeated executions like this are performed by <b>loops</b>. We will look at two types of loops, <code>for</code> loops and <code>while</code> loops.\n",
    "\n",
    "Before we discuss loops lets discuss the <code>range</code> object. It is helpful to think of the range object as an ordered list. For now, let's look at the simplest case. If we would like to generate an object that contains elements ordered from 0 to 2 we simply use the following command:\n"
   ]
  },
  {
   "cell_type": "markdown",
   "metadata": {},
   "source": [
    "Parfois, vous voudrez peut-être répéter une opération donnée plusieurs fois. Des exécutions répétées comme celle-ci sont effectuées par <b>des boucles</b>. Nous allons examiner deux types de boucles, <code>les boucles for</code> et les boucles <code>while</code>.\n",
    "\n",
    "Avant de parler des boucles, parlons de l’objet <code>range</code>. Il est utile de considérer l’objet range comme une liste ordonnée. Pour l’instant, examinons le cas le plus simple. Si nous voulons générer un objet contenant des éléments ordonnés de 0 à 2, nous utilisons simplement la commande suivante :\n"
   ]
  },
  {
   "cell_type": "code",
   "execution_count": 1,
   "metadata": {
    "tags": []
   },
   "outputs": [
    {
     "data": {
      "text/plain": [
       "range(0, 3)"
      ]
     },
     "execution_count": 1,
     "metadata": {},
     "output_type": "execute_result"
    }
   ],
   "source": [
    "# Use the range\n",
    "\n",
    "range(3)"
   ]
  },
  {
   "cell_type": "markdown",
   "metadata": {},
   "source": [
    "<img src=\"https://cf-courses-data.s3.us.cloud-object-storage.appdomain.cloud/IBMDeveloperSkillsNetwork-PY0101EN-SkillsNetwork/labs/Module%203/images/range.PNG\" width=\"300\">\n"
   ]
  },
  {
   "cell_type": "markdown",
   "metadata": {},
   "source": [
    "**_NOTE: While in Python 2.x it returned a list as seen in video lessons, in 3.x it returns a range object._**\n"
   ]
  },
  {
   "cell_type": "markdown",
   "metadata": {},
   "source": [
    "<h3 id=\"for\">What is <code>for</code> loop?</h3>\n"
   ]
  },
  {
   "cell_type": "markdown",
   "metadata": {},
   "source": [
    "The <code>for</code> loop enables you to execute a code block multiple times. For example, you would use this if you would like to print out every element in a list.    \n",
    "Let's try to use a <code>for</code> loop to print all the years presented in the list <code>dates</code>:\n"
   ]
  },
  {
   "cell_type": "markdown",
   "metadata": {},
   "source": [
    "La boucle <code>for</code> vous permet d’exécuter un bloc de code plusieurs fois. Par exemple, vous l’utiliseriez si vous souhaitez imprimer chaque élément d’une liste.    \n",
    "Essayons d’utiliser une boucle <code>for</code> pour afficher toutes les années présentées dans les <code>dates</code> de liste :"
   ]
  },
  {
   "cell_type": "markdown",
   "metadata": {},
   "source": [
    "This can be done as follows:\n"
   ]
  },
  {
   "cell_type": "code",
   "execution_count": 2,
   "metadata": {
    "tags": []
   },
   "outputs": [
    {
     "name": "stdout",
     "output_type": "stream",
     "text": [
      "1982\n",
      "1980\n",
      "1973\n"
     ]
    }
   ],
   "source": [
    "# For loop example\n",
    "\n",
    "dates = [1982,1980,1973]\n",
    "N = len(dates)\n",
    "\n",
    "for i in range(N):\n",
    "    print(dates[i])     "
   ]
  },
  {
   "cell_type": "markdown",
   "metadata": {},
   "source": [
    "The code in the indent is executed <code>N</code> times, each time the value of <code>i</code> is increased by 1 for every execution. The statement executed is to <code>print</code> out the value in the list at index <code>i</code> as shown here:\n"
   ]
  },
  {
   "cell_type": "markdown",
   "metadata": {},
   "source": [
    "Le code dans le retrait est exécuté <code>N</code> fois, chaque fois que la valeur de <code>i</code> est augmentée de 1 pour chaque exécution. L’instruction exécutée consiste à <code>afficher</code> la valeur de la liste à l’index <code>i</code> comme indiqué ici :\n"
   ]
  },
  {
   "cell_type": "markdown",
   "metadata": {},
   "source": [
    "<img src=\"https://cf-courses-data.s3.us.cloud-object-storage.appdomain.cloud/IBMDeveloperSkillsNetwork-PY0101EN-SkillsNetwork/labs/Module%203/images/LoopsForRange.gif\" width=\"800\">\n"
   ]
  },
  {
   "cell_type": "markdown",
   "metadata": {},
   "source": [
    "In this example we can print out a sequence of numbers from 0 to 7:\n"
   ]
  },
  {
   "cell_type": "markdown",
   "metadata": {},
   "source": [
    "Dans cet exemple, nous pouvons imprimer une séquence de nombres de 0 à 7 :"
   ]
  },
  {
   "cell_type": "code",
   "execution_count": 3,
   "metadata": {
    "tags": []
   },
   "outputs": [
    {
     "name": "stdout",
     "output_type": "stream",
     "text": [
      "0\n",
      "1\n",
      "2\n",
      "3\n",
      "4\n",
      "5\n",
      "6\n",
      "7\n"
     ]
    }
   ],
   "source": [
    "# Example of for loop\n",
    "\n",
    "for i in range(0, 8):\n",
    "    print(i)"
   ]
  },
  {
   "cell_type": "markdown",
   "metadata": {},
   "source": [
    "In Python we can directly access the elements in the list as follows: \n",
    "\n",
    "En Python, nous pouvons accéder directement aux éléments de la liste comme suit :"
   ]
  },
  {
   "cell_type": "code",
   "execution_count": 4,
   "metadata": {
    "tags": []
   },
   "outputs": [
    {
     "name": "stdout",
     "output_type": "stream",
     "text": [
      "1982\n",
      "1980\n",
      "1973\n"
     ]
    }
   ],
   "source": [
    "# Exmaple of for loop, loop through list\n",
    "\n",
    "for year in dates:  \n",
    "    print(year)   "
   ]
  },
  {
   "cell_type": "markdown",
   "metadata": {},
   "source": [
    "For each iteration, the value of the variable <code>year</code> behaves like the value of <code>dates[i]</code> in the  first example:\n"
   ]
  },
  {
   "cell_type": "markdown",
   "metadata": {},
   "source": [
    "Pour chaque itération, la valeur de <code>l’année</code> variable se comporte comme la valeur des <code>dates[i]</code> dans le premier exemple :"
   ]
  },
  {
   "cell_type": "markdown",
   "metadata": {},
   "source": [
    "<img src=\"https://cf-courses-data.s3.us.cloud-object-storage.appdomain.cloud/IBMDeveloperSkillsNetwork-PY0101EN-SkillsNetwork/labs/Module%203/images/LoopsForList.gif\" width=\"800\">\n"
   ]
  },
  {
   "cell_type": "markdown",
   "metadata": {},
   "source": [
    "We can change the elements in a list:\n"
   ]
  },
  {
   "cell_type": "markdown",
   "metadata": {},
   "source": [
    "Nous pouvons modifier les éléments d’une liste :"
   ]
  },
  {
   "cell_type": "code",
   "execution_count": 5,
   "metadata": {
    "tags": []
   },
   "outputs": [
    {
     "name": "stdout",
     "output_type": "stream",
     "text": [
      "Before square  0 is red\n",
      "After square  0 is white\n",
      "Before square  1 is yellow\n",
      "After square  1 is white\n",
      "Before square  2 is green\n",
      "After square  2 is white\n",
      "Before square  3 is purple\n",
      "After square  3 is white\n",
      "Before square  4 is blue\n",
      "After square  4 is white\n"
     ]
    }
   ],
   "source": [
    "# Use for loop to change the elements in list\n",
    "\n",
    "squares = ['red', 'yellow', 'green', 'purple', 'blue']\n",
    "\n",
    "for i in range(0, 5):\n",
    "    print(\"Before square \", i, 'is',  squares[i])\n",
    "    squares[i] = 'white'\n",
    "    print(\"After square \", i, 'is',  squares[i])"
   ]
  },
  {
   "cell_type": "markdown",
   "metadata": {},
   "source": [
    " We can access the index and the elements of a list as follows: \n",
    " \n",
    "  Nous pouvons accéder à l’index et aux éléments d’une liste comme suit :\n"
   ]
  },
  {
   "cell_type": "code",
   "execution_count": 6,
   "metadata": {
    "tags": []
   },
   "outputs": [
    {
     "name": "stdout",
     "output_type": "stream",
     "text": [
      "0 red\n",
      "1 yellow\n",
      "2 green\n",
      "3 purple\n",
      "4 blue\n"
     ]
    }
   ],
   "source": [
    "# Loop through the list and iterate on both index and element value\n",
    "\n",
    "squares=['red', 'yellow', 'green', 'purple', 'blue']\n",
    "\n",
    "for i, square in enumerate(squares):\n",
    "    print(i, square)"
   ]
  },
  {
   "cell_type": "markdown",
   "metadata": {},
   "source": [
    "<h3 id=\"while\">What is <code>while</code> loop?</h3>\n"
   ]
  },
  {
   "cell_type": "markdown",
   "metadata": {},
   "source": [
    "As you can see, the <code>for</code> loop is used for a controlled flow of repetition. However, what if we don't know when we want to stop the loop? What if we want to keep executing a code block until a certain condition is met? The <code>while</code> loop exists as a tool for repeated execution based on a condition. The code block will keep being executed until the given logical condition returns a **False** boolean value.\n"
   ]
  },
  {
   "cell_type": "markdown",
   "metadata": {},
   "source": [
    "Comme vous pouvez le voir, la boucle <code>for</code> est utilisée pour un flux contrôlé de répétition. Cependant, que se passe-t-il si nous ne savons pas quand nous voulons arrêter la boucle ? Que se passe-t-il si nous voulons continuer à exécuter un bloc de code jusqu’à ce qu’une certaine condition soit remplie ? La boucle <code>while</code> existe en tant qu’outil d’exécution répétée en fonction d’une condition. Le bloc de code continuera à être exécuté jusqu’à ce que la condition logique donnée renvoie une valeur booléenne **False**.\n"
   ]
  },
  {
   "cell_type": "markdown",
   "metadata": {},
   "source": [
    "#### Here's how a while loop works:\n",
    "\n",
    "1. First, you specify a condition that the loop will check before each iteration (repetition) of the code block.\n",
    "2. If the condition is initially true, the code block is executed.\n",
    "3. After executing the code block, the condition is checked again.\n",
    "4. If the condition is still true, the code block is executed again.\n",
    "5. Steps 3 and 4 repeat until the condition becomes false.\n",
    "6. Once the condition becomes false, the loop stops, and the program continues with the next line of code after the loop.\n"
   ]
  },
  {
   "cell_type": "markdown",
   "metadata": {},
   "source": [
    "#### Voici comment fonctionne une boucle while :\n",
    "\n",
    "1. Tout d’abord, vous spécifiez une condition que la boucle vérifiera avant chaque itération (répétition) du bloc de code.\n",
    "2. Si la condition est initialement vraie, le bloc de code est exécuté.\n",
    "3. Après avoir exécuté le bloc de code, la condition est à nouveau vérifiée.\n",
    "4. Si la condition est toujours vraie, le bloc de code est exécuté à nouveau.\n",
    "5. Les étapes 3 et 4 se répètent jusqu’à ce que la condition devienne fausse.\n",
    "6. Une fois que la condition devient fausse, la boucle s’arrête et le programme continue avec la ligne de code suivante après la boucle."
   ]
  },
  {
   "cell_type": "markdown",
   "metadata": {},
   "source": [
    "**Here's an example of a while loop that prints numbers from 1 to 5:**\n"
   ]
  },
  {
   "cell_type": "markdown",
   "metadata": {},
   "source": [
    "**Voici un exemple de boucle while qui affiche des nombres de 1 à 5 :**"
   ]
  },
  {
   "cell_type": "code",
   "execution_count": 7,
   "metadata": {
    "tags": []
   },
   "outputs": [
    {
     "name": "stdout",
     "output_type": "stream",
     "text": [
      "1\n",
      "2\n",
      "3\n",
      "4\n",
      "5\n"
     ]
    }
   ],
   "source": [
    "count = 1\n",
    "while count <= 5:\n",
    "    print(count)\n",
    "    count += 1\n",
    "    "
   ]
  },
  {
   "cell_type": "markdown",
   "metadata": {},
   "source": [
    "In this example, the condition **count <= 5** is checked before each iteration. As long as count is less than or equal to 5, the code block inside the loop is executed. After each iteration, the value of count is incremented by 1 using count += 1. Once count reaches 6, the condition becomes false, and the loop stops.\n"
   ]
  },
  {
   "cell_type": "markdown",
   "metadata": {},
   "source": [
    "Dans cet exemple, la condition **count <= 5** est vérifiée avant chaque itération. Tant que count est inférieur ou égal à 5, le bloc de code à l’intérieur de la boucle est exécuté. Après chaque itération, la valeur de count est incrémentée de 1 à l’aide de count += 1. Une fois que le nombre atteint 6, la condition devient fausse et la boucle s’arrête.\n"
   ]
  },
  {
   "cell_type": "markdown",
   "metadata": {},
   "source": [
    "Let’s say we would like to iterate through list <code>dates</code> and stop at the year 1973, then print out the number of iterations. This can be done with the following block of code:\n"
   ]
  },
  {
   "cell_type": "markdown",
   "metadata": {},
   "source": [
    "Disons que nous aimerions itérer à travers les <code>dates</code> de liste et nous arrêter à l’année 1973, puis imprimer le nombre d’itérations. Cela peut être fait avec le bloc de code suivant :\n"
   ]
  },
  {
   "cell_type": "code",
   "execution_count": 8,
   "metadata": {
    "tags": []
   },
   "outputs": [
    {
     "name": "stdout",
     "output_type": "stream",
     "text": [
      "1982\n",
      "1980\n",
      "It took  2 repetitions to get out of loop.\n"
     ]
    }
   ],
   "source": [
    "# While Loop Example\n",
    "\n",
    "dates = [1982, 1980, 1973, 2000]\n",
    "\n",
    "i = 0\n",
    "year = dates[0]\n",
    "\n",
    "while(year != 1973):    \n",
    "    print(year)\n",
    "    i = i + 1\n",
    "    year = dates[i]\n",
    "    \n",
    "\n",
    "print(\"It took \", i ,\"repetitions to get out of loop.\")"
   ]
  },
  {
   "cell_type": "markdown",
   "metadata": {},
   "source": [
    "A while loop iterates merely until the condition in the argument is not  met, as shown in the following figure:\n",
    "\n",
    "Une boucle while itère simplement jusqu’à ce que la condition de l’argument ne soit pas remplie, comme le montre la figure suivante :"
   ]
  },
  {
   "cell_type": "markdown",
   "metadata": {},
   "source": [
    "<img src=\"https://cf-courses-data.s3.us.cloud-object-storage.appdomain.cloud/IBMDeveloperSkillsNetwork-PY0101EN-SkillsNetwork/labs/Module%203/images/LoopsWhile.gif\" width=\"650\">\n"
   ]
  },
  {
   "cell_type": "markdown",
   "metadata": {},
   "source": [
    "\n",
    "**The main difference between a while loop and a for loop in Python is how they control the flow of execution and handle iterations.**\n"
   ]
  },
  {
   "cell_type": "markdown",
   "metadata": {},
   "source": [
    "**La principale différence entre une boucle while et une boucle for en Python est la façon dont elles contrôlent le flux d’exécution et gèrent les itérations.**"
   ]
  },
  {
   "cell_type": "markdown",
   "metadata": {},
   "source": [
    "### Key point of While Loop:\n",
    "\n",
    "1. A while loop repeatedly executes a block of code as long as a given condition is true.\n",
    "2. It does not have a fixed number of iterations but continues executing until the condition becomes false.\n",
    "3. The condition is checked before each iteration, and if it's false initially, the code block is skipped entirely.\n",
    "4. The condition is typically based on a variable or expression that can change during the execution of the loop.\n",
    "5. It provides more flexibility in terms of controlling the loop's execution based on dynamic conditions.\n"
   ]
  },
  {
   "cell_type": "markdown",
   "metadata": {},
   "source": [
    "### Point clé de While Loop :\n",
    "\n",
    "1. Une boucle while exécute de manière répétée un bloc de code tant qu’une condition donnée est vraie.\n",
    "2. Il n’a pas un nombre fixe d’itérations mais continue à s’exécuter jusqu’à ce que la condition devienne fausse.\n",
    "3. La condition est vérifiée avant chaque itération, et si elle est fausse au départ, le bloc de code est entièrement ignoré.\n",
    "4. La condition est généralement basée sur une variable ou une expression qui peut changer pendant l’exécution de la boucle.\n",
    "5. Il offre plus de flexibilité en termes de contrôle de l’exécution de la boucle en fonction des conditions dynamiques."
   ]
  },
  {
   "cell_type": "markdown",
   "metadata": {},
   "source": [
    "### Key point of For Loop:\n",
    "\n",
    "1. A for loop iterates over a sequence (such as a list, string, or range) or any object that supports iteration.\n",
    "2. It has a predefined number of iterations based on the length of the sequence or the number of items to iterate over.\n",
    "3. It automatically handles the iteration and does not require maintaining a separate variable for tracking the iteration count.\n",
    "4. It simplifies the code by encapsulating the iteration logic within the loop itself.\n",
    "5. It is commonly used when you know the exact number of iterations or need to iterate over each item in a collection.\n"
   ]
  },
  {
   "cell_type": "markdown",
   "metadata": {},
   "source": [
    "### Point clé de For Loop :\n",
    "\n",
    "1. Une boucle for effectue une itération sur une séquence (telle qu’une liste, une chaîne ou une plage) ou sur tout objet prenant en charge l’itération.\n",
    "2. Il a un nombre prédéfini d’itérations en fonction de la longueur de la séquence ou du nombre d’éléments sur lesquels itérer.\n",
    "3. Il gère automatiquement l’itération et ne nécessite pas de maintenir une variable distincte pour suivre le nombre d’itérations.\n",
    "4. Il simplifie le code en encapsulant la logique d’itération dans la boucle elle-même.\n",
    "5. Il est couramment utilisé lorsque vous connaissez le nombre exact d’itérations ou que vous devez itérer sur chaque élément d’une collection."
   ]
  },
  {
   "cell_type": "markdown",
   "metadata": {},
   "source": [
    "<hr>\n"
   ]
  },
  {
   "cell_type": "markdown",
   "metadata": {},
   "source": [
    "<h2 id=\"quiz\">Practise Exercises on Loops</h2>\n"
   ]
  },
  {
   "cell_type": "markdown",
   "metadata": {},
   "source": [
    "Write a <code>for</code> loop the prints out all the element between <b>-5</b> and <b>5</b> using the range function.\n"
   ]
  },
  {
   "cell_type": "markdown",
   "metadata": {},
   "source": [
    "Écrivez une boucle <code>for</code> qui imprime tous les éléments entre <b>-5</b> et <b>5</b> en utilisant la fonction range."
   ]
  },
  {
   "cell_type": "code",
   "execution_count": 11,
   "metadata": {
    "tags": []
   },
   "outputs": [
    {
     "name": "stdout",
     "output_type": "stream",
     "text": [
      "-4\n",
      "-3\n",
      "-2\n",
      "-1\n",
      "0\n",
      "1\n",
      "2\n",
      "3\n",
      "4\n"
     ]
    }
   ],
   "source": [
    "# Write your code below and press Shift+Enter to execute\n",
    "for i in range(-4, 5):\n",
    "    print(i)\n",
    "\n"
   ]
  },
  {
   "cell_type": "markdown",
   "metadata": {},
   "source": [
    "<details><summary>Click here for the solution</summary>\n",
    "\n",
    "```python\n",
    "for i in range(-4, 5):\n",
    "    print(i)\n",
    "    \n",
    "```\n",
    "\n",
    "</details>\n"
   ]
  },
  {
   "cell_type": "markdown",
   "metadata": {},
   "source": [
    "Print the elements of the following list:\n",
    "<code>Genres=[ 'rock', 'R&B', 'Soundtrack', 'R&B', 'soul', 'pop']</code>\n",
    "Make sure you follow Python conventions.\n"
   ]
  },
  {
   "cell_type": "markdown",
   "metadata": {},
   "source": [
    "Imprimez les éléments de la liste suivante :\n",
    "<code>Genres=[ 'rock', 'R&B', 'Bande originale', 'R&B', 'soul', 'pop']</code>\n",
    "Assurez-vous de suivre les conventions Python."
   ]
  },
  {
   "cell_type": "code",
   "execution_count": 14,
   "metadata": {
    "tags": []
   },
   "outputs": [
    {
     "name": "stdout",
     "output_type": "stream",
     "text": [
      "rock\n",
      "R&B\n",
      "Bande originale\n",
      "R&B\n",
      "soul\n",
      "pop\n"
     ]
    }
   ],
   "source": [
    "# Write your code below and press Shift+Enter to execute\n",
    "\n",
    "Genres=[ 'rock', 'R&B', 'Bande originale', 'R&B', 'soul', 'pop']\n",
    "\n",
    "for Genre in Genres:\n",
    "    print(Genre)"
   ]
  },
  {
   "cell_type": "markdown",
   "metadata": {},
   "source": [
    "<details><summary>Click here for the solution</summary>\n",
    "\n",
    "```python\n",
    "Genres = ['rock', 'R&B', 'Soundtrack', 'R&B', 'soul', 'pop']\n",
    "for Genre in Genres:\n",
    "    print(Genre)\n",
    "    \n",
    "```\n",
    "\n",
    "</details>\n"
   ]
  },
  {
   "cell_type": "markdown",
   "metadata": {},
   "source": [
    "<hr>\n"
   ]
  },
  {
   "cell_type": "markdown",
   "metadata": {},
   "source": [
    "Write a for loop that prints out the following list: <code>squares=['red', 'yellow', 'green', 'purple', 'blue']</code>\n"
   ]
  },
  {
   "cell_type": "markdown",
   "metadata": {},
   "source": [
    "Écrivez une boucle for qui affiche la liste suivante : <code>squares=['rouge', 'jaune', 'vert', 'violet', 'bleu']</code>"
   ]
  },
  {
   "cell_type": "code",
   "execution_count": 15,
   "metadata": {
    "tags": []
   },
   "outputs": [
    {
     "name": "stdout",
     "output_type": "stream",
     "text": [
      "rouge\n",
      "jaune\n",
      "vert\n",
      "violet\n",
      "bleu\n"
     ]
    }
   ],
   "source": [
    "# Write your code below and press Shift+Enter to execute\n",
    "squares=['rouge', 'jaune', 'vert', 'violet', 'bleu']\n",
    "\n",
    "for square in squares:\n",
    "    print(square)\n"
   ]
  },
  {
   "cell_type": "markdown",
   "metadata": {},
   "source": [
    "<details><summary>Click here for the solution</summary>\n",
    "\n",
    "```python\n",
    "squares=['red', 'yellow', 'green', 'purple', 'blue']\n",
    "for square in squares:\n",
    "    print(square)\n",
    "    \n",
    "```\n",
    "\n",
    "</details>\n"
   ]
  },
  {
   "cell_type": "markdown",
   "metadata": {},
   "source": [
    "<hr>\n"
   ]
  },
  {
   "cell_type": "markdown",
   "metadata": {},
   "source": [
    "Write a while loop to display the values of the Rating of an album playlist stored in the list <code>PlayListRatings</code>. If the score is less than 6, exit the loop. The list <code>PlayListRatings</code> is given by: <code>PlayListRatings = [10, 9.5, 10, 8, 7.5, 5, 10, 10]</code>\n"
   ]
  },
  {
   "cell_type": "markdown",
   "metadata": {},
   "source": [
    "Écrivez une boucle while pour afficher les valeurs de la note d’une liste de lecture d’album stockée dans la liste <code>PlayListRatings</code>. Si le score est inférieur à 6, quittez la boucle. La liste <code>PlayListRatings</code> est donnée par : <code>PlayListRatings = [10, 9.5, 10, 8, 7.5, 5, 10, 10]</code>\n"
   ]
  },
  {
   "cell_type": "code",
   "execution_count": 22,
   "metadata": {
    "tags": []
   },
   "outputs": [
    {
     "name": "stdout",
     "output_type": "stream",
     "text": [
      "10\n",
      "9.5\n",
      "10\n",
      "8\n",
      "7.5\n"
     ]
    }
   ],
   "source": [
    "# Write your code below and press Shift+Enter to execute\n",
    "\n",
    "PlayListRatings = [10, 9.5, 10, 8, 7.5, 5, 10, 10]\n",
    "\n",
    "i=0\n",
    "\n",
    "score=PlayListRatings[0]\n",
    "while(i <len(PlayListRatings) and score>= 6):\n",
    "    print(score)\n",
    "    i=i+1\n",
    "    score=PlayListRatings[i]\n",
    "    \n"
   ]
  },
  {
   "cell_type": "code",
   "execution_count": 23,
   "metadata": {
    "tags": []
   },
   "outputs": [
    {
     "data": {
      "text/plain": [
       "8"
      ]
     },
     "execution_count": 23,
     "metadata": {},
     "output_type": "execute_result"
    }
   ],
   "source": [
    "len(PlayListRatings)"
   ]
  },
  {
   "cell_type": "code",
   "execution_count": 21,
   "metadata": {
    "tags": []
   },
   "outputs": [
    {
     "name": "stdout",
     "output_type": "stream",
     "text": [
      "10\n",
      "9.5\n",
      "10\n",
      "8\n",
      "7.5\n"
     ]
    }
   ],
   "source": [
    "PlayListRatings = [10, 9.5, 10, 8, 7.5, 5, 10, 10]\n",
    "i = 0\n",
    "rating = PlayListRatings[0]\n",
    "while(i < len(PlayListRatings) and rating >= 6):\n",
    "    print(rating)\n",
    "    i = i + 1 \n",
    "    rating = PlayListRatings[i]  "
   ]
  },
  {
   "cell_type": "markdown",
   "metadata": {},
   "source": [
    "<details><summary>Click here for the solution</summary>\n",
    "\n",
    "```python\n",
    "PlayListRatings = [10, 9.5, 10, 8, 7.5, 5, 10, 10]\n",
    "i = 0\n",
    "rating = PlayListRatings[0]\n",
    "while(i < len(PlayListRatings) and rating >= 6):\n",
    "    print(rating)\n",
    "    i = i + 1 \n",
    "    rating = PlayListRatings[i]    \n",
    "```\n",
    "\n",
    "</details>\n"
   ]
  },
  {
   "cell_type": "markdown",
   "metadata": {},
   "source": [
    "Write a while loop to copy the strings <code>'orange'</code> of the list <code>squares</code> to the list <code>new_squares</code>. Stop and exit the loop if the value on the list is not <code>'orange'</code>:\n"
   ]
  },
  {
   "cell_type": "markdown",
   "metadata": {},
   "source": [
    "Écrivez une boucle while pour copier les chaînes <code>'orange'</code> des <code>cases</code> de la liste dans la <code>liste new_squares</code>. Arrêtez et quittez la boucle si la valeur de la liste <code>n’est pas 'orange'</code> :\n"
   ]
  },
  {
   "cell_type": "code",
   "execution_count": 26,
   "metadata": {
    "tags": []
   },
   "outputs": [
    {
     "name": "stdout",
     "output_type": "stream",
     "text": [
      "['orange', 'orange']\n"
     ]
    }
   ],
   "source": [
    "# Write your code below and press Shift+Enter to execute\n",
    "\n",
    "squares = ['orange', 'orange', 'purple', 'blue ', 'orange']\n",
    "new_squares = []\n",
    "\n",
    "i=0\n",
    "\n",
    "while(i < len(squares) and squares[i]== 'orange'):\n",
    "    \n",
    "    new_squares.append(squares[i])\n",
    "    i=i+1\n",
    "print(new_squares)"
   ]
  },
  {
   "cell_type": "markdown",
   "metadata": {},
   "source": [
    "<details><summary>Click here for the solution</summary>\n",
    "\n",
    "```python\n",
    "squares = ['orange', 'orange', 'purple', 'blue ', 'orange']\n",
    "new_squares = []\n",
    "i = 0\n",
    "while(i < len(squares) and squares[i] == 'orange'):\n",
    "    new_squares.append(squares[i])\n",
    "    i = i + 1\n",
    "print (new_squares)\n",
    "    \n",
    "```\n",
    "\n",
    "</details>\n",
    " \n"
   ]
  },
  {
   "cell_type": "markdown",
   "metadata": {},
   "source": [
    "### Some real-life problems!\n"
   ]
  },
  {
   "cell_type": "markdown",
   "metadata": {},
   "source": [
    "Your little brother has just learned multiplication tables in school. Today he has learned tables of 6 and 7. Help him memorise both the tables by printing them using <code>for</code> loop.\n"
   ]
  },
  {
   "cell_type": "markdown",
   "metadata": {},
   "source": [
    "Votre petit frère vient d’apprendre les tables de multiplication à l’école. Aujourd’hui, il a appris les tables de 6 et 7. Aidez-le à mémoriser les deux tables en les imprimant à l’aide <code>de la boucle for</code>.\n"
   ]
  },
  {
   "cell_type": "code",
   "execution_count": 27,
   "metadata": {
    "tags": []
   },
   "outputs": [
    {
     "name": "stdout",
     "output_type": "stream",
     "text": [
      "Multiplication table of 6:\n",
      "6* 0 = 0\n",
      "6* 1 = 6\n",
      "6* 2 = 12\n",
      "6* 3 = 18\n",
      "6* 4 = 24\n",
      "6* 5 = 30\n",
      "6* 6 = 36\n",
      "6* 7 = 42\n",
      "6* 8 = 48\n",
      "6* 9 = 54\n",
      "Multiplication table of 7:\n",
      "7* 0 = 0\n",
      "7* 1 = 7\n",
      "7* 2 = 14\n",
      "7* 3 = 21\n",
      "7* 4 = 28\n",
      "7* 5 = 35\n",
      "7* 6 = 42\n",
      "7* 7 = 49\n",
      "7* 8 = 56\n",
      "7* 9 = 63\n"
     ]
    }
   ],
   "source": [
    "# Write your code here\n",
    "print(\"Multiplication table of 6:\")\n",
    "for i in range (10):\n",
    "    print(\"6*\",i,\"=\",6*i)\n",
    "print(\"Multiplication table of 7:\")\n",
    "for i in range (10):\n",
    "    print(\"7*\",i,\"=\",7*i)"
   ]
  },
  {
   "cell_type": "markdown",
   "metadata": {},
   "source": [
    "<details><summary>Click here for the hint</summary>\n",
    "\n",
    "Write two for loops. One to print the multiplication table of 6 and the other for 7\n",
    "\n",
    "</details>\n"
   ]
  },
  {
   "cell_type": "markdown",
   "metadata": {},
   "source": [
    "<details><summary>Click here for the solution</summary>\n",
    "\n",
    "```python\n",
    "print(\"Multiplication table of 6:\")\n",
    "for i in range (10):\n",
    "    print(\"6*\",i,\"=\",6*i)\n",
    "print(\"Multiplication table of 7:\")\n",
    "for i in range (10):\n",
    "    print(\"7*\",i,\"=\",7*i)\n",
    "    \n",
    "```\n",
    "\n",
    "</details>\n"
   ]
  },
  {
   "cell_type": "markdown",
   "metadata": {},
   "source": [
    "<hr>\n"
   ]
  },
  {
   "cell_type": "markdown",
   "metadata": {},
   "source": [
    "The following is a list of animals in a National Zoo. \n",
    "<code>Animals = [\"lion\", \"giraffe\", \"gorilla\", \"parrots\", \"crocodile\",\"deer\", \"swan\"]</code>\n",
    "\n",
    "Your brother needs to write an essay on the animals whose names are made of 7 letters. Help him find those animals through a <code>while</code> loop and create a separate list of such animals.\n"
   ]
  },
  {
   "cell_type": "code",
   "execution_count": null,
   "metadata": {},
   "outputs": [],
   "source": [
    "# Write your code here"
   ]
  },
  {
   "cell_type": "markdown",
   "metadata": {},
   "source": [
    "<details><summary>Click here for hint</summary>\n",
    "\n",
    "Use while loop to iterate over the elements of the list. Use if-else statement inside the for loop to check the length of each element and if the length is 7, add the element to a new list.\n",
    "\n",
    "</details>\n"
   ]
  },
  {
   "cell_type": "markdown",
   "metadata": {},
   "source": [
    "<details><summary>Click here for the solution</summary>\n",
    "\n",
    "```python\n",
    "\n",
    "Animals = [\"lion\", \"giraffe\", \"gorilla\", \"parrots\", \"crocodile\",\"deer\", \"swan\"]\n",
    "New = []\n",
    "i=0\n",
    "while i<len(Animals):\n",
    "    j=Animals[i]\n",
    "    if(len(j)==7):\n",
    "        New.append(j)\n",
    "    i=i+1\n",
    "print(New)\n",
    "    \n",
    "```\n",
    "\n",
    "</details>\n"
   ]
  },
  {
   "cell_type": "markdown",
   "metadata": {},
   "source": [
    "<hr>\n",
    "\n",
    "<h3>Congratulations, you have completed lab on loops<h3> \n",
    "<hr>\n"
   ]
  },
  {
   "cell_type": "markdown",
   "metadata": {},
   "source": [
    "## Author\n",
    "\n",
    "<a href=\"https://www.linkedin.com/in/joseph-s-50398b136/\" target=\"_blank\">Joseph Santarcangelo</a>\n",
    "\n",
    "\n",
    "## Other contributors\n",
    "\n",
    "<a href=\"www.linkedin.com/in/jiahui-mavis-zhou-a4537814a\">Mavis Zhou</a>\n",
    "\n",
    "\n",
    "<img src=\"https://cf-courses-data.s3.us.cloud-object-storage.appdomain.cloud/IBMDeveloperSkillsNetwork-PY0101EN-SkillsNetwork/SNIBMfooter.png\" alt=\"\" width=\"\" height=\"\">\n"
   ]
  }
 ],
 "metadata": {
  "kernelspec": {
   "display_name": "Python",
   "language": "python",
   "name": "conda-env-python-py"
  },
  "language_info": {
   "codemirror_mode": {
    "name": "ipython",
    "version": 3
   },
   "file_extension": ".py",
   "mimetype": "text/x-python",
   "name": "python",
   "nbconvert_exporter": "python",
   "pygments_lexer": "ipython3",
   "version": "3.7.12"
  }
 },
 "nbformat": 4,
 "nbformat_minor": 4
}
